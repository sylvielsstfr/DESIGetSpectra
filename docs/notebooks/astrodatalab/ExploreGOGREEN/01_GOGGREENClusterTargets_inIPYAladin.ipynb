{
 "cells": [
  {
   "cell_type": "markdown",
   "id": "ed0ba77f-7b51-4827-91b1-96ae40e724aa",
   "metadata": {},
   "source": [
    "# GOCGEEN Targets with ipyaladin\n",
    "\n",
    "- author Sylvie Dagoret-Campagne\n",
    "- creation date : 2025-01-04\n",
    "- last update : 2025-01-04\n",
    "\n",
    "- inspired ffrom https://github.com/cds-astro/tutorials/blob/master/Past_Conferences_and_Schools/2024-11-14_ADASS/ADASS2024_ipyaladin_demo.ipynb\n",
    "\n",
    "### Useful links\n",
    "\n",
    "- [ipyaladin's documentation](https://cds-astro.github.io/ipyaladin/)\n",
    "- [ipyaladin widgets function](https://cds-astro.github.io/ipyaladin/_collections/notebooks/03_Functions.html)\n",
    "- [CDS's reporitory of tutorials](https://github.com/cds-astro/tutorials) (they showcase ipyaladin too)\n",
    "\n",
    "- It may be necessary to access ipyaladin following the instructions here to have the widgets installed : https://github.com/cds-astro/ipyaladin?tab=readme-ov-file#installation\n",
    "\n",
    "> git clone https://github.com/cds-astro/ipyaladin.git\n",
    "> \n",
    "> cd ipyaladin\n",
    "> \n",
    "> npm install\n",
    "> \n",
    "> npm run dev\n",
    "\n",
    "\n",
    "and \n",
    "\n",
    "> pip install sidecar"
   ]
  },
  {
   "cell_type": "code",
   "execution_count": 1,
   "id": "d2113c50-1bc6-47be-882b-17218cf17b54",
   "metadata": {},
   "outputs": [],
   "source": [
    "from ipyaladin import Aladin\n",
    "from sidecar import Sidecar\n",
    "\n",
    "import astropy.units as u\n",
    "from astropy.coordinates import Angle\n",
    "\n",
    "from astropy.coordinates import SkyCoord"
   ]
  },
  {
   "cell_type": "markdown",
   "id": "7c6522b2-9214-41ab-8153-28f7b9bafaf1",
   "metadata": {},
   "source": [
    "## 1. Configuration of Aladin"
   ]
  },
  {
   "cell_type": "code",
   "execution_count": 2,
   "id": "78ffa525-940a-4ecb-b298-1b82e46899d1",
   "metadata": {},
   "outputs": [],
   "source": [
    "aladin = Aladin()\n",
    "with Sidecar(title=\"aladin_output\"):\n",
    "    display(aladin)"
   ]
  },
  {
   "cell_type": "code",
   "execution_count": 3,
   "id": "9f065f96-a5f1-4ea6-b7bf-e492444a9daf",
   "metadata": {},
   "outputs": [],
   "source": [
    "# select the FOV of Auxtel (6.7 arcmin)\n",
    "aladin.fov = Angle(10 * u.arcmin)"
   ]
  },
  {
   "cell_type": "markdown",
   "id": "e8e14fe3-19fe-4a36-977d-a8883256610c",
   "metadata": {},
   "source": [
    "Now that the widget is opened on the side, we can resize the window as needed.\n",
    "The view can be zoomed in and out, or panned. This is a fully functionnal [Aladin Lite](https://github.com/cds-astro/aladin-lite) instance!\n",
    "\n",
    "## 2. Communication between python and ipyaladin\n",
    "\n",
    "The added benefit here is that it is connected to the python kernel. We can send information from `ipyaladin` to Python and *vice-versa*."
   ]
  },
  {
   "cell_type": "code",
   "execution_count": 4,
   "id": "089b4bd0-82d5-4a9c-8339-bd454b29b5ec",
   "metadata": {},
   "outputs": [],
   "source": [
    "coo_perseus = SkyCoord.from_name(\"Perseus Cluster\")\n",
    "aladin.target = coo_perseus"
   ]
  },
  {
   "cell_type": "markdown",
   "id": "dfc5dad0-09c3-4a50-ac5f-efb351fc1a4e",
   "metadata": {},
   "source": [
    "### GOCGREEN cluster Targets"
   ]
  },
  {
   "cell_type": "code",
   "execution_count": null,
   "id": "8bec13cd-eb84-4b2e-9b44-bb138bb1c323",
   "metadata": {},
   "outputs": [],
   "source": [
    "aladin.target = \"HD2811\""
   ]
  },
  {
   "cell_type": "code",
   "execution_count": null,
   "id": "bc2fb25c-bf35-4163-b643-7c2ce266e0de",
   "metadata": {},
   "outputs": [],
   "source": [
    "aladin.target = \"HD14943\""
   ]
  },
  {
   "cell_type": "code",
   "execution_count": null,
   "id": "06ac3695-0c71-47df-9664-76d97837a149",
   "metadata": {},
   "outputs": [],
   "source": [
    "aladin.target = \"HD009051\""
   ]
  },
  {
   "cell_type": "code",
   "execution_count": null,
   "id": "1a4745dc-11da-4a8b-aeb5-ff0e1832a4b3",
   "metadata": {},
   "outputs": [],
   "source": [
    "aladin.target = \"HD031128\""
   ]
  },
  {
   "cell_type": "code",
   "execution_count": null,
   "id": "6189be93-28fd-4cf3-b9a1-ce58bfdb7aff",
   "metadata": {},
   "outputs": [],
   "source": [
    "coo_target = SkyCoord.from_name(\"LAM LEP\")\n",
    "aladin.target = coo_target"
   ]
  },
  {
   "cell_type": "code",
   "execution_count": null,
   "id": "d901d1fe-567c-4e5d-9200-6ef6863a06a5",
   "metadata": {},
   "outputs": [],
   "source": [
    "aladin.target = \"HD37962\""
   ]
  },
  {
   "cell_type": "code",
   "execution_count": null,
   "id": "794c09f8-c20e-45c9-9537-01173431e85c",
   "metadata": {},
   "outputs": [],
   "source": [
    "coo_target = SkyCoord.from_name(\"mu. Col\")\n",
    "aladin.target = coo_target"
   ]
  },
  {
   "cell_type": "code",
   "execution_count": null,
   "id": "32c85f32-c818-4b83-8445-1f9f7d50617c",
   "metadata": {},
   "outputs": [],
   "source": [
    "aladin.target = \"HD38949\""
   ]
  },
  {
   "cell_type": "code",
   "execution_count": null,
   "id": "7a59cadb-c1f3-4485-bfb6-a4b104048f3b",
   "metadata": {},
   "outputs": [],
   "source": [
    "coo_target = SkyCoord.from_name(\"eta01 Dor\")\n",
    "aladin.target = coo_target"
   ]
  },
  {
   "cell_type": "code",
   "execution_count": null,
   "id": "6af3fd1c-90b2-4936-b151-2c0dedf59ad5",
   "metadata": {},
   "outputs": [],
   "source": [
    "aladin.target = \"HD60753\""
   ]
  },
  {
   "cell_type": "code",
   "execution_count": null,
   "id": "2f4f472d-25df-4196-acb2-d7ca8ef4b7a6",
   "metadata": {},
   "outputs": [],
   "source": [
    "aladin.target = \"HD074000\""
   ]
  },
  {
   "cell_type": "code",
   "execution_count": null,
   "id": "2a8f5572-02f7-4e73-9f7f-e95c71282e65",
   "metadata": {},
   "outputs": [],
   "source": [
    "aladin.target = \"HD111980\""
   ]
  },
  {
   "cell_type": "code",
   "execution_count": null,
   "id": "b7c7c994-d334-4b00-90c1-73f521c07c63",
   "metadata": {},
   "outputs": [],
   "source": [
    "aladin.target = \"HD115169\""
   ]
  },
  {
   "cell_type": "code",
   "execution_count": null,
   "id": "e2602e54-7b6d-4167-b6b5-298759ad0fe0",
   "metadata": {},
   "outputs": [],
   "source": [
    "coo_target = SkyCoord.from_name(\"BD-11 3759\")\n",
    "aladin.target = coo_target"
   ]
  },
  {
   "cell_type": "code",
   "execution_count": null,
   "id": "83151b5a-74da-4a13-9387-83b453093c4c",
   "metadata": {},
   "outputs": [],
   "source": [
    "aladin.target = \"HD142331\""
   ]
  },
  {
   "cell_type": "code",
   "execution_count": null,
   "id": "920c9b9f-27b3-4f0f-84e6-5e84737f323f",
   "metadata": {},
   "outputs": [],
   "source": [
    "coo_target = SkyCoord.from_name(\"18 SCO\")\n",
    "aladin.target = coo_target"
   ]
  },
  {
   "cell_type": "code",
   "execution_count": null,
   "id": "e2d8359d-8eaf-42ca-bf7e-b107116d6599",
   "metadata": {},
   "outputs": [],
   "source": [
    "aladin.target = \"HD160617\""
   ]
  },
  {
   "cell_type": "code",
   "execution_count": null,
   "id": "e508c82d-b677-44cc-a976-cff830451488",
   "metadata": {},
   "outputs": [],
   "source": [
    "aladin.target = \"HD167060\""
   ]
  },
  {
   "cell_type": "code",
   "execution_count": null,
   "id": "3a665561-d89f-42a8-aae2-eea085cd2bdc",
   "metadata": {},
   "outputs": [],
   "source": [
    "aladin.target = \"HD185975\""
   ]
  },
  {
   "cell_type": "code",
   "execution_count": null,
   "id": "22bda422-dc21-4889-8f26-b9d868412ce1",
   "metadata": {},
   "outputs": [],
   "source": [
    "aladin.target = \"HD200654\""
   ]
  },
  {
   "cell_type": "code",
   "execution_count": null,
   "id": "905eebdd-ed59-4f13-92a2-271288776e53",
   "metadata": {},
   "outputs": [],
   "source": [
    "aladin.target = \"HD205905\""
   ]
  },
  {
   "cell_type": "code",
   "execution_count": null,
   "id": "abddadd3-752a-42a4-ab62-53a742245ced",
   "metadata": {},
   "outputs": [],
   "source": [
    "estimated_dimension = aladin.fov\n",
    "estimated_dimension"
   ]
  }
 ],
 "metadata": {
  "kernelspec": {
   "display_name": "conda_py313",
   "language": "python",
   "name": "conda_py313"
  },
  "language_info": {
   "codemirror_mode": {
    "name": "ipython",
    "version": 3
   },
   "file_extension": ".py",
   "mimetype": "text/x-python",
   "name": "python",
   "nbconvert_exporter": "python",
   "pygments_lexer": "ipython3",
   "version": "3.13.1"
  }
 },
 "nbformat": 4,
 "nbformat_minor": 5
}
