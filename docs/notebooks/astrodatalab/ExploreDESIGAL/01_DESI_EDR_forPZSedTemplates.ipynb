{
 "cells": [
  {
   "cell_type": "code",
   "execution_count": 1,
   "id": "0f95802f",
   "metadata": {
    "tags": []
   },
   "outputs": [],
   "source": [
    "__nbid__ = '0001'\n",
    "__author__ = 'Sylvie Dagoret-Campagne <sylvie.dagoret-campagne@ijclab.in2p3.fr>'\n",
    "__version__ = '20241229' # yyyymmdd\n",
    "__datasets__ = ['desi_edr']  \n",
    "__keywords__ = ['sparcl', 'spectra', 'database']"
   ]
  },
  {
   "cell_type": "markdown",
   "id": "89c57f8a",
   "metadata": {},
   "source": [
    "# Access to DESI Spectra for PZ SED Templates\n",
    "\n",
    "Inspired from astro datalab Noirlab notebooks"
   ]
  },
  {
   "cell_type": "markdown",
   "id": "9e4ae9a5",
   "metadata": {},
   "source": [
    "<a class=\"anchor\" id=\"import\"></a>\n",
    "# Imports\n",
    "\n",
    "Note in this version we avoid special **desitarget** and **desiutil** tools\n",
    "We only use **sparcl** to retrieve spectra"
   ]
  },
  {
   "cell_type": "code",
   "execution_count": 26,
   "id": "ab6462e6",
   "metadata": {
    "tags": []
   },
   "outputs": [],
   "source": [
    "## import some helpful python packages \n",
    "import numpy as np\n",
    "import pandas as pd\n",
    "\n",
    "from astropy.table import Table\n",
    "from astropy.convolution import convolve, Gaussian1DKernel\n",
    "\n",
    "import matplotlib \n",
    "import matplotlib.pyplot as plt\n",
    "\n",
    "%matplotlib inline\n",
    "\n",
    "## Data Lab related modules\n",
    "from sparcl.client import SparclClient\n",
    "from dl import queryClient as qc, authClient as ac\n",
    "from getpass import getpass"
   ]
  },
  {
   "cell_type": "code",
   "execution_count": 42,
   "id": "c7e39af6-b833-423c-a5cb-4f5d3c8c70e3",
   "metadata": {
    "tags": []
   },
   "outputs": [],
   "source": [
    "import astropy.units as u"
   ]
  },
  {
   "cell_type": "code",
   "execution_count": 56,
   "id": "41bcad7b-5d8f-4802-90e1-583cd081c7c5",
   "metadata": {
    "tags": []
   },
   "outputs": [],
   "source": [
    "#F0AB = 3631*(1*u.Jy).cgs.value\n",
    "F0AB = 3631*(1*u.Jy)"
   ]
  },
  {
   "cell_type": "markdown",
   "id": "4cb4a75d-5636-4b08-8efb-c375c1d0fc1f",
   "metadata": {},
   "source": [
    "<a class=\"anchor\" id=\"auth\"></a>\n",
    "# Authentication\n",
    "If you need to log in to Data Lab, un-comment the cell below and execute it:"
   ]
  },
  {
   "cell_type": "code",
   "execution_count": 3,
   "id": "c56a3203-603b-454e-b17b-b2eaf934b844",
   "metadata": {
    "tags": []
   },
   "outputs": [
    {
     "data": {
      "text/plain": [
       "'sdagoret'"
      ]
     },
     "execution_count": 3,
     "metadata": {},
     "output_type": "execute_result"
    }
   ],
   "source": [
    "#token = ac.login(input(\"Enter user name: (+ENTER) \"),getpass(\"Enter password: (+ENTER) \"))\n",
    "ac.whoAmI()"
   ]
  },
  {
   "cell_type": "code",
   "execution_count": 4,
   "id": "e8c45200",
   "metadata": {
    "tags": []
   },
   "outputs": [],
   "source": [
    "## Making the matplotlib plots look nicer\n",
    "settings = {\n",
    "    'font.size':22,\n",
    "    'axes.linewidth':3.0,\n",
    "    'xtick.major.size':6.0,\n",
    "    'xtick.minor.size':4.0,\n",
    "    'xtick.major.width':3.0,\n",
    "    'xtick.minor.width':1.5,\n",
    "    'xtick.direction':'in', \n",
    "    'xtick.minor.visible':True,\n",
    "    'xtick.top':True,\n",
    "    'ytick.major.size':6.0,\n",
    "    'ytick.minor.size':4.0,\n",
    "    'ytick.major.width':3.0,\n",
    "    'ytick.minor.width':1.5,\n",
    "    'ytick.direction':'in', \n",
    "    'ytick.minor.visible':True,\n",
    "    'ytick.right':True\n",
    "}\n",
    "\n",
    "plt.rcParams.update(**settings)"
   ]
  },
  {
   "cell_type": "code",
   "execution_count": 5,
   "id": "13f3d8d2",
   "metadata": {
    "tags": []
   },
   "outputs": [],
   "source": [
    "## Instantiate SPARCL Client\n",
    "client = SparclClient()"
   ]
  },
  {
   "cell_type": "markdown",
   "id": "d00a0ab6",
   "metadata": {},
   "source": [
    "<a class=\"anchor\" id=\"desi_edr\"></a>\n",
    "# DESI EDR database\n",
    "\n",
    "The `desi_edr` database schema at Data Lab consists of several tables associated with the targets."
   ]
  },
  {
   "cell_type": "code",
   "execution_count": 6,
   "id": "38c03be2",
   "metadata": {
    "tags": []
   },
   "outputs": [
    {
     "name": "stdout",
     "output_type": "stream",
     "text": [
      "\n",
      "Schema: desi_edr\n",
      "\n",
      "      Table Name   Description\n",
      "      ----------   -----------\n",
      "        exposure   Summary quantities for every DESI exposure\n",
      "     fiberassign   Quantities obtained when a DESI target is assigned to a fiber\n",
      "           frame   Summary quantities for each petal of the DESI instrument i\n",
      "                   n a given exposure; in normal operation there are ten fram\n",
      "                   es for every exposure\n",
      "      photometry   Photometric quantities from LS DR9 for every TARGETID\n",
      "       potential   For a given tile, this table lists all targets that could \n",
      "                   have received a fiber assignment\n",
      "          target   The quantities obtained when photometric objects are analy\n",
      "                   zed in the target selection process\n",
      "            tile   Summary quantities for every DESI tile (pointing on the sky)\n",
      "x1p5__zpix__allwise__source   desi_edr.zpix and xmatch_std.allwise__source crossmatch (1\n",
      "                   .5 arcsec)\n",
      "x1p5__zpix__gaia_dr3__gaia_source   desi_edr.zpix and xmatch_std.gaia_dr3__gaia_source crossma\n",
      "                   tch (1.5 arcsec)\n",
      "x1p5__zpix__nsc_dr2__object   desi_edr.zpix and xmatch_std.nsc_dr2__object crossmatch (1\n",
      "                   .5 arcsec)\n",
      "x1p5__zpix__sdss_dr17__specobj   desi_edr.zpix and xmatch_std.sdss_dr17__specobj crossmatch\n",
      "                   (1.5 arcsec)\n",
      "x1p5__zpix__unwise_dr1__object   desi_edr.zpix and xmatch_std.unwise_dr1__object crossmatch\n",
      "                   (1.5 arcsec)\n",
      "            zpix   Redshift and other quantities for spectra that have been g\n",
      "                   rouped and coadded by HEALPixel\n",
      "           ztile   Redshift and other quantities for spectra that have been g\n",
      "                   rouped and coadded by tile\n",
      "\n"
     ]
    }
   ],
   "source": [
    "print(qc.schema('desi_edr'))"
   ]
  },
  {
   "cell_type": "markdown",
   "id": "86758a28",
   "metadata": {},
   "source": [
    "We focus on the `photometry` and `zpix` table in this notebook, which is the main redshift catalog from the DESI survey. It contains the redshift information from the coadded-spectra, based on the healpix of the objects.\n",
    "\n",
    "We look at the available columns in this table."
   ]
  },
  {
   "cell_type": "markdown",
   "id": "117e944a-5e8e-4975-8d86-c1d578c8044f",
   "metadata": {},
   "source": [
    "### Photometry table"
   ]
  },
  {
   "cell_type": "code",
   "execution_count": 16,
   "id": "3c7ca927-fcd0-4405-a2b2-048574d34a5f",
   "metadata": {
    "tags": []
   },
   "outputs": [
    {
     "name": "stdout",
     "output_type": "stream",
     "text": [
      "\n",
      "Schema: desi_edr\n",
      " Table: photometry\n",
      "\n",
      "     Column Name   Description\n",
      "     -----------   -----------\n",
      "              ra   Right ascension\n",
      "             dec   Declination\n",
      "            elon   Ecliptic longitude\n",
      "            elat   Ecliptic latitude\n",
      "            glon   Galactic longitude\n",
      "            glat   Galactic latitude\n",
      "           ls_id   Unique Legacy Survey object ID\n",
      "          ref_id   Tyc1*1000000+Tyc2*10+Tyc3 for Tycho-2; sourceid for Gaia DR2\n",
      "        targetid   Unique DESI target ID\n",
      "         ra_ivar   Right ascension inverse variance\n",
      "        dec_ivar   Declination inverse variance\n",
      "      dchisq_psf   Difference in chi-squared between PSF (stellar) Tractor mo\n",
      "                   del fits\n",
      "      dchisq_rex   Difference in chi-squared between REX (round exponential g\n",
      "                   alaxy) Tractor model fits\n",
      "      dchisq_dev   Difference in chi-squared between DEV (deVauc) Tractor mod\n",
      "                   el fits\n",
      "      dchisq_exp   Difference in chi-squared between EXP (exponential) Tracto\n",
      "                   r model fits\n",
      "      dchisq_ser   Difference in chi-squared between SER (Sersic) Tractor mod\n",
      "                   el fits\n",
      "             ebv   Galactic extinction E(B-V) reddening from SFD98\n",
      "          flux_g   Flux in the Legacy Survey g-band (AB)\n",
      "          flux_r   Flux in the Legacy Survey r-band (AB)\n",
      "          flux_z   Flux in the Legacy Survey z-band (AB)\n",
      "     flux_ivar_g   Inverse variance of FLUX_G (AB)\n",
      "     flux_ivar_r   Inverse variance of FLUX_R (AB)\n",
      "     flux_ivar_z   Inverse variance of FLUX_Z (AB)\n",
      "mw_transmission_g   Milky Way dust transmission in LS g-band\n",
      "mw_transmission_r   Milky Way dust transmission in LS r-band\n",
      "mw_transmission_z   Milky Way dust transmission in LS z-band\n",
      "      fracflux_g   Profile-weighted fraction of the flux from other sources d\n",
      "                   ivided by the total flux in g (typically [0,1])\n",
      "      fracflux_r   Profile-weighted fraction of the flux from other sources d\n",
      "                   ivided by the total flux in r (typically [0,1])\n",
      "      fracflux_z   Profile-weighted fraction of the flux from other sources d\n",
      "                   ivided by the total flux in z (typically [0,1])\n",
      "    fracmasked_g   Profile-weighted fraction of pixels masked from all observ\n",
      "                   ations of this object in g, strictly between [0,1]\n",
      "    fracmasked_r   Profile-weighted fraction of pixels masked from all observ\n",
      "                   ations of this object in r, strictly between [0,1]\n",
      "    fracmasked_z   Profile-weighted fraction of pixels masked from all observ\n",
      "                   ations of this object in z, strictly between [0,1]\n",
      "        fracin_g   Fraction of a sources flux within the blob in g, near unit\n",
      "                   y for real sources\n",
      "        fracin_r   Fraction of a sources flux within the blob in r, near unit\n",
      "                   y for real sources\n",
      "        fracin_z   Fraction of a sources flux within the blob in z, near unit\n",
      "                   y for real sources\n",
      "      psfdepth_g   PSF-based depth in g-band\n",
      "      psfdepth_r   PSF-based depth in r-band\n",
      "      psfdepth_z   PSF-based depth in z-band\n",
      "      galdepth_g   Galaxy model-based depth in Legacy Survey g-band\n",
      "      galdepth_r   Galaxy model-based depth in Legacy Survey r-band\n",
      "      galdepth_z   Galaxy model-based depth in Legacy Survey z-band\n",
      "         flux_w1   WISE flux in W1 (AB)\n",
      "         flux_w2   WISE flux in W2 (AB)\n",
      "         flux_w3   WISE flux in W3 (AB)\n",
      "         flux_w4   WISE flux in W4 (AB)\n",
      "    flux_ivar_w1   Inverse variance of FLUX_W1 (AB)\n",
      "    flux_ivar_w2   Inverse variance of FLUX_W2 (AB)\n",
      "    flux_ivar_w3   Inverse variance of FLUX_W3 (AB)\n",
      "    flux_ivar_w4   Inverse variance of FLUX_W4 (AB)\n",
      "mw_transmission_w1   Milky Way dust transmission in WISE W1\n",
      "mw_transmission_w2   Milky Way dust transmission in WISE W2\n",
      "mw_transmission_w3   Milky Way dust transmission in WISE W3\n",
      "mw_transmission_w4   Milky Way dust transmission in WISE W4\n",
      "     fiberflux_g   Predicted g-band flux within a fiber of diameter 1.5 arcse\n",
      "                   c from this object in 1 arcsec Gaussian seeing\n",
      "     fiberflux_r   Predicted r-band flux within a fiber of diameter 1.5 arcse\n",
      "                   c from this object in 1 arcsec Gaussian seeing\n",
      "     fiberflux_z   Predicted z-band flux within a fiber of diameter 1.5 arcse\n",
      "                   c from this object in 1 arcsec Gaussian seeing\n",
      "  fibertotflux_g   Predicted g-band flux within a fiber of diameter 1.5 arcse\n",
      "                   c from all sources at this location in 1 arcsec Gaussian s\n",
      "                   eeing\n",
      "  fibertotflux_r   Predicted r-band flux within a fiber of diameter 1.5 arcse\n",
      "                   c from all sources at this location in 1 arcsec Gaussian s\n",
      "                   eeing\n",
      "  fibertotflux_z   Predicted z-band flux within a fiber of diameter 1.5 arcse\n",
      "                   c from all sources at this location in 1 arcsec Gaussian s\n",
      "                   eeing\n",
      "       ref_epoch   Reference epoch for Gaia/Tycho astrometry. Typically 2015.\n",
      "                   5 for Gaia\n",
      "         shape_r   Half-light radius of galaxy model (>0)\n",
      "        shape_e1   Ellipticity component 1 of galaxy model for galaxy type MO\n",
      "                   RPHTYPE\n",
      "        shape_e2   Ellipticity component 2 of galaxy model for galaxy type MO\n",
      "                   RPHTYPE\n",
      "    shape_r_ivar   Inverse variance of SHAPE_R\n",
      "   shape_e1_ivar   Inverse variance of SHAPE_E1\n",
      "   shape_e2_ivar   Inverse variance of SHAPE_E2\n",
      "          sersic   Power-law index for the Sersic profile model (MORPHTYPE=SER)\n",
      "     sersic_ivar   Inverse variance of SERSIC\n",
      "gaia_phot_g_mean_mag   Gaia G band magnitude\n",
      "gaia_phot_g_mean_flux_over_error   Gaia G band signal-to-noise\n",
      "gaia_phot_bp_mean_mag   Gaia BP band magnitude\n",
      "gaia_phot_bp_mean_flux_over_error   Gaia BP band signal-to-noise\n",
      "gaia_phot_rp_mean_mag   Gaia RP band magnitude\n",
      "gaia_phot_rp_mean_flux_over_error   Gaia RP band signal-to-noise\n",
      "gaia_phot_bp_rp_excess_factor   Gaia BP/RP excess factor\n",
      "gaia_astrometric_sigma5d_max   Gaia longest semi-major axis of the 5-d error ellipsoid\n",
      "        parallax   Reference catalog parallax\n",
      "   parallax_ivar   Inverse variance of PARALLAX\n",
      "            pmra   Reference catalog proper motion in the RA direction\n",
      "       pmra_ivar   Inverse variance of PMRA\n",
      "           pmdec   Reference catalog proper motion in the Dec direction\n",
      "      pmdec_ivar   Inverse variance of PMDEC\n",
      "       random_id   Random ID in the range 0.0 => 100.0 (not unique)\n",
      "         brickid   Brick ID from Tractor input\n",
      "     brick_objid   Imaging Surveys OBJID on that brick\n",
      "            htm9   Ninth level (~10 arcmin resolution) Hierarchical Triangula\n",
      "                   r Mesh index (Szalay et al. 2007)\n",
      "         ring256   Ring-scheme HEALPix (Gorski et al. 2005) index with Nsides\n",
      "                   =256 (~14 arcmin size)\n",
      "        nest4096   Nested-scheme HEALPix (Gorski et al. 2005) index with Nsid\n",
      "                   es=4096 (~52 arcsec size)\n",
      "         release   Imaging Surveys release ID\n",
      "          nobs_g   Number of images for central pixel in g-band\n",
      "          nobs_r   Number of images for central pixel in r-band\n",
      "          nobs_z   Number of images for central pixel in z-band\n",
      "       allmask_g   Bitwise mask set if the central pixel from all images sati\n",
      "                   sfy each condition in g as cataloged on the LS DR9 bitmask\n",
      "                   s page\n",
      "       allmask_r   Bitwise mask set if the central pixel from all images sati\n",
      "                   sfy each condition in r as cataloged on the LS DR9 bitmask\n",
      "                   s page\n",
      "       allmask_z   Bitwise mask set if the central pixel from all images sati\n",
      "                   sfy each condition in z as cataloged on the LS DR9 bitmask\n",
      "                   s page\n",
      "     wisemask_w1   W1 bitmask as cataloged on the DR9 bitmasks page here http\n",
      "                   s://www.legacysurvey.org/dr9/bitmasks\n",
      "     wisemask_w2   W2 bitmask as cataloged on the DR9 bitmasks page here http\n",
      "                   s://www.legacysurvey.org/dr9/bitmasks\n",
      "        maskbits   Bitwise mask from the imaging indicating potential issue o\n",
      "                   r blending\n",
      "gaia_astrometric_params_solved   Which astrometric parameters were estimated for a Gaia source\n",
      "gaia_duplicated_source   Gaia duplicated source flag\n",
      "         ref_cat   Reference catalog source for star: T2 for Tycho2, G2 for G\n",
      "                   aia DR2, L2 for the SGA, empty otherwise\n",
      "       morphtype   Imaging Surveys morphological type from Tractor\n",
      "       brickname   Brick name from Tractor input\n",
      "\n"
     ]
    }
   ],
   "source": [
    "## Columns in the photometry table\n",
    "print(qc.schema('desi_edr.photometry'))"
   ]
  },
  {
   "cell_type": "markdown",
   "id": "a54caff8-926a-411b-8bca-3ad44228ca68",
   "metadata": {},
   "source": [
    "### zpix table"
   ]
  },
  {
   "cell_type": "code",
   "execution_count": 8,
   "id": "585367a6",
   "metadata": {
    "tags": []
   },
   "outputs": [
    {
     "name": "stdout",
     "output_type": "stream",
     "text": [
      "\n",
      "Schema: desi_edr\n",
      " Table: zpix\n",
      "\n",
      "     Column Name   Description\n",
      "     -----------   -----------\n",
      " tsnr2_gpbdark_r   GPBDARK R template (S/N)^2\n",
      "     tsnr2_elg_r   ELG R template (S/N)^2\n",
      "tsnr2_gpbbright_r   GPBBRIGHT R template (S/N)^2\n",
      "     tsnr2_lya_r   LYA R template (S/N)^2\n",
      "               z   Redshift measured by Redrock\n",
      "            zerr   Redshift error from Redrock\n",
      "            chi2   Best fit chi squared\n",
      "         coeff_0   Redrock template coefficients\n",
      "         coeff_1   Redrock template coefficients\n",
      "         coeff_2   Redrock template coefficients\n",
      "         coeff_3   Redrock template coefficients\n",
      "         coeff_4   Redrock template coefficients\n",
      "         coeff_5   Redrock template coefficients\n",
      "         coeff_6   Redrock template coefficients\n",
      "         coeff_7   Redrock template coefficients\n",
      "         coeff_8   Redrock template coefficients\n",
      "         coeff_9   Redrock template coefficients\n",
      "       deltachi2   Delta-chi-squared for template fit from Redrock\n",
      "   mean_fiber_ra   Mean (over exposures) RA of actual fiber position\n",
      "  mean_fiber_dec   Mean (over exposures) DEC of actual fiber position\n",
      "            elon   Ecliptic longitude\n",
      "            elat   Ecliptic latitude\n",
      "            glon   Galactic longitude\n",
      "            glat   Galactic latitude\n",
      "              id   Arbitrary primary key composed from targetid, survey, program\n",
      "        targetid   Unique DESI target ID\n",
      "   coadd_exptime   Sum of the exposure times contributing to the coadd for th\n",
      "                   is target\n",
      "    mean_delta_x   Mean (over exposures) fiber difference between measured an\n",
      "                   d requested CS5 X location on focal plane\n",
      "     rms_delta_x   RMS (over exposures) of the fiber difference between measu\n",
      "                   red and requested CS5 X location on focal plane\n",
      "    mean_delta_y   Mean (over exposures) fiber difference between measured an\n",
      "                   d requested CS5 Y location on focal plane\n",
      "     rms_delta_y   RMS (over exposures) of the fiber difference between measu\n",
      "                   red and requested CS5 Y location on focal plane\n",
      "    std_fiber_ra   Standard deviation (over exposures) of RA of actual fiber \n",
      "                   position\n",
      "   std_fiber_dec   Standard deviation (over exposures) of DEC of actual fiber\n",
      "                   position\n",
      "mean_psf_to_fiber_specflux   Mean of the PSF_TO_FIBER_SPECFLUX values of the spectra us\n",
      "                   ed in the coadd\n",
      " tsnr2_gpbdark_b   GPBDARK B template (S/N)^2\n",
      "     tsnr2_elg_b   ELG B template (S/N)^2\n",
      "tsnr2_gpbbright_b   GPBBRIGHT B template (S/N)^2\n",
      "     tsnr2_lya_b   LYA B template (S/N)^2\n",
      "     tsnr2_bgs_b   BGS B template (S/N)^2\n",
      "tsnr2_gpbbackup_b   GPBBACKUP B template (S/N)^2\n",
      "     tsnr2_qso_b   QSO B template (S/N)^2\n",
      "     tsnr2_lrg_b   LRG B template (S/N)^2\n",
      "     tsnr2_bgs_r   BGS R template (S/N)^2\n",
      "tsnr2_gpbbackup_r   GPBBACKUP R template (S/N)^2\n",
      "     tsnr2_qso_r   QSO R template (S/N)^2\n",
      "     tsnr2_lrg_r   LRG R template (S/N)^2\n",
      " tsnr2_gpbdark_z   GPBDARK Z template (S/N)^2\n",
      "     tsnr2_elg_z   ELG Z template (S/N)^2\n",
      "tsnr2_gpbbright_z   GPBBRIGHT Z template (S/N)^2\n",
      "     tsnr2_lya_z   LYA Z template (S/N)^2\n",
      "     tsnr2_bgs_z   BGS Z template (S/N)^2\n",
      "tsnr2_gpbbackup_z   GPBBACKUP Z template (S/N)^2\n",
      "     tsnr2_qso_z   QSO Z template (S/N)^2\n",
      "     tsnr2_lrg_z   LRG Z template (S/N)^2\n",
      "   tsnr2_gpbdark   GPBDARK template (S/N)^2 summed over B, R, Z\n",
      "       tsnr2_elg   ELG template (S/N)^2 summed over B, R, Z\n",
      " tsnr2_gpbbright   GPBBRIGHT template (S/N)^2 summed over B, R, Z\n",
      "       tsnr2_lya   LYA template (S/N)^2 summed over B, R, Z\n",
      "       tsnr2_bgs   BGS template (S/N)^2 summed over B, R, Z\n",
      " tsnr2_gpbbackup   GPBBACKUP template (S/N)^2 summed over B, R, Z\n",
      "       tsnr2_qso   QSO template (S/N)^2 summed over B, R, Z\n",
      "       tsnr2_lrg   LRG template (S/N)^2 summed over B, R, Z\n",
      "       random_id   Random ID in the range 0.0 => 100.0 (not unique)\n",
      "        spgrpval   Value corresponding to the grouping type indicated in the \n",
      "                   spgrp column. For zpix table this is the same as the healp\n",
      "                   ix column\n",
      "         healpix   HEALPixel containing this location at NSIDE=64 in the NEST\n",
      "                   ED scheme\n",
      "coadd_fiberstatus   Bitwise AND of the FIBERSTATUS values of the spectra used \n",
      "                   in the coadd\n",
      "            htm9   Ninth level (~10 arcmin resolution) Hierarchical Triangula\n",
      "                   r Mesh index (Szalay et al. 2007)\n",
      "         ring256   Ring-scheme HEALPix (Gorski et al. 2005) index with Nsides\n",
      "                   =256 (~14 arcmin size)\n",
      "        nest4096   Nested-scheme HEALPix (Gorski et al. 2005) index with Nsid\n",
      "                   es=4096 (~52 arcsec size)\n",
      "           zwarn   Redshift warning bitmask measured by Redrock\n",
      "         npixels   Number of unmasked wavelengths that contributed to the red\n",
      "                   shift fit\n",
      "          ncoeff   Number of Redrock template coefficients\n",
      "    coadd_numexp   Number of exposures included in the coadd for this target\n",
      "  coadd_numnight   Number of different nights included in the coadd for this \n",
      "                   target\n",
      "   coadd_numtile   Number of different tiles included in the coadd for this target\n",
      "        sv_nspec   Number of coadded spectra for this TARGETID in SV (SV1+2+3)\n",
      "      main_nspec   Number of coadded spectra for this TARGETID in Main survey\n",
      "      zcat_nspec   Number of coadded spectra for this TARGETID in this zcatalog\n",
      "      sv_primary   Boolean flag (True/False) for the primary coadded spectrum\n",
      "                   in SV (SV1+2+3)\n",
      "    main_primary   Boolean flag (True/False) for the primary coadded spectrum\n",
      "                   in Main survey\n",
      "    zcat_primary   Boolean flag (True/False) for the primary coadded spectrum\n",
      "                   in this zcatalog\n",
      "           spgrp   Type of spectral grouping. For zpix table this is always =\n",
      "                   healpix\n",
      "         subtype   Spectral subtype\n",
      "         program   DESI program type - BRIGHT, DARK, or BACKUP\n",
      "        spectype   Spectype from Redrock file\n",
      "          survey   Survey name\n",
      "      firstnight   KPNO Calendar Date for the first NIGHT of observation coad\n",
      "                   ded into the spectrum\n",
      "       lastnight   KPNO Calendar Date for the last NIGHT of the last observat\n",
      "                   ion coadded into the spectrum\n",
      "        mean_mjd   Mean (over exposures) of the Modified Julian Date (MJD) wh\n",
      "                   en the shutter was opened\n",
      "         min_mjd   Minimum value of the Modified Julian Date (when the shutte\n",
      "                   r was open for the first exposure)\n",
      "         max_mjd   Maximum value of the Modified Julian Date (when the shutte\n",
      "                   r was open for the last exposure, i.e. not including the e\n",
      "                   xposure time)\n",
      "      mws_target   Milky Way Survey targeting bits\n",
      "  sv1_mws_target   MWS (bright time program) target selection bitmask for SV1\n",
      "  sv2_mws_target   MWS (bright time program) target selection bitmask for SV2\n",
      "  sv3_mws_target   MWS (bright time program) target selection bitmask for SV3\n",
      "     scnd_target   Target selection bitmask for secondary programs\n",
      " sv1_scnd_target   Secondary target selection bitmask for SV1\n",
      " sv2_scnd_target   Secondary target selection bitmask for SV2\n",
      " sv3_scnd_target   Secondary target selection bitmask for SV3\n",
      "      bgs_target   BGS (bright time program) target selection bitmask\n",
      "  sv1_bgs_target   BGS (bright time program) target selection bitmask for SV1\n",
      "  sv2_bgs_target   BGS (bright time program) target selection bitmask for SV2\n",
      "  sv3_bgs_target   BGS (bright time program) target selection bitmask for SV3\n",
      "     desi_target   Dark survey + calibration targeting bits\n",
      " sv1_desi_target   DESI (dark time program) target selection bitmask for SV1\n",
      " sv2_desi_target   DESI (dark time program) target selection bitmask for SV2\n",
      " sv3_desi_target   DESI (dark time program) target selection bitmask for SV3\n",
      "      cmx_target   Target selection bitmask for commissioning\n",
      "\n"
     ]
    }
   ],
   "source": [
    "## Columns in the zpix table\n",
    "print(qc.schema('desi_edr.zpix'))"
   ]
  },
  {
   "cell_type": "markdown",
   "id": "a73c8d41",
   "metadata": {},
   "source": [
    "<a class=\"anchor\" id=\"desi_target_access\"></a>\n",
    "# Accessing DESI targets\n",
    "\n",
    "The DESI spectra are uniquely identified by three quantities:\n",
    "\n",
    "* **targetid**: unique identifier for a given target\n",
    "* **survey**: SURVEY that the target was observed in. This can be _cmx_, _special_, _sv1_, _sv2_, or _sv3_.\n",
    "* **program**: FIBER ASSIGNMENT PROGRAM. This is the planned observing conditions for the target. It can be _dark_ or _bright_ or _backup_. In case of _cmx_ and _sv1_, there is _other_ as well.\n",
    "    \n",
    "The different spectra of individual targets are coadded within each survey and program. Therefore, some targets may have multiple coadded spectra and each one is associated with a given `targetid`, `survey`, and `program`. The \"best\" spectrum for a given object is given by the `zcat_primary` column. More information about the data model of the redshift catalogs is available [here](https://desidatamodel.readthedocs.io/en/latest/DESI_SPECTRO_REDUX/SPECPROD/zcatalog/zpix-SURVEY-PROGRAM.html#)."
   ]
  },
  {
   "cell_type": "code",
   "execution_count": 9,
   "id": "3fa52500-3810-486e-ab65-f79080aa0e05",
   "metadata": {
    "tags": []
   },
   "outputs": [],
   "source": [
    "#eg. SELECT (column_1, column_2, ... column_n) FROM T1 JOIN T2 ON (condition) WHERE (condition)"
   ]
  },
  {
   "cell_type": "markdown",
   "id": "3c7b737f-2ffc-4dc4-9524-9865e934771c",
   "metadata": {},
   "source": [
    "To select in two tables\n",
    "\n",
    "```\n",
    "SELECT t1.id, t1.ra, t1.dec, t2.mag, t2.band\n",
    "FROM catalog.table1 AS t1\n",
    "JOIN catalog.table2 AS t2 ON t1.id = t2.id\n",
    "WHERE CONTAINS(POINT('IRCS', t1.ra, t1.dec), CIRCLE('ICRS', 62.123, -37.456 0.002)) = 1\n",
    "```"
   ]
  },
  {
   "cell_type": "code",
   "execution_count": 10,
   "id": "681a52fb",
   "metadata": {
    "tags": []
   },
   "outputs": [],
   "source": [
    "query = \"\"\"\n",
    "SELECT zp.targetid, zp.survey, zp.program, zp.healpix,  \n",
    "       zp.z, zp.zwarn, zp.coadd_fiberstatus, zp.spectype, \n",
    "       zp.mean_fiber_ra, zp.mean_fiber_dec, zp.zcat_nspec, \n",
    "       CAST(zp.zcat_primary as int), zp.desi_target,\n",
    "       zp.sv1_desi_target, zp.sv2_desi_target, zp.sv3_desi_target\n",
    "FROM desi_edr.zpix AS zp\n",
    "\"\"\" \n",
    "\n",
    "## Information about the query\n",
    "## Selected columns --\n",
    "## targetid, survey, program -- unique identifiers for a given spectrum\n",
    "## healpix -- healpix number for the target\n",
    "## z -- spectroscopic redshift of the target\n",
    "## zwarn -- encoded information regarding the redshift (zwarn = 0 is good)\n",
    "## coadd_fiberstatus -- encoded information regarding the fiber that is assigned to the target (coadd_fiberstatus = 0 is good)\n",
    "## spectype -- Spectral type of the target: STAR | GALAXY | QSO\n",
    "## mean_fiber_ra, mean_fiber_dec -- Mean R.A. and Dec. of the fiber position from all the observations of the target\n",
    "## zcat_nspec -- Number of coadded spectra that are available for a given target\n",
    "## zcat_primary -- Whether or not a given coadded spectrum is the primary spectrum. zcat_primary = True for the \"best\" spectrum.\n",
    "## CASTing this column as an INT: zcat_primary = 1 for the \"best\" spectrum.\n",
    "## desi_target -- encodes main survey's DESI targeting information - explained in detail below\n",
    "## sv1_desi_target -- encodes sv1 desi targeting information\n",
    "## sv2_desi_target -- encodes sv2 desi targeting information\n",
    "## sv3_desi_target -- encodes sv3 desi targeting information"
   ]
  },
  {
   "cell_type": "code",
   "execution_count": 17,
   "id": "3179cf11-b25a-49ba-b65d-3df0b888f793",
   "metadata": {
    "tags": []
   },
   "outputs": [],
   "source": [
    "query = \"\"\"\n",
    "SELECT zp.targetid, zp.survey, zp.program, zp.healpix,  \n",
    "       zp.z, zp.zwarn, zp.coadd_fiberstatus, zp.spectype, \n",
    "       zp.mean_fiber_ra, zp.mean_fiber_dec, zp.zcat_nspec, \n",
    "       CAST(zp.zcat_primary as int), zp.desi_target,\n",
    "       zp.sv1_desi_target, zp.sv2_desi_target, zp.sv3_desi_target,\n",
    "       ph.ra,ph.dec, ph.morphtype,\n",
    "       ph.flux_g,ph.flux_r, ph.flux_z, ph.flux_ivar_g, ph.flux_ivar_r,ph.flux_ivar_z,\n",
    "       ph.flux_w1, ph.flux_w2, ph.flux_w3, ph.flux_w4, \n",
    "       ph.flux_ivar_w1, ph.flux_ivar_w2, ph.flux_ivar_w3, ph.flux_ivar_w4   \n",
    "FROM desi_edr.zpix AS zp JOIN desi_edr.photometry AS ph ON (zp.targetid = ph.targetid)\n",
    "\"\"\" "
   ]
  },
  {
   "cell_type": "code",
   "execution_count": 18,
   "id": "99db999f",
   "metadata": {
    "tags": []
   },
   "outputs": [
    {
     "name": "stdout",
     "output_type": "stream",
     "text": [
      "\n",
      "SELECT zp.targetid, zp.survey, zp.program, zp.healpix,  \n",
      "       zp.z, zp.zwarn, zp.coadd_fiberstatus, zp.spectype, \n",
      "       zp.mean_fiber_ra, zp.mean_fiber_dec, zp.zcat_nspec, \n",
      "       CAST(zp.zcat_primary as int), zp.desi_target,\n",
      "       zp.sv1_desi_target, zp.sv2_desi_target, zp.sv3_desi_target,\n",
      "       ph.ra,ph.dec, ph.morphtype,\n",
      "       ph.flux_g,ph.flux_r, ph.flux_z, ph.flux_ivar_g, ph.flux_ivar_r,ph.flux_ivar_z,\n",
      "       ph.flux_w1, ph.flux_w2, ph.flux_w3, ph.flux_w4, \n",
      "       ph.flux_ivar_w1, ph.flux_ivar_w2, ph.flux_ivar_w3, ph.flux_ivar_w4   \n",
      "FROM desi_edr.zpix AS zp JOIN desi_edr.photometry AS ph ON (zp.targetid = ph.targetid)\n",
      "\n"
     ]
    }
   ],
   "source": [
    "print(query)"
   ]
  },
  {
   "cell_type": "code",
   "execution_count": 19,
   "id": "23b75a55",
   "metadata": {
    "tags": []
   },
   "outputs": [],
   "source": [
    "zpix = qc.query(sql = query, fmt = 'table')"
   ]
  },
  {
   "cell_type": "code",
   "execution_count": 20,
   "id": "2e923d7b",
   "metadata": {
    "tags": []
   },
   "outputs": [
    {
     "name": "stdout",
     "output_type": "stream",
     "text": [
      "The resulting table has 2044588 rows\n"
     ]
    },
    {
     "data": {
      "text/html": [
       "<div><i>Table length=5</i>\n",
       "<table id=\"table13712659984\" class=\"table-striped table-bordered table-condensed\">\n",
       "<thead><tr><th>targetid</th><th>survey</th><th>program</th><th>healpix</th><th>z</th><th>zwarn</th><th>coadd_fiberstatus</th><th>spectype</th><th>mean_fiber_ra</th><th>mean_fiber_dec</th><th>zcat_nspec</th><th>zcat_primary</th><th>desi_target</th><th>sv1_desi_target</th><th>sv2_desi_target</th><th>sv3_desi_target</th><th>ra</th><th>dec</th><th>morphtype</th><th>flux_g</th><th>flux_r</th><th>flux_z</th><th>flux_ivar_g</th><th>flux_ivar_r</th><th>flux_ivar_z</th><th>flux_w1</th><th>flux_w2</th><th>flux_w3</th><th>flux_w4</th><th>flux_ivar_w1</th><th>flux_ivar_w2</th><th>flux_ivar_w3</th><th>flux_ivar_w4</th></tr></thead>\n",
       "<thead><tr><th>int64</th><th>str7</th><th>str6</th><th>int64</th><th>float64</th><th>int64</th><th>int64</th><th>str6</th><th>float64</th><th>float64</th><th>int64</th><th>int64</th><th>int64</th><th>int64</th><th>int64</th><th>int64</th><th>float64</th><th>float64</th><th>str4</th><th>float64</th><th>float64</th><th>float64</th><th>float64</th><th>float64</th><th>float64</th><th>float64</th><th>float64</th><th>float64</th><th>float64</th><th>float64</th><th>float64</th><th>float64</th><th>float64</th></tr></thead>\n",
       "<tr><td>6432023904256</td><td>sv1</td><td>dark</td><td>28473</td><td>-0.0019956912923479522</td><td>1570</td><td>512</td><td>STAR</td><td>179.44762</td><td>27.676514</td><td>1</td><td>1</td><td>0</td><td>4611686018427387904</td><td>0</td><td>0</td><td>179.44416</td><td>27.6589</td><td>--</td><td>0.0</td><td>0.0</td><td>0.0</td><td>0.0</td><td>0.0</td><td>0.0</td><td>0.0</td><td>0.0</td><td>0.0</td><td>0.0</td><td>0.0</td><td>0.0</td><td>0.0</td><td>0.0</td></tr>\n",
       "<tr><td>6448025174016</td><td>sv1</td><td>dark</td><td>28478</td><td>0.022190569941649994</td><td>0</td><td>0</td><td>GALAXY</td><td>179.1566</td><td>28.423487</td><td>1</td><td>1</td><td>0</td><td>4611686018427387904</td><td>0</td><td>0</td><td>179.15657</td><td>28.4234799</td><td>--</td><td>0.0</td><td>0.0</td><td>0.0</td><td>0.0</td><td>0.0</td><td>0.0</td><td>0.0</td><td>0.0</td><td>0.0</td><td>0.0</td><td>0.0</td><td>0.0</td><td>0.0</td><td>0.0</td></tr>\n",
       "<tr><td>6515536691200</td><td>sv1</td><td>dark</td><td>4958</td><td>0.5364068034833155</td><td>4</td><td>0</td><td>GALAXY</td><td>142.94812</td><td>31.824783</td><td>1</td><td>1</td><td>0</td><td>4611686018427387904</td><td>0</td><td>0</td><td>142.94811</td><td>31.82478</td><td>--</td><td>0.0</td><td>0.0</td><td>0.0</td><td>0.0</td><td>0.0</td><td>0.0</td><td>0.0</td><td>0.0</td><td>0.0</td><td>0.0</td><td>0.0</td><td>0.0</td><td>0.0</td><td>0.0</td></tr>\n",
       "<tr><td>6521555517440</td><td>sv1</td><td>dark</td><td>10436</td><td>0.010017642879535897</td><td>0</td><td>0</td><td>GALAXY</td><td>204.2275</td><td>32.094933</td><td>1</td><td>1</td><td>0</td><td>4611686018427387904</td><td>0</td><td>0</td><td>204.22749</td><td>32.09493</td><td>--</td><td>0.0</td><td>0.0</td><td>0.0</td><td>0.0</td><td>0.0</td><td>0.0</td><td>0.0</td><td>0.0</td><td>0.0</td><td>0.0</td><td>0.0</td><td>0.0</td><td>0.0</td><td>0.0</td></tr>\n",
       "<tr><td>6536638234624</td><td>sv1</td><td>dark</td><td>28534</td><td>0.07641158065394126</td><td>0</td><td>0</td><td>GALAXY</td><td>186.27412</td><td>32.84502</td><td>1</td><td>1</td><td>0</td><td>4611686018427387904</td><td>0</td><td>0</td><td>186.274119</td><td>32.84503</td><td>--</td><td>0.0</td><td>0.0</td><td>0.0</td><td>0.0</td><td>0.0</td><td>0.0</td><td>0.0</td><td>0.0</td><td>0.0</td><td>0.0</td><td>0.0</td><td>0.0</td><td>0.0</td><td>0.0</td></tr>\n",
       "</table></div>"
      ],
      "text/plain": [
       "<Table length=5>\n",
       "   targetid   survey program healpix           z            ... flux_w4 flux_ivar_w1 flux_ivar_w2 flux_ivar_w3 flux_ivar_w4\n",
       "    int64      str7    str6   int64         float64         ... float64   float64      float64      float64      float64   \n",
       "------------- ------ ------- ------- ---------------------- ... ------- ------------ ------------ ------------ ------------\n",
       "6432023904256    sv1    dark   28473 -0.0019956912923479522 ...     0.0          0.0          0.0          0.0          0.0\n",
       "6448025174016    sv1    dark   28478   0.022190569941649994 ...     0.0          0.0          0.0          0.0          0.0\n",
       "6515536691200    sv1    dark    4958     0.5364068034833155 ...     0.0          0.0          0.0          0.0          0.0\n",
       "6521555517440    sv1    dark   10436   0.010017642879535897 ...     0.0          0.0          0.0          0.0          0.0\n",
       "6536638234624    sv1    dark   28534    0.07641158065394126 ...     0.0          0.0          0.0          0.0          0.0"
      ]
     },
     "execution_count": 20,
     "metadata": {},
     "output_type": "execute_result"
    }
   ],
   "source": [
    "print(f\"The resulting table has {len(zpix)} rows\")\n",
    "zpix[0:5]"
   ]
  },
  {
   "cell_type": "code",
   "execution_count": 21,
   "id": "74b579e4",
   "metadata": {
    "tags": []
   },
   "outputs": [
    {
     "name": "stdout",
     "output_type": "stream",
     "text": [
      "Total N(rows) : 2044588\n",
      "N(rows) with unique TARGETIDs : 1979269\n",
      "N(rows) with ZCAT_PRIMARY=True : 1979269\n"
     ]
    }
   ],
   "source": [
    "# Check how many rows have unique TARGETIDs before/after applying the ZCAT_PRIMARY flag\n",
    "print(f\"Total N(rows) : {len(zpix)}\")\n",
    "print(f\"N(rows) with unique TARGETIDs : {len(np.unique(zpix['targetid']))}\")\n",
    "\n",
    "is_primary = (zpix['zcat_primary']==1)\n",
    "\n",
    "print(f\"N(rows) with ZCAT_PRIMARY=True : {len(zpix[is_primary])}\")"
   ]
  },
  {
   "cell_type": "code",
   "execution_count": 22,
   "id": "5aecc959",
   "metadata": {
    "tags": []
   },
   "outputs": [],
   "source": [
    "## Selecting only unique objects\n",
    "zpix_cat = zpix[is_primary]"
   ]
  },
  {
   "cell_type": "code",
   "execution_count": 27,
   "id": "0cbcfb28-6a76-4be3-bb1a-fc904fd82dcd",
   "metadata": {
    "tags": []
   },
   "outputs": [
    {
     "data": {
      "text/plain": [
       "astropy.table.table.Table"
      ]
     },
     "execution_count": 27,
     "metadata": {},
     "output_type": "execute_result"
    }
   ],
   "source": [
    "type(zpix_cat)"
   ]
  },
  {
   "cell_type": "code",
   "execution_count": 28,
   "id": "f134f701-a22b-4b97-8b76-55c753186cd7",
   "metadata": {
    "tags": []
   },
   "outputs": [],
   "source": [
    "df = zpix_cat.to_pandas()"
   ]
  },
  {
   "cell_type": "code",
   "execution_count": 31,
   "id": "882e7990-4e42-4422-a234-9e650da8d422",
   "metadata": {
    "tags": []
   },
   "outputs": [
    {
     "data": {
      "text/html": [
       "<div>\n",
       "<style scoped>\n",
       "    .dataframe tbody tr th:only-of-type {\n",
       "        vertical-align: middle;\n",
       "    }\n",
       "\n",
       "    .dataframe tbody tr th {\n",
       "        vertical-align: top;\n",
       "    }\n",
       "\n",
       "    .dataframe thead th {\n",
       "        text-align: right;\n",
       "    }\n",
       "</style>\n",
       "<table border=\"1\" class=\"dataframe\">\n",
       "  <thead>\n",
       "    <tr style=\"text-align: right;\">\n",
       "      <th></th>\n",
       "      <th>targetid</th>\n",
       "      <th>healpix</th>\n",
       "      <th>z</th>\n",
       "      <th>zwarn</th>\n",
       "      <th>coadd_fiberstatus</th>\n",
       "      <th>mean_fiber_ra</th>\n",
       "      <th>mean_fiber_dec</th>\n",
       "      <th>zcat_nspec</th>\n",
       "      <th>zcat_primary</th>\n",
       "      <th>desi_target</th>\n",
       "      <th>...</th>\n",
       "      <th>flux_ivar_r</th>\n",
       "      <th>flux_ivar_z</th>\n",
       "      <th>flux_w1</th>\n",
       "      <th>flux_w2</th>\n",
       "      <th>flux_w3</th>\n",
       "      <th>flux_w4</th>\n",
       "      <th>flux_ivar_w1</th>\n",
       "      <th>flux_ivar_w2</th>\n",
       "      <th>flux_ivar_w3</th>\n",
       "      <th>flux_ivar_w4</th>\n",
       "    </tr>\n",
       "  </thead>\n",
       "  <tbody>\n",
       "    <tr>\n",
       "      <th>count</th>\n",
       "      <td>1.979269e+06</td>\n",
       "      <td>1.979269e+06</td>\n",
       "      <td>1.979269e+06</td>\n",
       "      <td>1.979269e+06</td>\n",
       "      <td>1.979269e+06</td>\n",
       "      <td>1.979269e+06</td>\n",
       "      <td>1.979269e+06</td>\n",
       "      <td>1.979269e+06</td>\n",
       "      <td>1979269.0</td>\n",
       "      <td>1.979269e+06</td>\n",
       "      <td>...</td>\n",
       "      <td>1.979269e+06</td>\n",
       "      <td>1.979269e+06</td>\n",
       "      <td>1.979269e+06</td>\n",
       "      <td>1.979269e+06</td>\n",
       "      <td>1.979269e+06</td>\n",
       "      <td>1.979269e+06</td>\n",
       "      <td>1.979269e+06</td>\n",
       "      <td>1.979269e+06</td>\n",
       "      <td>1.979269e+06</td>\n",
       "      <td>1.979269e+06</td>\n",
       "    </tr>\n",
       "    <tr>\n",
       "      <th>mean</th>\n",
       "      <td>1.550168e+17</td>\n",
       "      <td>1.581521e+04</td>\n",
       "      <td>5.171485e-01</td>\n",
       "      <td>9.856214e+01</td>\n",
       "      <td>2.387955e+05</td>\n",
       "      <td>1.954990e+02</td>\n",
       "      <td>3.041136e+01</td>\n",
       "      <td>1.033002e+00</td>\n",
       "      <td>1.0</td>\n",
       "      <td>1.978282e+16</td>\n",
       "      <td>...</td>\n",
       "      <td>1.896657e+02</td>\n",
       "      <td>5.697428e+01</td>\n",
       "      <td>5.595829e+01</td>\n",
       "      <td>4.999907e+01</td>\n",
       "      <td>3.791464e+01</td>\n",
       "      <td>7.232810e+01</td>\n",
       "      <td>3.403558e+00</td>\n",
       "      <td>1.054840e+00</td>\n",
       "      <td>4.609147e-03</td>\n",
       "      <td>5.502543e-05</td>\n",
       "    </tr>\n",
       "    <tr>\n",
       "      <th>std</th>\n",
       "      <td>4.987671e+17</td>\n",
       "      <td>8.719754e+03</td>\n",
       "      <td>5.758931e-01</td>\n",
       "      <td>3.857738e+02</td>\n",
       "      <td>1.437785e+07</td>\n",
       "      <td>5.341941e+01</td>\n",
       "      <td>2.520166e+01</td>\n",
       "      <td>1.886333e-01</td>\n",
       "      <td>0.0</td>\n",
       "      <td>2.948496e+17</td>\n",
       "      <td>...</td>\n",
       "      <td>2.213262e+02</td>\n",
       "      <td>4.513832e+01</td>\n",
       "      <td>1.067184e+04</td>\n",
       "      <td>2.358683e+04</td>\n",
       "      <td>7.256406e+02</td>\n",
       "      <td>4.392629e+03</td>\n",
       "      <td>1.904642e+00</td>\n",
       "      <td>9.402610e-01</td>\n",
       "      <td>1.730217e-02</td>\n",
       "      <td>2.006256e-04</td>\n",
       "    </tr>\n",
       "    <tr>\n",
       "      <th>min</th>\n",
       "      <td>6.432024e+12</td>\n",
       "      <td>6.830000e+02</td>\n",
       "      <td>-5.000000e-03</td>\n",
       "      <td>0.000000e+00</td>\n",
       "      <td>0.000000e+00</td>\n",
       "      <td>2.413598e+00</td>\n",
       "      <td>-3.160238e+01</td>\n",
       "      <td>1.000000e+00</td>\n",
       "      <td>1.0</td>\n",
       "      <td>0.000000e+00</td>\n",
       "      <td>...</td>\n",
       "      <td>-9.900000e+01</td>\n",
       "      <td>-9.900000e+01</td>\n",
       "      <td>-7.369398e+04</td>\n",
       "      <td>-6.415370e+04</td>\n",
       "      <td>-3.011907e+04</td>\n",
       "      <td>-1.250068e+06</td>\n",
       "      <td>0.000000e+00</td>\n",
       "      <td>0.000000e+00</td>\n",
       "      <td>0.000000e+00</td>\n",
       "      <td>0.000000e+00</td>\n",
       "    </tr>\n",
       "    <tr>\n",
       "      <th>25%</th>\n",
       "      <td>3.962785e+16</td>\n",
       "      <td>9.431000e+03</td>\n",
       "      <td>4.912182e-05</td>\n",
       "      <td>0.000000e+00</td>\n",
       "      <td>0.000000e+00</td>\n",
       "      <td>1.730003e+02</td>\n",
       "      <td>2.329435e+00</td>\n",
       "      <td>1.000000e+00</td>\n",
       "      <td>1.0</td>\n",
       "      <td>0.000000e+00</td>\n",
       "      <td>...</td>\n",
       "      <td>5.773481e+01</td>\n",
       "      <td>2.474602e+01</td>\n",
       "      <td>3.113652e+00</td>\n",
       "      <td>2.699172e+00</td>\n",
       "      <td>-1.618818e+01</td>\n",
       "      <td>-3.097677e+02</td>\n",
       "      <td>2.305816e+00</td>\n",
       "      <td>6.123157e-01</td>\n",
       "      <td>9.206284e-04</td>\n",
       "      <td>1.212728e-05</td>\n",
       "    </tr>\n",
       "    <tr>\n",
       "      <th>50%</th>\n",
       "      <td>3.963295e+16</td>\n",
       "      <td>1.123100e+04</td>\n",
       "      <td>3.006546e-01</td>\n",
       "      <td>0.000000e+00</td>\n",
       "      <td>0.000000e+00</td>\n",
       "      <td>2.090377e+02</td>\n",
       "      <td>3.299155e+01</td>\n",
       "      <td>1.000000e+00</td>\n",
       "      <td>1.0</td>\n",
       "      <td>0.000000e+00</td>\n",
       "      <td>...</td>\n",
       "      <td>1.275913e+02</td>\n",
       "      <td>4.688059e+01</td>\n",
       "      <td>1.848211e+01</td>\n",
       "      <td>1.266778e+01</td>\n",
       "      <td>1.011403e+01</td>\n",
       "      <td>1.446612e+01</td>\n",
       "      <td>3.055959e+00</td>\n",
       "      <td>7.587050e-01</td>\n",
       "      <td>1.438069e-03</td>\n",
       "      <td>1.903950e-05</td>\n",
       "    </tr>\n",
       "    <tr>\n",
       "      <th>75%</th>\n",
       "      <td>3.963332e+16</td>\n",
       "      <td>2.596700e+04</td>\n",
       "      <td>9.088130e-01</td>\n",
       "      <td>0.000000e+00</td>\n",
       "      <td>0.000000e+00</td>\n",
       "      <td>2.354590e+02</td>\n",
       "      <td>5.272584e+01</td>\n",
       "      <td>1.000000e+00</td>\n",
       "      <td>1.0</td>\n",
       "      <td>0.000000e+00</td>\n",
       "      <td>...</td>\n",
       "      <td>2.445051e+02</td>\n",
       "      <td>7.956982e+01</td>\n",
       "      <td>4.898040e+01</td>\n",
       "      <td>3.156832e+01</td>\n",
       "      <td>4.942154e+01</td>\n",
       "      <td>3.871453e+02</td>\n",
       "      <td>4.042931e+00</td>\n",
       "      <td>1.203593e+00</td>\n",
       "      <td>2.456033e-03</td>\n",
       "      <td>2.869740e-05</td>\n",
       "    </tr>\n",
       "    <tr>\n",
       "      <th>max</th>\n",
       "      <td>2.305843e+18</td>\n",
       "      <td>4.500700e+04</td>\n",
       "      <td>5.993195e+00</td>\n",
       "      <td>3.746000e+03</td>\n",
       "      <td>1.077937e+09</td>\n",
       "      <td>3.578248e+02</td>\n",
       "      <td>8.460914e+01</td>\n",
       "      <td>5.000000e+00</td>\n",
       "      <td>1.0</td>\n",
       "      <td>8.070451e+18</td>\n",
       "      <td>...</td>\n",
       "      <td>3.956942e+03</td>\n",
       "      <td>5.398738e+02</td>\n",
       "      <td>1.463032e+07</td>\n",
       "      <td>3.270460e+07</td>\n",
       "      <td>8.131639e+05</td>\n",
       "      <td>4.917560e+06</td>\n",
       "      <td>2.082350e+01</td>\n",
       "      <td>1.115424e+01</td>\n",
       "      <td>3.504970e-01</td>\n",
       "      <td>3.751689e-03</td>\n",
       "    </tr>\n",
       "  </tbody>\n",
       "</table>\n",
       "<p>8 rows × 29 columns</p>\n",
       "</div>"
      ],
      "text/plain": [
       "           targetid       healpix             z         zwarn  \\\n",
       "count  1.979269e+06  1.979269e+06  1.979269e+06  1.979269e+06   \n",
       "mean   1.550168e+17  1.581521e+04  5.171485e-01  9.856214e+01   \n",
       "std    4.987671e+17  8.719754e+03  5.758931e-01  3.857738e+02   \n",
       "min    6.432024e+12  6.830000e+02 -5.000000e-03  0.000000e+00   \n",
       "25%    3.962785e+16  9.431000e+03  4.912182e-05  0.000000e+00   \n",
       "50%    3.963295e+16  1.123100e+04  3.006546e-01  0.000000e+00   \n",
       "75%    3.963332e+16  2.596700e+04  9.088130e-01  0.000000e+00   \n",
       "max    2.305843e+18  4.500700e+04  5.993195e+00  3.746000e+03   \n",
       "\n",
       "       coadd_fiberstatus  mean_fiber_ra  mean_fiber_dec    zcat_nspec  \\\n",
       "count       1.979269e+06   1.979269e+06    1.979269e+06  1.979269e+06   \n",
       "mean        2.387955e+05   1.954990e+02    3.041136e+01  1.033002e+00   \n",
       "std         1.437785e+07   5.341941e+01    2.520166e+01  1.886333e-01   \n",
       "min         0.000000e+00   2.413598e+00   -3.160238e+01  1.000000e+00   \n",
       "25%         0.000000e+00   1.730003e+02    2.329435e+00  1.000000e+00   \n",
       "50%         0.000000e+00   2.090377e+02    3.299155e+01  1.000000e+00   \n",
       "75%         0.000000e+00   2.354590e+02    5.272584e+01  1.000000e+00   \n",
       "max         1.077937e+09   3.578248e+02    8.460914e+01  5.000000e+00   \n",
       "\n",
       "       zcat_primary   desi_target  ...   flux_ivar_r   flux_ivar_z  \\\n",
       "count     1979269.0  1.979269e+06  ...  1.979269e+06  1.979269e+06   \n",
       "mean            1.0  1.978282e+16  ...  1.896657e+02  5.697428e+01   \n",
       "std             0.0  2.948496e+17  ...  2.213262e+02  4.513832e+01   \n",
       "min             1.0  0.000000e+00  ... -9.900000e+01 -9.900000e+01   \n",
       "25%             1.0  0.000000e+00  ...  5.773481e+01  2.474602e+01   \n",
       "50%             1.0  0.000000e+00  ...  1.275913e+02  4.688059e+01   \n",
       "75%             1.0  0.000000e+00  ...  2.445051e+02  7.956982e+01   \n",
       "max             1.0  8.070451e+18  ...  3.956942e+03  5.398738e+02   \n",
       "\n",
       "            flux_w1       flux_w2       flux_w3       flux_w4  flux_ivar_w1  \\\n",
       "count  1.979269e+06  1.979269e+06  1.979269e+06  1.979269e+06  1.979269e+06   \n",
       "mean   5.595829e+01  4.999907e+01  3.791464e+01  7.232810e+01  3.403558e+00   \n",
       "std    1.067184e+04  2.358683e+04  7.256406e+02  4.392629e+03  1.904642e+00   \n",
       "min   -7.369398e+04 -6.415370e+04 -3.011907e+04 -1.250068e+06  0.000000e+00   \n",
       "25%    3.113652e+00  2.699172e+00 -1.618818e+01 -3.097677e+02  2.305816e+00   \n",
       "50%    1.848211e+01  1.266778e+01  1.011403e+01  1.446612e+01  3.055959e+00   \n",
       "75%    4.898040e+01  3.156832e+01  4.942154e+01  3.871453e+02  4.042931e+00   \n",
       "max    1.463032e+07  3.270460e+07  8.131639e+05  4.917560e+06  2.082350e+01   \n",
       "\n",
       "       flux_ivar_w2  flux_ivar_w3  flux_ivar_w4  \n",
       "count  1.979269e+06  1.979269e+06  1.979269e+06  \n",
       "mean   1.054840e+00  4.609147e-03  5.502543e-05  \n",
       "std    9.402610e-01  1.730217e-02  2.006256e-04  \n",
       "min    0.000000e+00  0.000000e+00  0.000000e+00  \n",
       "25%    6.123157e-01  9.206284e-04  1.212728e-05  \n",
       "50%    7.587050e-01  1.438069e-03  1.903950e-05  \n",
       "75%    1.203593e+00  2.456033e-03  2.869740e-05  \n",
       "max    1.115424e+01  3.504970e-01  3.751689e-03  \n",
       "\n",
       "[8 rows x 29 columns]"
      ]
     },
     "execution_count": 31,
     "metadata": {},
     "output_type": "execute_result"
    }
   ],
   "source": [
    "df.describe()"
   ]
  },
  {
   "cell_type": "markdown",
   "id": "889d75ba-e920-4a63-9f09-ba5382dd0c7b",
   "metadata": {},
   "source": [
    "# a flux of 1 nanomaggie corresponds to an AB magnitude of 22.5."
   ]
  },
  {
   "cell_type": "code",
   "execution_count": 75,
   "id": "3cc48f55-1765-4692-bafb-e366b43a2d88",
   "metadata": {
    "tags": []
   },
   "outputs": [
    {
     "name": "stderr",
     "output_type": "stream",
     "text": [
      "/var/folders/79/hrybm_4s0zjd4jsb7lp_trhh0000gp/T/ipykernel_7714/3638117901.py:5: RuntimeWarning: divide by zero encountered in log10\n",
      "  df[\"mag_g\"] = df[\"flux_g\"].apply(lambda x : 22.5 - 2.5*np.log10(x))\n",
      "/var/folders/79/hrybm_4s0zjd4jsb7lp_trhh0000gp/T/ipykernel_7714/3638117901.py:5: RuntimeWarning: invalid value encountered in log10\n",
      "  df[\"mag_g\"] = df[\"flux_g\"].apply(lambda x : 22.5 - 2.5*np.log10(x))\n",
      "/var/folders/79/hrybm_4s0zjd4jsb7lp_trhh0000gp/T/ipykernel_7714/3638117901.py:6: RuntimeWarning: divide by zero encountered in log10\n",
      "  df[\"mag_r\"] = df[\"flux_r\"].apply(lambda x : 22.5 - 2.5*np.log10(x))\n",
      "/var/folders/79/hrybm_4s0zjd4jsb7lp_trhh0000gp/T/ipykernel_7714/3638117901.py:6: RuntimeWarning: invalid value encountered in log10\n",
      "  df[\"mag_r\"] = df[\"flux_r\"].apply(lambda x : 22.5 - 2.5*np.log10(x))\n",
      "/var/folders/79/hrybm_4s0zjd4jsb7lp_trhh0000gp/T/ipykernel_7714/3638117901.py:7: RuntimeWarning: divide by zero encountered in log10\n",
      "  df[\"mag_z\"] = df[\"flux_z\"].apply(lambda x : 22.5 - 2.5*np.log10(x))\n",
      "/var/folders/79/hrybm_4s0zjd4jsb7lp_trhh0000gp/T/ipykernel_7714/3638117901.py:7: RuntimeWarning: invalid value encountered in log10\n",
      "  df[\"mag_z\"] = df[\"flux_z\"].apply(lambda x : 22.5 - 2.5*np.log10(x))\n"
     ]
    }
   ],
   "source": [
    "#df[\"mag_g\"] = df[\"flux_g\"].apply(lambda x : (x*u.Jy).to_value(u.ABmag))\n",
    "#df[\"mag_r\"] = df[\"flux_r\"].apply(lambda x : (x*u.Jy).to_value(u.ABmag))\n",
    "#df[\"mag_z\"] = df[\"flux_z\"].apply(lambda x : (x*u.Jy).to_value(u.ABmag))\n",
    "\n",
    "df[\"mag_g\"] = df[\"flux_g\"].apply(lambda x : 22.5 - 2.5*np.log10(x))\n",
    "df[\"mag_r\"] = df[\"flux_r\"].apply(lambda x : 22.5 - 2.5*np.log10(x))\n",
    "df[\"mag_z\"] = df[\"flux_z\"].apply(lambda x : 22.5 - 2.5*np.log10(x))"
   ]
  },
  {
   "cell_type": "code",
   "execution_count": 78,
   "id": "178f7e50-f907-478f-833e-4eb1a963092d",
   "metadata": {
    "tags": []
   },
   "outputs": [
    {
     "data": {
      "image/png": "[encoded data removed]",
      "text/plain": [
       "<Figure size 640x480 with 1 Axes>"
      ]
     },
     "metadata": {},
     "output_type": "display_data"
    }
   ],
   "source": [
    "df[\"mag_g\"].hist(bins=50,range=(0,30))\n",
    "plt.yscale('log')"
   ]
  },
  {
   "cell_type": "markdown",
   "id": "587092fc",
   "metadata": {},
   "source": [
    "<a class=\"anchor\" id=\"target_info\"></a>\n",
    "## Selecting sources based on targeting information\n",
    "\n",
    "DESI targets are divided into five main classes:\n",
    "* MWS: Milky Way Survey - This survey probes \"stars\" in the Milky Way.\n",
    "* BGS: Bright Galaxy Survey - This survey probes the bright galaxies in the nearby universe.\n",
    "* LRG: Luminous Red Galaxies\n",
    "* ELG: Emission Line Galaxies\n",
    "* QSO: Quasars\n",
    "\n",
    "[Myers et al. 2023](https://ui.adsabs.harvard.edu/abs/2023AJ....165...50M/abstract) describe the target selection and information in more detail. Apart from these main classes, there are also secondary fiber targets that are based on different secondary programs in DESI (SCND targets).\n",
    "\n",
    "The `*DESI_TARGET` columns encode the information related to which class the target belongs to. Note that some sources can be part of different classes. \n",
    "\n",
    "In this section, we show how to select sources based on their targeting information.\n",
    "\n",
    "The information about different target bits is available [here](https://desidatamodel.readthedocs.io/en/latest/bitmasks.html#target-masks). By using the target bits directly, we avoid the usage of targetmasks that come from DESI software."
   ]
  },
  {
   "cell_type": "code",
   "execution_count": null,
   "id": "d64e460d-6de8-4d02-8ba0-1d9e6f547819",
   "metadata": {
    "tags": []
   },
   "outputs": [],
   "source": [
    "## Function to check the bits\n",
    "\n",
    "def check_bits(table, bit):\n",
    "    \"\"\"\n",
    "    Function to check the bits corresponding to the main target classes.\n",
    "\n",
    "    Parameters\n",
    "    ----------\n",
    "    table : astropy table\n",
    "        Table of DESI targets with required sv*desi_target columns\n",
    "        \n",
    "    bit : int\n",
    "        Target bit from DESI\n",
    "\n",
    "    Returns\n",
    "    -------\n",
    "    res : numpy array\n",
    "        Boolean array corresponding to the bit\n",
    "    \"\"\"\n",
    "    # Targeting information about the DESI targeting is stored in the different desi_target columns\n",
    "    sv1_desi_tgt = table['sv1_desi_target']\n",
    "    sv2_desi_tgt = table['sv2_desi_target']\n",
    "    sv3_desi_tgt = table['sv3_desi_target']\n",
    "        \n",
    "    val = (2**bit)\n",
    "    res = (sv1_desi_tgt & val != 0)|(sv2_desi_tgt & val != 0)|(sv3_desi_tgt & val != 0)\n",
    "\n",
    "    return (res)"
   ]
  },
  {
   "cell_type": "code",
   "execution_count": null,
   "id": "daadc5c5",
   "metadata": {
    "tags": []
   },
   "outputs": [],
   "source": [
    "## Selecting candidates - \n",
    "## Target bits from DESI:\n",
    "## 1. BGS: bit 60\n",
    "## 2. LRG: bit 0\n",
    "## 3. ELG: bit 1\n",
    "## 4. QSO: bit 2\n",
    "## 5. MWS: bit 61\n",
    "## 6. Secondary Targets: bit 62\n",
    "\n",
    "is_bgs = check_bits(zpix_cat, 60)\n",
    "is_lrg = check_bits(zpix_cat, 0)\n",
    "is_elg = check_bits(zpix_cat, 1)\n",
    "is_qso = check_bits(zpix_cat, 2)\n",
    "is_mws = check_bits(zpix_cat, 61)\n",
    "is_scnd = check_bits(zpix_cat, 62)"
   ]
  },
  {
   "cell_type": "code",
   "execution_count": null,
   "id": "1b212b48",
   "metadata": {
    "tags": []
   },
   "outputs": [],
   "source": [
    "# Number of sources of each target type\n",
    "n_bgs = len(zpix_cat[is_bgs])\n",
    "n_lrg = len(zpix_cat[is_lrg])\n",
    "n_elg = len(zpix_cat[is_elg])\n",
    "n_qso = len(zpix_cat[is_qso])\n",
    "n_mws = len(zpix_cat[is_mws])\n",
    "n_scnd = len(zpix_cat[is_scnd])"
   ]
  },
  {
   "cell_type": "code",
   "execution_count": null,
   "id": "8542a794",
   "metadata": {
    "tags": []
   },
   "outputs": [],
   "source": [
    "# Let us look at the numbers visually - \n",
    "\n",
    "plt.figure(figsize = (8,6))\n",
    "\n",
    "targets = ['BGS', 'LRG', 'ELG', 'QSO', 'MWS', 'SCND']\n",
    "numbers = [n_bgs, n_lrg, n_elg, n_qso, n_mws, n_scnd]\n",
    "\n",
    "plt.bar(targets, numbers, color = 'purple', alpha = 0.5)\n",
    "plt.ylabel('Number of primary spectra')\n",
    "plt.yscale('log')"
   ]
  },
  {
   "cell_type": "code",
   "execution_count": null,
   "id": "e8f4c856",
   "metadata": {
    "tags": []
   },
   "outputs": [],
   "source": [
    "# Now let us look at the distribution of redshifts -\n",
    "\n",
    "fig, axs = plt.subplots(4, 1, figsize = (9, 12))\n",
    "bins = np.arange(0, 4, 0.2)\n",
    "\n",
    "axs[0].hist(zpix_cat['z'][is_bgs], color = 'C0', bins = bins, label = f'BGS: {n_bgs} sources')\n",
    "axs[0].legend(fontsize = 14)\n",
    "axs[0].set_ylabel(\"N(z)\")\n",
    "axs[1].hist(zpix_cat['z'][is_lrg], color = 'C1', bins = bins, label = f'LRG: {n_lrg} sources')\n",
    "axs[1].legend(fontsize = 14)\n",
    "axs[1].set_ylabel(\"N(z)\")\n",
    "axs[2].hist(zpix_cat['z'][is_elg], color = 'C2', bins = bins, label = f'ELG: {n_elg} sources')\n",
    "axs[2].legend(fontsize = 14)\n",
    "axs[2].set_ylabel(\"N(z)\")\n",
    "axs[3].hist(zpix_cat['z'][is_qso], color = 'C3', bins = bins, label = f'QSO: {n_qso} sources')\n",
    "axs[3].legend(fontsize = 14)\n",
    "axs[3].set_ylabel(\"N(z)\")\n",
    "axs[3].set_xlabel(\"Redshift\")\n"
   ]
  },
  {
   "cell_type": "markdown",
   "id": "24ac78a6",
   "metadata": {},
   "source": [
    "### Other masks"
   ]
  },
  {
   "cell_type": "markdown",
   "id": "53d49551",
   "metadata": {},
   "source": [
    "The `SV*_DESI_TARGET` columns consists of the uppermost level targeting information in DESI. However, there are sub-classes of targets. <br/>\n",
    "For example, BGS have different target masks depending on the selection criterion. Each of the different secondary target proposals have their own masks. They can be selected in a similar way as above, but with the respective columns (like `SV1_BGS_TARGET` or `SV1_SCND_TARGET` in the `target` table. More information about Bitmasks in DESI is available [here](https://desidatamodel.readthedocs.io/en/latest/bitmasks.html)."
   ]
  },
  {
   "cell_type": "markdown",
   "id": "d3788942",
   "metadata": {},
   "source": [
    "<a class=\"anchor\" id=\"hpx_sel\"></a>\n",
    "## Selecting sources in a region of the sky\n",
    "\n",
    "Here, we show how to query unique targets from DESI EDR in a given region of the sky. \n",
    "\n",
    "We also select and overplot the `Milky Way Survey` targets in this region."
   ]
  },
  {
   "cell_type": "code",
   "execution_count": null,
   "id": "2e4b6796-9bc7-41b5-91c5-338c31bdd8e1",
   "metadata": {
    "tags": []
   },
   "outputs": [],
   "source": [
    "query = \"\"\"\n",
    "SELECT zp.targetid, zp.survey, zp.program, zp.healpix,  \n",
    "       zp.z, zp.zwarn, zp.coadd_fiberstatus, zp.spectype, \n",
    "       zp.mean_fiber_ra, zp.mean_fiber_dec, zp.zcat_nspec, zp.desi_target,\n",
    "       zp.sv1_desi_target, zp.sv2_desi_target, zp.sv3_desi_target\n",
    "FROM desi_edr.zpix AS zp\n",
    "WHERE (zp.mean_fiber_ra > 184) AND (zp.mean_fiber_ra < 184.5) \n",
    "AND (zp.mean_fiber_dec > 0.5) AND (zp.mean_fiber_dec < 1.0)\n",
    "AND (zp.zcat_primary = 't')\n",
    "\"\"\" \n",
    "\n",
    "## ZCAT_PRIMARY == 't' for primary spectra"
   ]
  },
  {
   "cell_type": "code",
   "execution_count": null,
   "id": "87263dbf-41f6-415f-a901-5184de3130db",
   "metadata": {},
   "outputs": [],
   "source": [
    "print(query)"
   ]
  },
  {
   "cell_type": "code",
   "execution_count": null,
   "id": "cfc8d99a-3b2c-4a28-9a84-4a417c8471fe",
   "metadata": {
    "tags": []
   },
   "outputs": [],
   "source": [
    "tsel = qc.query(sql = query, fmt = 'table')"
   ]
  },
  {
   "cell_type": "code",
   "execution_count": null,
   "id": "fc4576f0",
   "metadata": {
    "tags": []
   },
   "outputs": [],
   "source": [
    "## MWS bit - 61\n",
    "is_mws = check_bits(tsel, 61)"
   ]
  },
  {
   "cell_type": "code",
   "execution_count": null,
   "id": "792eedc2",
   "metadata": {
    "tags": []
   },
   "outputs": [],
   "source": [
    "plt.figure(figsize = (8, 8))\n",
    "\n",
    "plt.suptitle('Position of sources from DESI in a given sky region', fontsize = 20)\n",
    "plt.scatter(tsel['mean_fiber_ra'], tsel['mean_fiber_dec'], color = 'grey', s = 30, label = 'All')\n",
    "plt.scatter(tsel['mean_fiber_ra'][is_mws], tsel['mean_fiber_dec'][is_mws], color = 'r', s = 30, marker = 'x', label = 'MWS')\n",
    "plt.xlabel('R.A. (deg)')\n",
    "plt.ylabel('DEC (deg)')\n",
    "plt.legend()"
   ]
  },
  {
   "cell_type": "markdown",
   "id": "065feb1a",
   "metadata": {},
   "source": [
    "<a class=\"anchor\" id=\"spectra_access\"></a>\n",
    "# Accessing and plotting the spectra of a given object\n",
    "\n",
    "Finally, we show how to access all the available healpix-coadded spectra of a given object. We also show how to select the \"best\" spectrum.  \n",
    "We use SPARCL, which is a fast spectral access service at Data Lab.  \n",
    "Detailed ways to using SPARCL are available in this [notebook](https://github.com/astro-datalab/notebooks-latest/blob/master/04_HowTos/SPARCL/How_to_use_SPARCL.ipynb)."
   ]
  },
  {
   "cell_type": "code",
   "execution_count": null,
   "id": "b16ffbb5",
   "metadata": {
    "tags": []
   },
   "outputs": [],
   "source": [
    "## Select STAR with nspec > 3\n",
    "jj = (zpix_cat['zcat_nspec'] > 3) & (zpix_cat['spectype'] == 'STAR')\n",
    "tsel = zpix_cat[jj]"
   ]
  },
  {
   "cell_type": "code",
   "execution_count": null,
   "id": "1b6fdfbe",
   "metadata": {
    "tags": []
   },
   "outputs": [],
   "source": [
    "len(tsel)"
   ]
  },
  {
   "cell_type": "code",
   "execution_count": null,
   "id": "f1240f6a",
   "metadata": {
    "tags": []
   },
   "outputs": [],
   "source": [
    "## Randomly select an object\n",
    "## You can test any object with ii = 0 to 307\n",
    "\n",
    "ii = 50\n",
    "targetid = int(tsel['targetid'].data[ii])   ## SPARCL accepts only python integers in specid_list"
   ]
  },
  {
   "cell_type": "code",
   "execution_count": null,
   "id": "99c63933",
   "metadata": {
    "tags": []
   },
   "outputs": [],
   "source": [
    "## Retrieve Spectra\n",
    "\n",
    "inc = ['specid', 'redshift', 'flux', 'wavelength', 'spectype', 'specprimary', 'survey', 'program', 'targetid', 'coadd_fiberstatus']\n",
    "res = client.retrieve_by_specid(specid_list = [targetid],\n",
    "                                include = inc,\n",
    "                                dataset_list = ['DESI-EDR'])"
   ]
  },
  {
   "cell_type": "code",
   "execution_count": null,
   "id": "0c31428e",
   "metadata": {
    "tags": []
   },
   "outputs": [],
   "source": [
    "## Checking that all the different spectra are retrieved\n",
    "\n",
    "print ('Number of coadded spectra: ', tsel['zcat_nspec'].data[ii])\n",
    "print ('Number of retrieved records: ', len(res.records))"
   ]
  },
  {
   "cell_type": "code",
   "execution_count": null,
   "id": "2e8fc4f1",
   "metadata": {
    "tags": []
   },
   "outputs": [],
   "source": [
    "res"
   ]
  },
  {
   "cell_type": "code",
   "execution_count": null,
   "id": "a19e3ec5",
   "metadata": {
    "tags": []
   },
   "outputs": [],
   "source": [
    "records = res.records\n",
    "\n",
    "## Select the primary spectrum\n",
    "spec_primary = np.array([records[jj].specprimary for jj in range(len(records))])\n",
    "\n",
    "primary_ii = np.where(spec_primary == True)[0][0]"
   ]
  },
  {
   "cell_type": "code",
   "execution_count": null,
   "id": "3d63c796",
   "metadata": {
    "tags": []
   },
   "outputs": [],
   "source": [
    "lam_primary = records[primary_ii].wavelength\n",
    "flam_primary = records[primary_ii].flux"
   ]
  },
  {
   "cell_type": "code",
   "execution_count": null,
   "id": "e83ca4c8",
   "metadata": {
    "tags": []
   },
   "outputs": [],
   "source": [
    "## Plotting this spectrum -\n",
    "\n",
    "plt.figure(figsize = (20, 6))\n",
    "## Plot the spectrum from each arm (B,R,Z) in blue, green, red\n",
    "\n",
    "plt.plot(lam_primary, flam_primary, color = 'maroon', alpha = 0.5)\n",
    "## Over-plotting smoothed spectrum in black \n",
    "plt.plot(lam_primary, convolve(flam_primary, Gaussian1DKernel(5)), color = 'k', lw = 2.0)\n",
    "plt.xlabel('$\\lambda$ [$\\AA$]')\n",
    "plt.ylabel('$F_{\\lambda}$ [$10^{-17} erg\\ s^{-1}\\ cm^{-2}\\ \\AA^{-1}$]')\n",
    "plt.show()"
   ]
  },
  {
   "cell_type": "markdown",
   "id": "b4faa88d",
   "metadata": {},
   "source": [
    "Let us now plot all the available spectra for this object. \n",
    "\n",
    "In each case, the `survey`, `program` and the `primary` flag is mentioned with the spectra."
   ]
  },
  {
   "cell_type": "code",
   "execution_count": null,
   "id": "0db0dfdb",
   "metadata": {
    "tags": []
   },
   "outputs": [],
   "source": [
    "# Number of spectra \n",
    "n = len(records)\n",
    "\n",
    "fig, ax = plt.subplots(n, 1, figsize = (12,(4*n)))\n",
    "\n",
    "for jj in range(n):\n",
    "    survey = records[jj].survey\n",
    "    program = records[jj].program\n",
    "    spectype = records[jj].spectype\n",
    "    primary_flag = records[jj].specprimary\n",
    "\n",
    "    lam = records[jj].wavelength\n",
    "    flam = records[jj].flux\n",
    "    \n",
    "    # Plot the combined spectrum in maroon\n",
    "    ax[jj].plot(lam, flam, color = 'maroon', alpha = 0.5)\n",
    "    # Over-plotting smoothed spectra \n",
    "    ax[jj].plot(lam, convolve(flam, Gaussian1DKernel(5)), color = 'k', lw = 2.0)\n",
    "    ax[jj].set(xlim = [3500, 9900], xlabel = '$\\lambda$', ylabel = '$F_{\\lambda}$')\n",
    "    trans = ax[jj].get_xaxis_transform()\n",
    "    ax[jj].annotate(f'{survey}, {program}', xy = (6000, 0.85), xycoords = trans, fontsize = 16)\n",
    "    ax[jj].annotate(f'SPECTYPE : {spectype}', xy = (8000, 0.85), xycoords = trans, fontsize = 16)\n",
    "    ax[jj].annotate(f'PRIMARY Flag : {primary_flag}', xy = (8000, 0.75), xycoords = trans, fontsize = 16)\n",
    "    \n",
    "plt.tight_layout()"
   ]
  },
  {
   "cell_type": "markdown",
   "id": "560559d4-b5de-4505-8921-84f50fe4add3",
   "metadata": {},
   "source": [
    "From the above plot, we can see that the spectrum with PRIMARY Flag = True is the one with the highest signal-to-noise ratio. The other available spectrum is a bit noisy, compared to the \"best\" spectrum.\n",
    "We see that the two SV1 records of this object show no spectra. Let us check their fiber status below."
   ]
  },
  {
   "cell_type": "code",
   "execution_count": null,
   "id": "c724df5d-8fb3-4a61-8acc-6b9d89d325a0",
   "metadata": {
    "tags": []
   },
   "outputs": [],
   "source": [
    "print ('Coadd Fiberstatus of the SV1 Dark observation: ', records[0].coadd_fiberstatus)\n",
    "print ('Coadd Fiberstatus of the SV1 Bright observation: ', records[3].coadd_fiberstatus)"
   ]
  },
  {
   "cell_type": "markdown",
   "id": "734b04d5-b7cc-4787-92d1-b1c051c7f1d8",
   "metadata": {},
   "source": [
    "The `coadd_fiberstatus` of the observations contains [information about the fiber conditions](https://desidatamodel.readthedocs.io/en/latest/bitmasks.html#spectroscopic-reduction-masks) during the spectra observations. `coadd_fiberstatus` = 512 indicates bad fiber conditions, resulting in no spectra (flux = 0 and ivar = 0). This shows the importance of accessing the \"best\" spectra for scientific analysis."
   ]
  },
  {
   "cell_type": "markdown",
   "id": "0ca002f5",
   "metadata": {},
   "source": [
    "<a class=\"anchor\" id=\"ref\"></a>\n",
    "# References\n",
    "\n",
    "* DESI EDR Documentation: https://data.desi.lbl.gov/doc/\n",
    "* DESI EDR at Astro Data Lab: https://datalab.noirlab.edu/desi/\n",
    "* Information about SPARCL: https://astrosparcl.datalab.noirlab.edu/sparc/\n",
    "* Datamodel information: https://desidatamodel.readthedocs.io/en/latest/\n",
    "    * [tiles-fuji.fits](https://desidatamodel.readthedocs.io/en/latest/DESI_SPECTRO_REDUX/SPECPROD/tiles-SPECPROD.html)\n",
    "    * [exposures-fuji.fits](https://desidatamodel.readthedocs.io/en/latest/DESI_SPECTRO_REDUX/SPECPROD/exposures-SPECPROD.html)\n",
    "    * [Redshift catalogs](https://desidatamodel.readthedocs.io/en/latest/DESI_SPECTRO_REDUX/SPECPROD/zcatalog/index.html)\n",
    "    * [zall-pix-fuji.fits](https://desidatamodel.readthedocs.io/en/latest/DESI_SPECTRO_REDUX/SPECPROD/zcatalog/zall-pix-SPECPROD.html)\n",
    "    * [zall-tilecumulative-fuji.fits](https://desidatamodel.readthedocs.io/en/latest/DESI_SPECTRO_REDUX/SPECPROD/zcatalog/zall-tilecumulative-SPECPROD.html)\n",
    "    * [zpix-SURVEY-PROGRAM.fits](https://desidatamodel.readthedocs.io/en/latest/DESI_SPECTRO_REDUX/SPECPROD/zcatalog/zpix-SURVEY-PROGRAM.html)\n",
    "    * [ztile-SURVEY-PROGRAM-GROUPTYPE.fits](https://desidatamodel.readthedocs.io/en/latest/DESI_SPECTRO_REDUX/SPECPROD/zcatalog/zpix-SURVEY-PROGRAM.html)\n",
    "    * [coadd-SURVEY-PROGRAM-PIXNUM.fits](https://desidatamodel.readthedocs.io/en/latest/DESI_SPECTRO_REDUX/SPECPROD/healpix/SURVEY/PROGRAM/PIXGROUP/PIXNUM/coadd-SURVEY-PROGRAM-PIXNUM.html)\n",
    "    * [redshift-SURVEY-PROGRAM-PIXNUM.fits](https://desidatamodel.readthedocs.io/en/latest/DESI_SPECTRO_REDUX/SPECPROD/healpix/SURVEY/PROGRAM/PIXGROUP/PIXNUM/redrock-SURVEY-PROGRAM-PIXNUM.html)\n",
    "* Information about DESI bitmasks: https://desidatamodel.readthedocs.io/en/latest/bitmasks.html\n",
    "* Information about DESI target bitmasks: https://desidatamodel.readthedocs.io/en/latest/bitmasks.html#target-masks\n",
    "* DESI Target Selection pipeline paper: [Myers et al. 2023](https://ui.adsabs.harvard.edu/abs/2023AJ....165...50M/abstract)\n",
    "* Introduction to SPARCL notebook: https://github.com/astro-datalab/notebooks-latest/blob/master/04_HowTos/SPARCL/How_to_use_SPARCL.ipynb"
   ]
  },
  {
   "cell_type": "markdown",
   "id": "82389ed1",
   "metadata": {},
   "source": [
    "---"
   ]
  }
 ],
 "metadata": {
  "kernelspec": {
   "display_name": "conda_py311",
   "language": "python",
   "name": "conda_py311"
  },
  "language_info": {
   "codemirror_mode": {
    "name": "ipython",
    "version": 3
   },
   "file_extension": ".py",
   "mimetype": "text/x-python",
   "name": "python",
   "nbconvert_exporter": "python",
   "pygments_lexer": "ipython3",
   "version": "3.11.11"
  }
 },
 "nbformat": 4,
 "nbformat_minor": 5
}
