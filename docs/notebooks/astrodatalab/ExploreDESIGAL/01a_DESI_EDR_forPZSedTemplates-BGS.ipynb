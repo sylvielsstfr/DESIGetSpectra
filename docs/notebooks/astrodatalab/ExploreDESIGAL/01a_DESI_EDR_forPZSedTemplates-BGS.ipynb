{
 "cells": [
  {
   "cell_type": "code",
   "execution_count": 1,
   "id": "0f95802f",
   "metadata": {
    "tags": []
   },
   "outputs": [],
   "source": [
    "__nbid__ = '0001'\n",
    "__author__ = 'Sylvie Dagoret-Campagne <sylvie.dagoret-campagne@ijclab.in2p3.fr>'\n",
    "__version__ = '20241230' # yyyymmdd\n",
    "__datasets__ = ['desi_edr']  \n",
    "__keywords__ = ['sparcl', 'spectra', 'database']"
   ]
  },
  {
   "cell_type": "markdown",
   "id": "513d2145-ccd4-4c83-b940-3974f47bb3d0",
   "metadata": {},
   "source": [
    "- Last update : 2024-12-30"
   ]
  },
  {
   "cell_type": "markdown",
   "id": "89c57f8a",
   "metadata": {},
   "source": [
    "# Access to DESI BGS Spectra for PZ SED Templates\n",
    "\n",
    "Inspired from astro datalab Noirlab notebooks"
   ]
  },
  {
   "cell_type": "markdown",
   "id": "9e4ae9a5",
   "metadata": {},
   "source": [
    "<a class=\"anchor\" id=\"import\"></a>\n",
    "# Imports\n",
    "\n",
    "Note in this version we avoid special **desitarget** and **desiutil** tools\n",
    "We only use **sparcl** to retrieve spectra"
   ]
  },
  {
   "cell_type": "code",
   "execution_count": 2,
   "id": "ab6462e6",
   "metadata": {
    "tags": []
   },
   "outputs": [],
   "source": [
    "## import some helpful python packages \n",
    "import numpy as np\n",
    "import pandas as pd\n",
    "\n",
    "from astropy.table import Table\n",
    "from astropy.convolution import convolve, Gaussian1DKernel\n",
    "\n",
    "import matplotlib \n",
    "import matplotlib.pyplot as plt\n",
    "\n",
    "%matplotlib inline\n",
    "\n",
    "## Data Lab related modules\n",
    "from sparcl.client import SparclClient\n",
    "from dl import queryClient as qc, authClient as ac\n",
    "from getpass import getpass"
   ]
  },
  {
   "cell_type": "code",
   "execution_count": 3,
   "id": "c7e39af6-b833-423c-a5cb-4f5d3c8c70e3",
   "metadata": {
    "tags": []
   },
   "outputs": [],
   "source": [
    "import astropy.units as u"
   ]
  },
  {
   "cell_type": "code",
   "execution_count": 4,
   "id": "41bcad7b-5d8f-4802-90e1-583cd081c7c5",
   "metadata": {
    "tags": []
   },
   "outputs": [],
   "source": [
    "#F0AB = 3631*(1*u.Jy).cgs.value\n",
    "F0AB = 3631*(1*u.Jy)"
   ]
  },
  {
   "cell_type": "markdown",
   "id": "4cb4a75d-5636-4b08-8efb-c375c1d0fc1f",
   "metadata": {},
   "source": [
    "<a class=\"anchor\" id=\"auth\"></a>\n",
    "# Authentication\n",
    "If you need to log in to Data Lab, un-comment the cell below and execute it:"
   ]
  },
  {
   "cell_type": "code",
   "execution_count": 5,
   "id": "c56a3203-603b-454e-b17b-b2eaf934b844",
   "metadata": {
    "tags": []
   },
   "outputs": [
    {
     "data": {
      "text/plain": [
       "'sdagoret'"
      ]
     },
     "execution_count": 5,
     "metadata": {},
     "output_type": "execute_result"
    }
   ],
   "source": [
    "#token = ac.login(input(\"Enter user name: (+ENTER) \"),getpass(\"Enter password: (+ENTER) \"))\n",
    "ac.whoAmI()"
   ]
  },
  {
   "cell_type": "code",
   "execution_count": 6,
   "id": "e8c45200",
   "metadata": {
    "tags": []
   },
   "outputs": [],
   "source": [
    "## Making the matplotlib plots look nicer\n",
    "settings = {\n",
    "    'font.size':22,\n",
    "    'axes.linewidth':3.0,\n",
    "    'xtick.major.size':6.0,\n",
    "    'xtick.minor.size':4.0,\n",
    "    'xtick.major.width':3.0,\n",
    "    'xtick.minor.width':1.5,\n",
    "    'xtick.direction':'in', \n",
    "    'xtick.minor.visible':True,\n",
    "    'xtick.top':True,\n",
    "    'ytick.major.size':6.0,\n",
    "    'ytick.minor.size':4.0,\n",
    "    'ytick.major.width':3.0,\n",
    "    'ytick.minor.width':1.5,\n",
    "    'ytick.direction':'in', \n",
    "    'ytick.minor.visible':True,\n",
    "    'ytick.right':True\n",
    "}\n",
    "\n",
    "plt.rcParams.update(**settings)"
   ]
  },
  {
   "cell_type": "code",
   "execution_count": 7,
   "id": "13f3d8d2",
   "metadata": {
    "tags": []
   },
   "outputs": [],
   "source": [
    "## Instantiate SPARCL Client\n",
    "client = SparclClient()"
   ]
  },
  {
   "cell_type": "markdown",
   "id": "d00a0ab6",
   "metadata": {},
   "source": [
    "<a class=\"anchor\" id=\"desi_edr\"></a>\n",
    "# DESI EDR database\n",
    "\n",
    "The `desi_edr` database schema at Data Lab consists of several tables associated with the targets."
   ]
  },
  {
   "cell_type": "code",
   "execution_count": 8,
   "id": "38c03be2",
   "metadata": {
    "tags": []
   },
   "outputs": [
    {
     "name": "stdout",
     "output_type": "stream",
     "text": [
      "\n",
      "Schema: desi_edr\n",
      "\n",
      "      Table Name   Description\n",
      "      ----------   -----------\n",
      "        exposure   Summary quantities for every DESI exposure\n",
      "     fiberassign   Quantities obtained when a DESI target is assigned to a fiber\n",
      "           frame   Summary quantities for each petal of the DESI instrument i\n",
      "                   n a given exposure; in normal operation there are ten fram\n",
      "                   es for every exposure\n",
      "      photometry   Photometric quantities from LS DR9 for every TARGETID\n",
      "       potential   For a given tile, this table lists all targets that could \n",
      "                   have received a fiber assignment\n",
      "          target   The quantities obtained when photometric objects are analy\n",
      "                   zed in the target selection process\n",
      "            tile   Summary quantities for every DESI tile (pointing on the sky)\n",
      "x1p5__zpix__allwise__source   desi_edr.zpix and xmatch_std.allwise__source crossmatch (1\n",
      "                   .5 arcsec)\n",
      "x1p5__zpix__gaia_dr3__gaia_source   desi_edr.zpix and xmatch_std.gaia_dr3__gaia_source crossma\n",
      "                   tch (1.5 arcsec)\n",
      "x1p5__zpix__nsc_dr2__object   desi_edr.zpix and xmatch_std.nsc_dr2__object crossmatch (1\n",
      "                   .5 arcsec)\n",
      "x1p5__zpix__sdss_dr17__specobj   desi_edr.zpix and xmatch_std.sdss_dr17__specobj crossmatch\n",
      "                   (1.5 arcsec)\n",
      "x1p5__zpix__unwise_dr1__object   desi_edr.zpix and xmatch_std.unwise_dr1__object crossmatch\n",
      "                   (1.5 arcsec)\n",
      "            zpix   Redshift and other quantities for spectra that have been g\n",
      "                   rouped and coadded by HEALPixel\n",
      "           ztile   Redshift and other quantities for spectra that have been g\n",
      "                   rouped and coadded by tile\n",
      "\n"
     ]
    }
   ],
   "source": [
    "print(qc.schema('desi_edr'))"
   ]
  },
  {
   "cell_type": "markdown",
   "id": "86758a28",
   "metadata": {},
   "source": [
    "We focus on the `photometry` and `zpix` table in this notebook, which is the main redshift catalog from the DESI survey. It contains the redshift information from the coadded-spectra, based on the healpix of the objects.\n",
    "\n",
    "We look at the available columns in this table."
   ]
  },
  {
   "cell_type": "markdown",
   "id": "117e944a-5e8e-4975-8d86-c1d578c8044f",
   "metadata": {},
   "source": [
    "### Photometry table"
   ]
  },
  {
   "cell_type": "code",
   "execution_count": 9,
   "id": "3c7ca927-fcd0-4405-a2b2-048574d34a5f",
   "metadata": {
    "tags": []
   },
   "outputs": [
    {
     "name": "stdout",
     "output_type": "stream",
     "text": [
      "\n",
      "Schema: desi_edr\n",
      " Table: photometry\n",
      "\n",
      "     Column Name   Description\n",
      "     -----------   -----------\n",
      "              ra   Right ascension\n",
      "             dec   Declination\n",
      "            elon   Ecliptic longitude\n",
      "            elat   Ecliptic latitude\n",
      "            glon   Galactic longitude\n",
      "            glat   Galactic latitude\n",
      "           ls_id   Unique Legacy Survey object ID\n",
      "          ref_id   Tyc1*1000000+Tyc2*10+Tyc3 for Tycho-2; sourceid for Gaia DR2\n",
      "        targetid   Unique DESI target ID\n",
      "         ra_ivar   Right ascension inverse variance\n",
      "        dec_ivar   Declination inverse variance\n",
      "      dchisq_psf   Difference in chi-squared between PSF (stellar) Tractor mo\n",
      "                   del fits\n",
      "      dchisq_rex   Difference in chi-squared between REX (round exponential g\n",
      "                   alaxy) Tractor model fits\n",
      "      dchisq_dev   Difference in chi-squared between DEV (deVauc) Tractor mod\n",
      "                   el fits\n",
      "      dchisq_exp   Difference in chi-squared between EXP (exponential) Tracto\n",
      "                   r model fits\n",
      "      dchisq_ser   Difference in chi-squared between SER (Sersic) Tractor mod\n",
      "                   el fits\n",
      "             ebv   Galactic extinction E(B-V) reddening from SFD98\n",
      "          flux_g   Flux in the Legacy Survey g-band (AB)\n",
      "          flux_r   Flux in the Legacy Survey r-band (AB)\n",
      "          flux_z   Flux in the Legacy Survey z-band (AB)\n",
      "     flux_ivar_g   Inverse variance of FLUX_G (AB)\n",
      "     flux_ivar_r   Inverse variance of FLUX_R (AB)\n",
      "     flux_ivar_z   Inverse variance of FLUX_Z (AB)\n",
      "mw_transmission_g   Milky Way dust transmission in LS g-band\n",
      "mw_transmission_r   Milky Way dust transmission in LS r-band\n",
      "mw_transmission_z   Milky Way dust transmission in LS z-band\n",
      "      fracflux_g   Profile-weighted fraction of the flux from other sources d\n",
      "                   ivided by the total flux in g (typically [0,1])\n",
      "      fracflux_r   Profile-weighted fraction of the flux from other sources d\n",
      "                   ivided by the total flux in r (typically [0,1])\n",
      "      fracflux_z   Profile-weighted fraction of the flux from other sources d\n",
      "                   ivided by the total flux in z (typically [0,1])\n",
      "    fracmasked_g   Profile-weighted fraction of pixels masked from all observ\n",
      "                   ations of this object in g, strictly between [0,1]\n",
      "    fracmasked_r   Profile-weighted fraction of pixels masked from all observ\n",
      "                   ations of this object in r, strictly between [0,1]\n",
      "    fracmasked_z   Profile-weighted fraction of pixels masked from all observ\n",
      "                   ations of this object in z, strictly between [0,1]\n",
      "        fracin_g   Fraction of a sources flux within the blob in g, near unit\n",
      "                   y for real sources\n",
      "        fracin_r   Fraction of a sources flux within the blob in r, near unit\n",
      "                   y for real sources\n",
      "        fracin_z   Fraction of a sources flux within the blob in z, near unit\n",
      "                   y for real sources\n",
      "      psfdepth_g   PSF-based depth in g-band\n",
      "      psfdepth_r   PSF-based depth in r-band\n",
      "      psfdepth_z   PSF-based depth in z-band\n",
      "      galdepth_g   Galaxy model-based depth in Legacy Survey g-band\n",
      "      galdepth_r   Galaxy model-based depth in Legacy Survey r-band\n",
      "      galdepth_z   Galaxy model-based depth in Legacy Survey z-band\n",
      "         flux_w1   WISE flux in W1 (AB)\n",
      "         flux_w2   WISE flux in W2 (AB)\n",
      "         flux_w3   WISE flux in W3 (AB)\n",
      "         flux_w4   WISE flux in W4 (AB)\n",
      "    flux_ivar_w1   Inverse variance of FLUX_W1 (AB)\n",
      "    flux_ivar_w2   Inverse variance of FLUX_W2 (AB)\n",
      "    flux_ivar_w3   Inverse variance of FLUX_W3 (AB)\n",
      "    flux_ivar_w4   Inverse variance of FLUX_W4 (AB)\n",
      "mw_transmission_w1   Milky Way dust transmission in WISE W1\n",
      "mw_transmission_w2   Milky Way dust transmission in WISE W2\n",
      "mw_transmission_w3   Milky Way dust transmission in WISE W3\n",
      "mw_transmission_w4   Milky Way dust transmission in WISE W4\n",
      "     fiberflux_g   Predicted g-band flux within a fiber of diameter 1.5 arcse\n",
      "                   c from this object in 1 arcsec Gaussian seeing\n",
      "     fiberflux_r   Predicted r-band flux within a fiber of diameter 1.5 arcse\n",
      "                   c from this object in 1 arcsec Gaussian seeing\n",
      "     fiberflux_z   Predicted z-band flux within a fiber of diameter 1.5 arcse\n",
      "                   c from this object in 1 arcsec Gaussian seeing\n",
      "  fibertotflux_g   Predicted g-band flux within a fiber of diameter 1.5 arcse\n",
      "                   c from all sources at this location in 1 arcsec Gaussian s\n",
      "                   eeing\n",
      "  fibertotflux_r   Predicted r-band flux within a fiber of diameter 1.5 arcse\n",
      "                   c from all sources at this location in 1 arcsec Gaussian s\n",
      "                   eeing\n",
      "  fibertotflux_z   Predicted z-band flux within a fiber of diameter 1.5 arcse\n",
      "                   c from all sources at this location in 1 arcsec Gaussian s\n",
      "                   eeing\n",
      "       ref_epoch   Reference epoch for Gaia/Tycho astrometry. Typically 2015.\n",
      "                   5 for Gaia\n",
      "         shape_r   Half-light radius of galaxy model (>0)\n",
      "        shape_e1   Ellipticity component 1 of galaxy model for galaxy type MO\n",
      "                   RPHTYPE\n",
      "        shape_e2   Ellipticity component 2 of galaxy model for galaxy type MO\n",
      "                   RPHTYPE\n",
      "    shape_r_ivar   Inverse variance of SHAPE_R\n",
      "   shape_e1_ivar   Inverse variance of SHAPE_E1\n",
      "   shape_e2_ivar   Inverse variance of SHAPE_E2\n",
      "          sersic   Power-law index for the Sersic profile model (MORPHTYPE=SER)\n",
      "     sersic_ivar   Inverse variance of SERSIC\n",
      "gaia_phot_g_mean_mag   Gaia G band magnitude\n",
      "gaia_phot_g_mean_flux_over_error   Gaia G band signal-to-noise\n",
      "gaia_phot_bp_mean_mag   Gaia BP band magnitude\n",
      "gaia_phot_bp_mean_flux_over_error   Gaia BP band signal-to-noise\n",
      "gaia_phot_rp_mean_mag   Gaia RP band magnitude\n",
      "gaia_phot_rp_mean_flux_over_error   Gaia RP band signal-to-noise\n",
      "gaia_phot_bp_rp_excess_factor   Gaia BP/RP excess factor\n",
      "gaia_astrometric_sigma5d_max   Gaia longest semi-major axis of the 5-d error ellipsoid\n",
      "        parallax   Reference catalog parallax\n",
      "   parallax_ivar   Inverse variance of PARALLAX\n",
      "            pmra   Reference catalog proper motion in the RA direction\n",
      "       pmra_ivar   Inverse variance of PMRA\n",
      "           pmdec   Reference catalog proper motion in the Dec direction\n",
      "      pmdec_ivar   Inverse variance of PMDEC\n",
      "       random_id   Random ID in the range 0.0 => 100.0 (not unique)\n",
      "         brickid   Brick ID from Tractor input\n",
      "     brick_objid   Imaging Surveys OBJID on that brick\n",
      "            htm9   Ninth level (~10 arcmin resolution) Hierarchical Triangula\n",
      "                   r Mesh index (Szalay et al. 2007)\n",
      "         ring256   Ring-scheme HEALPix (Gorski et al. 2005) index with Nsides\n",
      "                   =256 (~14 arcmin size)\n",
      "        nest4096   Nested-scheme HEALPix (Gorski et al. 2005) index with Nsid\n",
      "                   es=4096 (~52 arcsec size)\n",
      "         release   Imaging Surveys release ID\n",
      "          nobs_g   Number of images for central pixel in g-band\n",
      "          nobs_r   Number of images for central pixel in r-band\n",
      "          nobs_z   Number of images for central pixel in z-band\n",
      "       allmask_g   Bitwise mask set if the central pixel from all images sati\n",
      "                   sfy each condition in g as cataloged on the LS DR9 bitmask\n",
      "                   s page\n",
      "       allmask_r   Bitwise mask set if the central pixel from all images sati\n",
      "                   sfy each condition in r as cataloged on the LS DR9 bitmask\n",
      "                   s page\n",
      "       allmask_z   Bitwise mask set if the central pixel from all images sati\n",
      "                   sfy each condition in z as cataloged on the LS DR9 bitmask\n",
      "                   s page\n",
      "     wisemask_w1   W1 bitmask as cataloged on the DR9 bitmasks page here http\n",
      "                   s://www.legacysurvey.org/dr9/bitmasks\n",
      "     wisemask_w2   W2 bitmask as cataloged on the DR9 bitmasks page here http\n",
      "                   s://www.legacysurvey.org/dr9/bitmasks\n",
      "        maskbits   Bitwise mask from the imaging indicating potential issue o\n",
      "                   r blending\n",
      "gaia_astrometric_params_solved   Which astrometric parameters were estimated for a Gaia source\n",
      "gaia_duplicated_source   Gaia duplicated source flag\n",
      "         ref_cat   Reference catalog source for star: T2 for Tycho2, G2 for G\n",
      "                   aia DR2, L2 for the SGA, empty otherwise\n",
      "       morphtype   Imaging Surveys morphological type from Tractor\n",
      "       brickname   Brick name from Tractor input\n",
      "\n"
     ]
    }
   ],
   "source": [
    "## Columns in the photometry table\n",
    "print(qc.schema('desi_edr.photometry'))"
   ]
  },
  {
   "cell_type": "markdown",
   "id": "a54caff8-926a-411b-8bca-3ad44228ca68",
   "metadata": {},
   "source": [
    "### zpix table"
   ]
  },
  {
   "cell_type": "code",
   "execution_count": 10,
   "id": "585367a6",
   "metadata": {
    "tags": []
   },
   "outputs": [
    {
     "name": "stdout",
     "output_type": "stream",
     "text": [
      "\n",
      "Schema: desi_edr\n",
      " Table: zpix\n",
      "\n",
      "     Column Name   Description\n",
      "     -----------   -----------\n",
      " tsnr2_gpbdark_r   GPBDARK R template (S/N)^2\n",
      "     tsnr2_elg_r   ELG R template (S/N)^2\n",
      "tsnr2_gpbbright_r   GPBBRIGHT R template (S/N)^2\n",
      "     tsnr2_lya_r   LYA R template (S/N)^2\n",
      "               z   Redshift measured by Redrock\n",
      "            zerr   Redshift error from Redrock\n",
      "            chi2   Best fit chi squared\n",
      "         coeff_0   Redrock template coefficients\n",
      "         coeff_1   Redrock template coefficients\n",
      "         coeff_2   Redrock template coefficients\n",
      "         coeff_3   Redrock template coefficients\n",
      "         coeff_4   Redrock template coefficients\n",
      "         coeff_5   Redrock template coefficients\n",
      "         coeff_6   Redrock template coefficients\n",
      "         coeff_7   Redrock template coefficients\n",
      "         coeff_8   Redrock template coefficients\n",
      "         coeff_9   Redrock template coefficients\n",
      "       deltachi2   Delta-chi-squared for template fit from Redrock\n",
      "   mean_fiber_ra   Mean (over exposures) RA of actual fiber position\n",
      "  mean_fiber_dec   Mean (over exposures) DEC of actual fiber position\n",
      "            elon   Ecliptic longitude\n",
      "            elat   Ecliptic latitude\n",
      "            glon   Galactic longitude\n",
      "            glat   Galactic latitude\n",
      "              id   Arbitrary primary key composed from targetid, survey, program\n",
      "        targetid   Unique DESI target ID\n",
      "   coadd_exptime   Sum of the exposure times contributing to the coadd for th\n",
      "                   is target\n",
      "    mean_delta_x   Mean (over exposures) fiber difference between measured an\n",
      "                   d requested CS5 X location on focal plane\n",
      "     rms_delta_x   RMS (over exposures) of the fiber difference between measu\n",
      "                   red and requested CS5 X location on focal plane\n",
      "    mean_delta_y   Mean (over exposures) fiber difference between measured an\n",
      "                   d requested CS5 Y location on focal plane\n",
      "     rms_delta_y   RMS (over exposures) of the fiber difference between measu\n",
      "                   red and requested CS5 Y location on focal plane\n",
      "    std_fiber_ra   Standard deviation (over exposures) of RA of actual fiber \n",
      "                   position\n",
      "   std_fiber_dec   Standard deviation (over exposures) of DEC of actual fiber\n",
      "                   position\n",
      "mean_psf_to_fiber_specflux   Mean of the PSF_TO_FIBER_SPECFLUX values of the spectra us\n",
      "                   ed in the coadd\n",
      " tsnr2_gpbdark_b   GPBDARK B template (S/N)^2\n",
      "     tsnr2_elg_b   ELG B template (S/N)^2\n",
      "tsnr2_gpbbright_b   GPBBRIGHT B template (S/N)^2\n",
      "     tsnr2_lya_b   LYA B template (S/N)^2\n",
      "     tsnr2_bgs_b   BGS B template (S/N)^2\n",
      "tsnr2_gpbbackup_b   GPBBACKUP B template (S/N)^2\n",
      "     tsnr2_qso_b   QSO B template (S/N)^2\n",
      "     tsnr2_lrg_b   LRG B template (S/N)^2\n",
      "     tsnr2_bgs_r   BGS R template (S/N)^2\n",
      "tsnr2_gpbbackup_r   GPBBACKUP R template (S/N)^2\n",
      "     tsnr2_qso_r   QSO R template (S/N)^2\n",
      "     tsnr2_lrg_r   LRG R template (S/N)^2\n",
      " tsnr2_gpbdark_z   GPBDARK Z template (S/N)^2\n",
      "     tsnr2_elg_z   ELG Z template (S/N)^2\n",
      "tsnr2_gpbbright_z   GPBBRIGHT Z template (S/N)^2\n",
      "     tsnr2_lya_z   LYA Z template (S/N)^2\n",
      "     tsnr2_bgs_z   BGS Z template (S/N)^2\n",
      "tsnr2_gpbbackup_z   GPBBACKUP Z template (S/N)^2\n",
      "     tsnr2_qso_z   QSO Z template (S/N)^2\n",
      "     tsnr2_lrg_z   LRG Z template (S/N)^2\n",
      "   tsnr2_gpbdark   GPBDARK template (S/N)^2 summed over B, R, Z\n",
      "       tsnr2_elg   ELG template (S/N)^2 summed over B, R, Z\n",
      " tsnr2_gpbbright   GPBBRIGHT template (S/N)^2 summed over B, R, Z\n",
      "       tsnr2_lya   LYA template (S/N)^2 summed over B, R, Z\n",
      "       tsnr2_bgs   BGS template (S/N)^2 summed over B, R, Z\n",
      " tsnr2_gpbbackup   GPBBACKUP template (S/N)^2 summed over B, R, Z\n",
      "       tsnr2_qso   QSO template (S/N)^2 summed over B, R, Z\n",
      "       tsnr2_lrg   LRG template (S/N)^2 summed over B, R, Z\n",
      "       random_id   Random ID in the range 0.0 => 100.0 (not unique)\n",
      "        spgrpval   Value corresponding to the grouping type indicated in the \n",
      "                   spgrp column. For zpix table this is the same as the healp\n",
      "                   ix column\n",
      "         healpix   HEALPixel containing this location at NSIDE=64 in the NEST\n",
      "                   ED scheme\n",
      "coadd_fiberstatus   Bitwise AND of the FIBERSTATUS values of the spectra used \n",
      "                   in the coadd\n",
      "            htm9   Ninth level (~10 arcmin resolution) Hierarchical Triangula\n",
      "                   r Mesh index (Szalay et al. 2007)\n",
      "         ring256   Ring-scheme HEALPix (Gorski et al. 2005) index with Nsides\n",
      "                   =256 (~14 arcmin size)\n",
      "        nest4096   Nested-scheme HEALPix (Gorski et al. 2005) index with Nsid\n",
      "                   es=4096 (~52 arcsec size)\n",
      "           zwarn   Redshift warning bitmask measured by Redrock\n",
      "         npixels   Number of unmasked wavelengths that contributed to the red\n",
      "                   shift fit\n",
      "          ncoeff   Number of Redrock template coefficients\n",
      "    coadd_numexp   Number of exposures included in the coadd for this target\n",
      "  coadd_numnight   Number of different nights included in the coadd for this \n",
      "                   target\n",
      "   coadd_numtile   Number of different tiles included in the coadd for this target\n",
      "        sv_nspec   Number of coadded spectra for this TARGETID in SV (SV1+2+3)\n",
      "      main_nspec   Number of coadded spectra for this TARGETID in Main survey\n",
      "      zcat_nspec   Number of coadded spectra for this TARGETID in this zcatalog\n",
      "      sv_primary   Boolean flag (True/False) for the primary coadded spectrum\n",
      "                   in SV (SV1+2+3)\n",
      "    main_primary   Boolean flag (True/False) for the primary coadded spectrum\n",
      "                   in Main survey\n",
      "    zcat_primary   Boolean flag (True/False) for the primary coadded spectrum\n",
      "                   in this zcatalog\n",
      "           spgrp   Type of spectral grouping. For zpix table this is always =\n",
      "                   healpix\n",
      "         subtype   Spectral subtype\n",
      "         program   DESI program type - BRIGHT, DARK, or BACKUP\n",
      "        spectype   Spectype from Redrock file\n",
      "          survey   Survey name\n",
      "      firstnight   KPNO Calendar Date for the first NIGHT of observation coad\n",
      "                   ded into the spectrum\n",
      "       lastnight   KPNO Calendar Date for the last NIGHT of the last observat\n",
      "                   ion coadded into the spectrum\n",
      "        mean_mjd   Mean (over exposures) of the Modified Julian Date (MJD) wh\n",
      "                   en the shutter was opened\n",
      "         min_mjd   Minimum value of the Modified Julian Date (when the shutte\n",
      "                   r was open for the first exposure)\n",
      "         max_mjd   Maximum value of the Modified Julian Date (when the shutte\n",
      "                   r was open for the last exposure, i.e. not including the e\n",
      "                   xposure time)\n",
      "      mws_target   Milky Way Survey targeting bits\n",
      "  sv1_mws_target   MWS (bright time program) target selection bitmask for SV1\n",
      "  sv2_mws_target   MWS (bright time program) target selection bitmask for SV2\n",
      "  sv3_mws_target   MWS (bright time program) target selection bitmask for SV3\n",
      "     scnd_target   Target selection bitmask for secondary programs\n",
      " sv1_scnd_target   Secondary target selection bitmask for SV1\n",
      " sv2_scnd_target   Secondary target selection bitmask for SV2\n",
      " sv3_scnd_target   Secondary target selection bitmask for SV3\n",
      "      bgs_target   BGS (bright time program) target selection bitmask\n",
      "  sv1_bgs_target   BGS (bright time program) target selection bitmask for SV1\n",
      "  sv2_bgs_target   BGS (bright time program) target selection bitmask for SV2\n",
      "  sv3_bgs_target   BGS (bright time program) target selection bitmask for SV3\n",
      "     desi_target   Dark survey + calibration targeting bits\n",
      " sv1_desi_target   DESI (dark time program) target selection bitmask for SV1\n",
      " sv2_desi_target   DESI (dark time program) target selection bitmask for SV2\n",
      " sv3_desi_target   DESI (dark time program) target selection bitmask for SV3\n",
      "      cmx_target   Target selection bitmask for commissioning\n",
      "\n"
     ]
    }
   ],
   "source": [
    "## Columns in the zpix table\n",
    "print(qc.schema('desi_edr.zpix'))"
   ]
  },
  {
   "cell_type": "markdown",
   "id": "a73c8d41",
   "metadata": {},
   "source": [
    "<a class=\"anchor\" id=\"desi_target_access\"></a>\n",
    "# Accessing DESI targets\n",
    "\n",
    "The DESI spectra are uniquely identified by three quantities:\n",
    "\n",
    "* **targetid**: unique identifier for a given target\n",
    "* **survey**: SURVEY that the target was observed in. This can be _cmx_, _special_, _sv1_, _sv2_, or _sv3_.\n",
    "* **program**: FIBER ASSIGNMENT PROGRAM. This is the planned observing conditions for the target. It can be _dark_ or _bright_ or _backup_. In case of _cmx_ and _sv1_, there is _other_ as well.\n",
    "    \n",
    "The different spectra of individual targets are coadded within each survey and program. Therefore, some targets may have multiple coadded spectra and each one is associated with a given `targetid`, `survey`, and `program`. The \"best\" spectrum for a given object is given by the `zcat_primary` column. More information about the data model of the redshift catalogs is available [here](https://desidatamodel.readthedocs.io/en/latest/DESI_SPECTRO_REDUX/SPECPROD/zcatalog/zpix-SURVEY-PROGRAM.html#)."
   ]
  },
  {
   "cell_type": "code",
   "execution_count": 11,
   "id": "3fa52500-3810-486e-ab65-f79080aa0e05",
   "metadata": {
    "tags": []
   },
   "outputs": [],
   "source": [
    "#eg. SELECT (column_1, column_2, ... column_n) FROM T1 JOIN T2 ON (condition) WHERE (condition)"
   ]
  },
  {
   "cell_type": "markdown",
   "id": "3c7b737f-2ffc-4dc4-9524-9865e934771c",
   "metadata": {},
   "source": [
    "### To select in two tables\n",
    "\n",
    "```\n",
    "SELECT t1.id, t1.ra, t1.dec, t2.mag, t2.band\n",
    "FROM catalog.table1 AS t1\n",
    "JOIN catalog.table2 AS t2 ON t1.id = t2.id\n",
    "WHERE CONTAINS(POINT('IRCS', t1.ra, t1.dec), CIRCLE('ICRS', 62.123, -37.456 0.002)) = 1\n",
    "```"
   ]
  },
  {
   "cell_type": "code",
   "execution_count": 12,
   "id": "681a52fb",
   "metadata": {
    "tags": []
   },
   "outputs": [],
   "source": [
    "query = \"\"\"\n",
    "SELECT zp.targetid, zp.survey, zp.program, zp.healpix,  \n",
    "       zp.z, zp.zwarn, zp.coadd_fiberstatus, zp.spectype, \n",
    "       zp.mean_fiber_ra, zp.mean_fiber_dec, zp.zcat_nspec, \n",
    "       CAST(zp.zcat_primary as int), zp.desi_target,\n",
    "       zp.sv1_desi_target, zp.sv2_desi_target, zp.sv3_desi_target\n",
    "FROM desi_edr.zpix AS zp\n",
    "\"\"\" \n",
    "\n",
    "## Information about the query\n",
    "## Selected columns --\n",
    "## targetid, survey, program -- unique identifiers for a given spectrum\n",
    "## healpix -- healpix number for the target\n",
    "## z -- spectroscopic redshift of the target\n",
    "## zwarn -- encoded information regarding the redshift (zwarn = 0 is good)\n",
    "## coadd_fiberstatus -- encoded information regarding the fiber that is assigned to the target (coadd_fiberstatus = 0 is good)\n",
    "## spectype -- Spectral type of the target: STAR | GALAXY | QSO\n",
    "## mean_fiber_ra, mean_fiber_dec -- Mean R.A. and Dec. of the fiber position from all the observations of the target\n",
    "## zcat_nspec -- Number of coadded spectra that are available for a given target\n",
    "## zcat_primary -- Whether or not a given coadded spectrum is the primary spectrum. zcat_primary = True for the \"best\" spectrum.\n",
    "## CASTing this column as an INT: zcat_primary = 1 for the \"best\" spectrum.\n",
    "## desi_target -- encodes main survey's DESI targeting information - explained in detail below\n",
    "## sv1_desi_target -- encodes sv1 desi targeting information\n",
    "## sv2_desi_target -- encodes sv2 desi targeting information\n",
    "## sv3_desi_target -- encodes sv3 desi targeting information"
   ]
  },
  {
   "cell_type": "code",
   "execution_count": 13,
   "id": "3179cf11-b25a-49ba-b65d-3df0b888f793",
   "metadata": {
    "tags": []
   },
   "outputs": [],
   "source": [
    "query = \"\"\"\n",
    "SELECT zp.targetid, zp.survey, zp.program, zp.healpix,  \n",
    "       zp.z, zp.zwarn, zp.coadd_fiberstatus, zp.spectype, \n",
    "       zp.mean_fiber_ra, zp.mean_fiber_dec, zp.zcat_nspec, \n",
    "       CAST(zp.zcat_primary as int), zp.desi_target,\n",
    "       zp.sv1_desi_target, zp.sv2_desi_target, zp.sv3_desi_target,\n",
    "       ph.ra,ph.dec, ph.morphtype,\n",
    "       ph.flux_g,ph.flux_r, ph.flux_z, ph.flux_ivar_g, ph.flux_ivar_r,ph.flux_ivar_z,\n",
    "       ph.flux_w1, ph.flux_w2, ph.flux_w3, ph.flux_w4, \n",
    "       ph.flux_ivar_w1, ph.flux_ivar_w2, ph.flux_ivar_w3, ph.flux_ivar_w4   \n",
    "FROM desi_edr.zpix AS zp JOIN desi_edr.photometry AS ph ON (zp.targetid = ph.targetid)\n",
    "\"\"\" "
   ]
  },
  {
   "cell_type": "code",
   "execution_count": 14,
   "id": "99db999f",
   "metadata": {
    "tags": []
   },
   "outputs": [
    {
     "name": "stdout",
     "output_type": "stream",
     "text": [
      "\n",
      "SELECT zp.targetid, zp.survey, zp.program, zp.healpix,  \n",
      "       zp.z, zp.zwarn, zp.coadd_fiberstatus, zp.spectype, \n",
      "       zp.mean_fiber_ra, zp.mean_fiber_dec, zp.zcat_nspec, \n",
      "       CAST(zp.zcat_primary as int), zp.desi_target,\n",
      "       zp.sv1_desi_target, zp.sv2_desi_target, zp.sv3_desi_target,\n",
      "       ph.ra,ph.dec, ph.morphtype,\n",
      "       ph.flux_g,ph.flux_r, ph.flux_z, ph.flux_ivar_g, ph.flux_ivar_r,ph.flux_ivar_z,\n",
      "       ph.flux_w1, ph.flux_w2, ph.flux_w3, ph.flux_w4, \n",
      "       ph.flux_ivar_w1, ph.flux_ivar_w2, ph.flux_ivar_w3, ph.flux_ivar_w4   \n",
      "FROM desi_edr.zpix AS zp JOIN desi_edr.photometry AS ph ON (zp.targetid = ph.targetid)\n",
      "\n"
     ]
    }
   ],
   "source": [
    "print(query)"
   ]
  },
  {
   "cell_type": "code",
   "execution_count": null,
   "id": "23b75a55",
   "metadata": {
    "tags": []
   },
   "outputs": [],
   "source": [
    "zpix = qc.query(sql = query, fmt = 'table')"
   ]
  },
  {
   "cell_type": "code",
   "execution_count": null,
   "id": "2e923d7b",
   "metadata": {
    "tags": []
   },
   "outputs": [],
   "source": [
    "print(f\"The resulting table has {len(zpix)} rows\")\n",
    "zpix[0:5]"
   ]
  },
  {
   "cell_type": "code",
   "execution_count": null,
   "id": "74b579e4",
   "metadata": {
    "tags": []
   },
   "outputs": [],
   "source": [
    "# Check how many rows have unique TARGETIDs before/after applying the ZCAT_PRIMARY flag\n",
    "print(f\"Total N(rows) : {len(zpix)}\")\n",
    "print(f\"N(rows) with unique TARGETIDs : {len(np.unique(zpix['targetid']))}\")\n",
    "\n",
    "is_primary = (zpix['zcat_primary']==1)\n",
    "\n",
    "print(f\"N(rows) with ZCAT_PRIMARY=True : {len(zpix[is_primary])}\")"
   ]
  },
  {
   "cell_type": "code",
   "execution_count": null,
   "id": "5aecc959",
   "metadata": {
    "tags": []
   },
   "outputs": [],
   "source": [
    "## Selecting only unique objects\n",
    "zpix_cat = zpix[is_primary]"
   ]
  },
  {
   "cell_type": "code",
   "execution_count": null,
   "id": "0cbcfb28-6a76-4be3-bb1a-fc904fd82dcd",
   "metadata": {
    "tags": []
   },
   "outputs": [],
   "source": [
    "type(zpix_cat)"
   ]
  },
  {
   "cell_type": "code",
   "execution_count": null,
   "id": "f134f701-a22b-4b97-8b76-55c753186cd7",
   "metadata": {
    "tags": []
   },
   "outputs": [],
   "source": [
    "df = zpix_cat.to_pandas()"
   ]
  },
  {
   "cell_type": "code",
   "execution_count": null,
   "id": "882e7990-4e42-4422-a234-9e650da8d422",
   "metadata": {
    "tags": []
   },
   "outputs": [],
   "source": [
    "df.describe()"
   ]
  },
  {
   "cell_type": "markdown",
   "id": "f9bd158a-fd3a-418e-91be-5d9e83a32809",
   "metadata": {},
   "source": [
    "### Remove Galaxies with unknown mags and select Galaxies only"
   ]
  },
  {
   "cell_type": "code",
   "execution_count": null,
   "id": "7cb6e854-8629-42de-9257-d1c0db5b6235",
   "metadata": {
    "tags": []
   },
   "outputs": [],
   "source": [
    "cut = (df.flux_g == 0) | (df.flux_r == 0) | (df.flux_z == 0) |  (df.flux_w1 == 0) | (df.flux_w2 == 0)\n",
    "df = df.drop(df[cut].index)"
   ]
  },
  {
   "cell_type": "code",
   "execution_count": null,
   "id": "1d927e81-d713-4546-bbb0-6033013f5300",
   "metadata": {
    "tags": []
   },
   "outputs": [],
   "source": [
    "df = df[df.spectype == \"GALAXY\"]"
   ]
  },
  {
   "cell_type": "markdown",
   "id": "0aea64c4-8f93-4135-b603-591fe1c9d6ee",
   "metadata": {},
   "source": [
    "### Convert fluxes in AB magnitudes\n",
    "- reference on the Legacy Survey here : https://www.legacysurvey.org/dr8/description/"
   ]
  },
  {
   "cell_type": "markdown",
   "id": "889d75ba-e920-4a63-9f09-ba5382dd0c7b",
   "metadata": {},
   "source": [
    "- a flux of 1 nanomaggie corresponds to an AB magnitude of 22.5.\n",
    "- A source with a spectrum of 𝑓 = 10^( − (48.6 + 22.5)/2.5) erg/s/cm²/Hz would be reported to have an integrated flux of 1 nanomaggie in any filter\n",
    "- a flux of one maggies is constant in erg/s/cm²/Hz"
   ]
  },
  {
   "cell_type": "code",
   "execution_count": null,
   "id": "d8c11f87-929a-49aa-9af6-b069969bdb9a",
   "metadata": {
    "tags": []
   },
   "outputs": [],
   "source": [
    "#dm = -2.5 / log(10) * 1/(sqrt(ivar)*f)\n",
    "error_factor = 2.5/np.log(10)"
   ]
  },
  {
   "cell_type": "code",
   "execution_count": null,
   "id": "3cc48f55-1765-4692-bafb-e366b43a2d88",
   "metadata": {
    "tags": []
   },
   "outputs": [],
   "source": [
    "# assuming the flux in in Jy\n",
    "#df[\"mag_g\"] = df[\"flux_g\"].apply(lambda x : (x*u.Jy).to_value(u.ABmag))\n",
    "#df[\"mag_r\"] = df[\"flux_r\"].apply(lambda x : (x*u.Jy).to_value(u.ABmag))\n",
    "#df[\"mag_z\"] = df[\"flux_z\"].apply(lambda x : (x*u.Jy).to_value(u.ABmag))\n",
    "\n",
    "# assuming the flux is in nanomaggies\n",
    "#df[\"mag_g\"] = df[\"flux_g\"].apply(lambda x : 22.5 - 2.5*np.log10(x))\n",
    "#df[\"mag_r\"] = df[\"flux_r\"].apply(lambda x : 22.5 - 2.5*np.log10(x))\n",
    "#df[\"mag_z\"] = df[\"flux_z\"].apply(lambda x : 22.5 - 2.5*np.log10(x))\n",
    "\n",
    "# assuming the flux is in maggies (erg/s/cm²/Hz)\n",
    "df[\"mag_g\"] = df[\"flux_g\"].apply(lambda x : (x*u.erg/u.s/(u.cm)**2/u.Hz).to_value(u.ABmag) + 48.6 + 22.5)\n",
    "df[\"mag_r\"] = df[\"flux_r\"].apply(lambda x : (x*u.erg/u.s/(u.cm)**2/u.Hz).to_value(u.ABmag) + 48.6 + 22.5)\n",
    "df[\"mag_z\"] = df[\"flux_z\"].apply(lambda x : (x*u.erg/u.s/(u.cm)**2/u.Hz).to_value(u.ABmag) + 48.6 + 22.5)"
   ]
  },
  {
   "cell_type": "code",
   "execution_count": null,
   "id": "3a911558-a066-4f02-819e-61b004af6d63",
   "metadata": {},
   "outputs": [],
   "source": [
    "# assuming the flux is in maggies (erg/s/cm²/Hz)\n",
    "df[\"mag_w1\"] = df[\"flux_w1\"].apply(lambda x : (x*u.erg/u.s/(u.cm)**2/u.Hz).to_value(u.ABmag) + 48.6 + 22.5)\n",
    "df[\"mag_w2\"] = df[\"flux_w2\"].apply(lambda x : (x*u.erg/u.s/(u.cm)**2/u.Hz).to_value(u.ABmag) + 48.6 + 22.5)\n",
    "df[\"mag_w3\"] = df[\"flux_w3\"].apply(lambda x : (x*u.erg/u.s/(u.cm)**2/u.Hz).to_value(u.ABmag) + 48.6 + 22.5)\n",
    "df[\"mag_w4\"] = df[\"flux_w4\"].apply(lambda x : (x*u.erg/u.s/(u.cm)**2/u.Hz).to_value(u.ABmag) + 48.6 + 22.5)"
   ]
  },
  {
   "cell_type": "code",
   "execution_count": null,
   "id": "4e027ada-6230-4ece-81bb-58abc67f5709",
   "metadata": {
    "tags": []
   },
   "outputs": [],
   "source": [
    "df[\"mag_g_err\"] = df[[\"flux_g\",\"flux_ivar_g\"]].apply(lambda x : error_factor/x[0]/np.sqrt(x[1]),raw=True,axis=1)\n",
    "df[\"mag_r_err\"] = df[[\"flux_r\",\"flux_ivar_r\"]].apply(lambda x : error_factor/x[0]/np.sqrt(x[1]),raw=True,axis=1)\n",
    "df[\"mag_z_err\"] = df[[\"flux_z\",\"flux_ivar_z\"]].apply(lambda x : error_factor/x[0]/np.sqrt(x[1]),raw=True,axis=1)"
   ]
  },
  {
   "cell_type": "code",
   "execution_count": null,
   "id": "934e4b6a-526d-4e37-b97e-299ef25cb53c",
   "metadata": {},
   "outputs": [],
   "source": [
    "df[\"mag_w1_err\"] = df[[\"flux_w1\",\"flux_ivar_w1\"]].apply(lambda x : error_factor/x[0]/np.sqrt(x[1]),raw=True,axis=1)\n",
    "df[\"mag_w2_err\"] = df[[\"flux_w2\",\"flux_ivar_w2\"]].apply(lambda x : error_factor/x[0]/np.sqrt(x[1]),raw=True,axis=1)\n",
    "df[\"mag_w3_err\"] = df[[\"flux_w3\",\"flux_ivar_w3\"]].apply(lambda x : error_factor/x[0]/np.sqrt(x[1]),raw=True,axis=1)\n",
    "df[\"mag_w4_err\"] = df[[\"flux_w4\",\"flux_ivar_w4\"]].apply(lambda x : error_factor/x[0]/np.sqrt(x[1]),raw=True,axis=1)"
   ]
  },
  {
   "cell_type": "markdown",
   "id": "14a21c2c-696e-46ec-84f8-bb12e2fc49f4",
   "metadata": {},
   "source": [
    "### Plot magnitudes"
   ]
  },
  {
   "cell_type": "code",
   "execution_count": null,
   "id": "178f7e50-f907-478f-833e-4eb1a963092d",
   "metadata": {
    "tags": []
   },
   "outputs": [],
   "source": [
    "fig,axs = plt.subplots(1,3,figsize=(16,4),layout=\"constrained\")\n",
    "ax1,ax2,ax3 = axs.flatten()\n",
    "df[\"mag_g\"].hist(bins=50,range=(0,32),ax=ax1,facecolor=\"g\")\n",
    "ax1.set_yscale(\"log\")\n",
    "df[\"mag_r\"].hist(bins=50,range=(0,32),ax=ax2,facecolor=\"r\")\n",
    "ax2.set_yscale(\"log\")\n",
    "df[\"mag_z\"].hist(bins=50,range=(0,32),ax=ax3,facecolor=\"grey\")\n",
    "ax3.set_yscale(\"log\")"
   ]
  },
  {
   "cell_type": "code",
   "execution_count": null,
   "id": "cb5ca497-91f6-4dbb-a143-678abc51e575",
   "metadata": {},
   "outputs": [],
   "source": [
    "fig,axs = plt.subplots(1,4,figsize=(18,4),layout=\"constrained\")\n",
    "ax1,ax2,ax3,ax4 = axs.flatten()\n",
    "df[\"mag_w1\"].hist(bins=50,range=(0,32),ax=ax1,facecolor=\"C1\",label=\"w1\")\n",
    "ax1.set_yscale(\"log\")\n",
    "df[\"mag_w2\"].hist(bins=50,range=(0,32),ax=ax2,facecolor=\"C2\",label=\"w2\")\n",
    "ax2.set_yscale(\"log\")\n",
    "df[\"mag_w3\"].hist(bins=50,range=(0,32),ax=ax3,facecolor=\"C3\",label=\"w3\")\n",
    "ax3.set_yscale(\"log\")\n",
    "df[\"mag_w4\"].hist(bins=50,range=(0,32),ax=ax4,facecolor=\"C4\",label=\"w4\")\n",
    "ax4.set_yscale(\"log\")"
   ]
  },
  {
   "cell_type": "markdown",
   "id": "a49f1706-2a32-4ff6-bd17-97a878b60d56",
   "metadata": {},
   "source": [
    "### Plot magnitudes errors"
   ]
  },
  {
   "cell_type": "code",
   "execution_count": null,
   "id": "3b680dd5-5b0f-4213-9a86-f8244544bdca",
   "metadata": {
    "tags": []
   },
   "outputs": [],
   "source": [
    "fig,axs = plt.subplots(1,3,figsize=(16,4),layout=\"constrained\")\n",
    "ax1,ax2,ax3 = axs.flatten()\n",
    "df.plot.scatter(x=\"mag_g\",y=\"mag_g_err\",ax=ax1,marker=\".\",color=\"g\")\n",
    "df.plot.scatter(x=\"mag_r\",y=\"mag_r_err\",ax=ax2,marker=\".\",color=\"r\")\n",
    "df.plot.scatter(x=\"mag_z\",y=\"mag_z_err\",ax=ax3,marker=\".\",color=\"grey\")\n",
    "\n",
    "ax1.set_ylim(0,0.1)\n",
    "ax2.set_ylim(0,0.1)\n",
    "ax3.set_ylim(0,0.1)"
   ]
  },
  {
   "cell_type": "code",
   "execution_count": null,
   "id": "4d165835-1024-4bae-9c40-e28362b2d727",
   "metadata": {},
   "outputs": [],
   "source": [
    "fig,axs = plt.subplots(1,4,figsize=(18,4),layout=\"constrained\")\n",
    "ax1,ax2,ax3,ax4 = axs.flatten()\n",
    "df.plot.scatter(x=\"mag_w1\",y=\"mag_w1_err\",ax=ax1,marker=\".\",color=\"C1\")\n",
    "df.plot.scatter(x=\"mag_w2\",y=\"mag_w2_err\",ax=ax2,marker=\".\",color=\"C2\")\n",
    "df.plot.scatter(x=\"mag_w3\",y=\"mag_w3_err\",ax=ax3,marker=\".\",color=\"C3\")\n",
    "df.plot.scatter(x=\"mag_w4\",y=\"mag_w4_err\",ax=ax4,marker=\".\",color=\"C4\")\n",
    "\n",
    "ax1.set_ylim(0,0.1)\n",
    "ax2.set_ylim(0,0.1)\n",
    "ax3.set_ylim(0,0.1)\n",
    "ax4.set_ylim(0,0.1)"
   ]
  },
  {
   "cell_type": "markdown",
   "id": "1ec0050d-270c-412c-836f-6b8f441e489e",
   "metadata": {},
   "source": [
    "## Localisation in Sky"
   ]
  },
  {
   "cell_type": "code",
   "execution_count": null,
   "id": "b25ccd58-54e8-4343-a47a-9d9b25c51825",
   "metadata": {},
   "outputs": [],
   "source": [
    "fig,ax = plt.subplots(1,1,figsize=(12,6),layout=\"constrained\")\n",
    "df.plot.scatter(x=\"ra\",y=\"dec\",ax=ax,marker=\".\",color=\"b\",alpha=0.8,grid=True)\n",
    "ax.legend(bbox_to_anchor=(1.1, 1.05))\n",
    "plt.gca().set_aspect('equal')"
   ]
  },
  {
   "cell_type": "markdown",
   "id": "587092fc",
   "metadata": {},
   "source": [
    "<a class=\"anchor\" id=\"target_info\"></a>\n",
    "## Selecting sources based on targeting information\n",
    "\n",
    "DESI targets are divided into five main classes:\n",
    "* MWS: Milky Way Survey - This survey probes \"stars\" in the Milky Way.\n",
    "* BGS: Bright Galaxy Survey - This survey probes the bright galaxies in the nearby universe.\n",
    "* LRG: Luminous Red Galaxies\n",
    "* ELG: Emission Line Galaxies\n",
    "* QSO: Quasars\n",
    "\n",
    "[Myers et al. 2023](https://ui.adsabs.harvard.edu/abs/2023AJ....165...50M/abstract) describe the target selection and information in more detail. Apart from these main classes, there are also secondary fiber targets that are based on different secondary programs in DESI (SCND targets).\n",
    "\n",
    "The `*DESI_TARGET` columns encode the information related to which class the target belongs to. Note that some sources can be part of different classes. \n",
    "\n",
    "In this section, we show how to select sources based on their targeting information.\n",
    "\n",
    "The information about different target bits is available [here](https://desidatamodel.readthedocs.io/en/latest/bitmasks.html#target-masks). By using the target bits directly, we avoid the usage of targetmasks that come from DESI software."
   ]
  },
  {
   "cell_type": "code",
   "execution_count": null,
   "id": "81d70bb0-a827-4d05-b448-3829c170049b",
   "metadata": {
    "tags": []
   },
   "outputs": [],
   "source": [
    "## Function to check the bits\n",
    "def check_bits_pddf(row):\n",
    "    \"\"\"\n",
    "    Function to check the bits corresponding to the main target classes.\n",
    "\n",
    "    Parameters\n",
    "    ----------\n",
    "    table : astropy table\n",
    "        Table of DESI targets with required sv*desi_target columns\n",
    "        \n",
    "    bit : int\n",
    "        Target bit from DESI global variable\n",
    "\n",
    "    Returns\n",
    "    -------\n",
    "    res : numpy array\n",
    "        Boolean array corresponding to the bit\n",
    "    \"\"\"\n",
    "    # Targeting information about the DESI targeting is stored in the different desi_target columns\n",
    "    sv1_desi_tgt = row['sv1_desi_target']\n",
    "    sv2_desi_tgt = row['sv2_desi_target']\n",
    "    sv3_desi_tgt = row['sv3_desi_target']\n",
    "        \n",
    "    val = (2**bit)\n",
    "    res = (sv1_desi_tgt & val != 0)|(sv2_desi_tgt & val != 0)|(sv3_desi_tgt & val != 0)\n",
    "\n",
    "    return (res)"
   ]
  },
  {
   "cell_type": "code",
   "execution_count": null,
   "id": "daadc5c5",
   "metadata": {
    "tags": []
   },
   "outputs": [],
   "source": [
    "## Selecting candidates - \n",
    "## Target bits from DESI:\n",
    "## 1. BGS: bit 60\n",
    "## 2. LRG: bit 0\n",
    "## 3. ELG: bit 1\n",
    "## 4. QSO: bit 2\n",
    "## 5. MWS: bit 61\n",
    "## 6. Secondary Targets: bit 62"
   ]
  },
  {
   "cell_type": "code",
   "execution_count": null,
   "id": "8542a794",
   "metadata": {
    "tags": []
   },
   "outputs": [],
   "source": [
    "targets = ['BGS', 'LRG', 'ELG', 'QSO', 'MWS', 'SCND']"
   ]
  },
  {
   "cell_type": "code",
   "execution_count": null,
   "id": "d5251194-b807-4764-b10e-9db5f8ee1815",
   "metadata": {
    "tags": []
   },
   "outputs": [],
   "source": [
    "# MWS: Milky Way Survey (all false by constrution\n",
    "bit = 61\n",
    "df['MWS'] = df.apply(check_bits_pddf,axis=1)\n",
    "#BGS: Bright Galaxy Survey\n",
    "bit = 60\n",
    "df['BGS'] = df.apply(check_bits_pddf,axis=1)\n",
    "# LRG: Luminous Red Galaxies\n",
    "bit = 0\n",
    "df['LRG'] = df.apply(check_bits_pddf,axis=1)\n",
    "# ELG: Emission Line Galaxies\n",
    "bit = 1\n",
    "df['ELG'] = df.apply(check_bits_pddf,axis=1)\n",
    "# QSO : Quasars\n",
    "bit = 2\n",
    "df['QSO'] = df.apply(check_bits_pddf,axis=1)\n",
    "# Secondary Targets\n",
    "bit = 62\n",
    "df['SCND'] = df.apply(check_bits_pddf,axis=1)"
   ]
  },
  {
   "cell_type": "code",
   "execution_count": null,
   "id": "7376b681-4f26-4448-b755-3c54a136fbcf",
   "metadata": {
    "tags": []
   },
   "outputs": [],
   "source": [
    "df_target = df[targets]"
   ]
  },
  {
   "cell_type": "code",
   "execution_count": null,
   "id": "b6225101-e4b9-41a0-b983-78ca9b8c90b3",
   "metadata": {},
   "outputs": [],
   "source": [
    "df_target_sum = df_target.sum()\n",
    "df_target_sum "
   ]
  },
  {
   "cell_type": "code",
   "execution_count": null,
   "id": "4eca9eb5-7632-4fa6-8d06-1910225090d0",
   "metadata": {
    "tags": []
   },
   "outputs": [],
   "source": [
    "n_bgs = df_target_sum['BGS']\n",
    "n_lrg = df_target_sum['LRG']\n",
    "n_elg = df_target_sum['ELG']\n",
    "n_qso = df_target_sum['QSO']"
   ]
  },
  {
   "cell_type": "code",
   "execution_count": null,
   "id": "9f25a4aa-373b-4f16-837a-894594bdd5c7",
   "metadata": {},
   "outputs": [],
   "source": [
    "import matplotlib.ticker as mtick\n",
    "\n",
    "fig,ax = plt.subplots(1,1,figsize = (6,3))\n",
    "df_target_sum.plot.bar(ax=ax,facecolor=\"r\",xlabel=\"object types\",ylabel=\"number of objects\")\n",
    "logfmt = mtick.LogFormatterExponent(base=10.0, labelOnlyBase=False) \n",
    "ax.yaxis.set_major_formatter(logfmt)\n",
    "ax.yaxis.set_major_formatter(mtick.ScalarFormatter(useMathText=True))\n",
    "ax.set_yscale('log')"
   ]
  },
  {
   "cell_type": "code",
   "execution_count": null,
   "id": "e1d43d9c-aa55-4de5-86ea-49843f4810d8",
   "metadata": {
    "tags": []
   },
   "outputs": [],
   "source": [
    "# Now let us look at the distribution of redshifts -\n",
    "\n",
    "fig, axs = plt.subplots(4, 1, figsize = (8, 10))\n",
    "bins = np.arange(0, 4, 0.2)\n",
    "\n",
    "axs[0].hist(df[df['BGS']].z, color = 'C0', bins = bins, label = f'BGS: {n_bgs} sources')\n",
    "axs[0].legend(fontsize = 14)\n",
    "axs[0].set_ylabel(\"N(z)\")\n",
    "axs[1].hist(df[df['LRG']].z, color = 'C1', bins = bins, label = f'LRG: {n_lrg} sources')\n",
    "axs[1].legend(fontsize = 14)\n",
    "axs[1].set_ylabel(\"N(z)\")\n",
    "axs[2].hist(df[df['ELG']].z, color = 'C2', bins = bins, label = f'ELG: {n_elg} sources')\n",
    "axs[2].legend(fontsize = 14)\n",
    "axs[2].set_ylabel(\"N(z)\")\n",
    "axs[3].hist(df[df['QSO']].z, color = 'C3', bins = bins, label = f'QSO: {n_qso} sources')\n",
    "axs[3].legend(fontsize = 14)\n",
    "axs[3].set_ylabel(\"N(z)\")\n",
    "axs[3].set_xlabel(\"Redshift\")"
   ]
  },
  {
   "cell_type": "markdown",
   "id": "c2ad038b-d28a-4e4f-90fa-150b50ac6791",
   "metadata": {},
   "source": [
    "## Localisation"
   ]
  },
  {
   "cell_type": "code",
   "execution_count": null,
   "id": "7e989dae-7122-4145-9747-6d919657ff04",
   "metadata": {
    "tags": []
   },
   "outputs": [],
   "source": [
    "fig,ax = plt.subplots(1,1,figsize=(10,8),layout=\"constrained\")\n",
    "df[df['BGS']].plot.scatter(x=\"ra\",y=\"dec\",ax=ax,marker=\".\",color = 'C0',alpha=0.5,grid=True,label=\"BGS\")\n",
    "df[df['LRG']].plot.scatter(x=\"ra\",y=\"dec\",ax=ax,marker=\".\",color = 'C1',alpha=0.5,grid=True,label=\"LRG\")\n",
    "df[df['ELG']].plot.scatter(x=\"ra\",y=\"dec\",ax=ax,marker=\".\",color = 'C2',alpha=0.5,grid=True,label=\"ELG\")\n",
    "df[df['QSO']].plot.scatter(x=\"ra\",y=\"dec\",ax=ax,marker=\".\",color = 'C3',alpha=0.5,grid=True,label=\"QSO\")\n",
    "ax.legend(bbox_to_anchor=(1.05, 1.05),fontsize=14)\n",
    "plt.gca().set_aspect('equal')"
   ]
  },
  {
   "cell_type": "markdown",
   "id": "24ac78a6",
   "metadata": {},
   "source": [
    "### Select LGR"
   ]
  },
  {
   "cell_type": "code",
   "execution_count": null,
   "id": "42887220-3a9a-4a46-ae7b-265a59c9ea7c",
   "metadata": {},
   "outputs": [],
   "source": [
    "df = df[df['BGS']]"
   ]
  },
  {
   "cell_type": "markdown",
   "id": "065feb1a",
   "metadata": {},
   "source": [
    "<a class=\"anchor\" id=\"spectra_access\"></a>\n",
    "# Accessing and plotting the spectra of a given object\n",
    "\n",
    "Finally, we show how to access all the available healpix-coadded spectra of a given object. We also show how to select the \"best\" spectrum.  \n",
    "We use SPARCL, which is a fast spectral access service at Data Lab.  \n",
    "Detailed ways to using SPARCL are available in this [notebook](https://github.com/astro-datalab/notebooks-latest/blob/master/04_HowTos/SPARCL/How_to_use_SPARCL.ipynb)."
   ]
  },
  {
   "cell_type": "code",
   "execution_count": null,
   "id": "f9ca0344-683b-4a86-9b26-b465311ec5ee",
   "metadata": {
    "tags": []
   },
   "outputs": [],
   "source": [
    "# can increase or decrease this number\n",
    "NSPECMIN=3"
   ]
  },
  {
   "cell_type": "code",
   "execution_count": null,
   "id": "9f62dcd6-3b23-4926-836d-341718021a21",
   "metadata": {
    "tags": []
   },
   "outputs": [],
   "source": [
    "selection_cut = (df['zcat_nspec'] > NSPECMIN) & (df['spectype'] == 'GALAXY')"
   ]
  },
  {
   "cell_type": "code",
   "execution_count": null,
   "id": "5cf4e451-8360-4260-a7ed-f1534a7ed5bc",
   "metadata": {
    "tags": []
   },
   "outputs": [],
   "source": [
    "df_sel = df[selection_cut]\n",
    "df_sel "
   ]
  },
  {
   "cell_type": "markdown",
   "id": "0981c0f6-1965-45c9-86bc-6e67a1b4bc17",
   "metadata": {},
   "source": [
    "We have one spectrum per targetid"
   ]
  },
  {
   "cell_type": "code",
   "execution_count": null,
   "id": "1d3c6076-1e46-4f6e-8f45-136490d4bf2f",
   "metadata": {
    "tags": []
   },
   "outputs": [],
   "source": [
    "df_sel_pertargetsum = df_sel.groupby(['targetid']).size()"
   ]
  },
  {
   "cell_type": "code",
   "execution_count": null,
   "id": "c1e83c3a-b15a-49d0-acd9-486c631a4f94",
   "metadata": {
    "tags": []
   },
   "outputs": [],
   "source": [
    "df_sel_pertargetsum.describe()"
   ]
  },
  {
   "cell_type": "code",
   "execution_count": null,
   "id": "ab8e2619-0e3d-4619-8224-0f05dce8b9e7",
   "metadata": {
    "tags": []
   },
   "outputs": [],
   "source": [
    "#fig,ax = plt.subplots(1,1,figsize = (20,20))\n",
    "#df_sel_pertargetsum.plot.barh(ax=ax,facecolor=\"r\")"
   ]
  },
  {
   "cell_type": "markdown",
   "id": "e75cfe2d-f444-4fa5-9073-ea9cc1ec2c43",
   "metadata": {},
   "source": [
    "### what can be retrieved with sparcl"
   ]
  },
  {
   "cell_type": "code",
   "execution_count": null,
   "id": "14081cb9-8298-47ca-86d5-1f9fed8e3bb6",
   "metadata": {
    "tags": []
   },
   "outputs": [],
   "source": [
    "print(client.get_default_fields())"
   ]
  },
  {
   "cell_type": "code",
   "execution_count": null,
   "id": "82cabe7b-f6d6-4bc5-bcb5-4fe5e7229e9b",
   "metadata": {
    "tags": []
   },
   "outputs": [],
   "source": [
    "print(client.get_all_fields())"
   ]
  },
  {
   "cell_type": "markdown",
   "id": "f522f84a-2173-4ccd-aa1d-512bfb719f45",
   "metadata": {},
   "source": [
    "### List of target "
   ]
  },
  {
   "cell_type": "code",
   "execution_count": null,
   "id": "4bf5bf97-8891-4ada-82a8-15c7b0dc9232",
   "metadata": {
    "tags": []
   },
   "outputs": [],
   "source": [
    "all_targetid = df_sel.targetid.values \n",
    "all_targetid"
   ]
  },
  {
   "cell_type": "code",
   "execution_count": null,
   "id": "641e29c1-db47-45e9-ae69-bb193cbfd22d",
   "metadata": {
    "tags": []
   },
   "outputs": [],
   "source": [
    "inc = ['specid', 'redshift', 'flux', 'wavelength', 'spectype', 'specprimary', 'survey', 'program', 'targetid', 'coadd_fiberstatus']"
   ]
  },
  {
   "cell_type": "code",
   "execution_count": null,
   "id": "99c63933",
   "metadata": {
    "tags": []
   },
   "outputs": [],
   "source": [
    "props = dict(boxstyle='round', facecolor='wheat', alpha=0.5)\n",
    "for targetid in all_targetid: \n",
    "\n",
    "    ## Retrieve Spectra\n",
    "    \n",
    "    row = df_sel[df_sel.targetid == targetid]\n",
    "    \n",
    "    _flags = \"\"\n",
    "    for tg in targets:\n",
    "        if row.iloc[0][tg]:\n",
    "            _flags = _flags +  tg + \", \"\n",
    "           \n",
    "    _ra = row.iloc[0]['ra'] \n",
    "    _dec = row.iloc[0]['dec']  \n",
    "    _mag_g = row.iloc[0]['mag_g'] \n",
    "    _mag_r = row.iloc[0]['mag_r'] \n",
    "    _mag_z = row.iloc[0]['mag_z'] \n",
    "    _morphtype = row.iloc[0]['morphtype'] \n",
    "    \n",
    "    textstr_ph = '\\n'.join((\n",
    "    r'$morph-type=%s$' % (_morphtype, ),    \n",
    "    r'$ra=%.2f$ deg' % (_ra, ),\n",
    "    r'$dec=%.2f$ deg' % (_dec, ),\n",
    "    r'$mag\\_g=%.2f$ mag' % (_mag_g, ),\n",
    "    r'$mag\\_r=%.2f$ mag' % (_mag_r, ),\n",
    "    r'$mag\\_z=%.2f$ mag' % (_mag_z, )))\n",
    "    \n",
    "    \n",
    "    \n",
    "    try:\n",
    "    \n",
    "        res = client.retrieve_by_specid(specid_list = [ int(targetid) ],\n",
    "                                include = inc,\n",
    "                                dataset_list = ['DESI-EDR'])\n",
    "    \n",
    "        records = res.records\n",
    "\n",
    "        ## Select the primary spectrum\n",
    "        spec_primary = np.array([records[jj].specprimary for jj in range(len(records))])\n",
    "        primary_ii = np.where(spec_primary == True)[0][0]\n",
    "    \n",
    "    \n",
    "        lam_primary = records[primary_ii].wavelength\n",
    "        flam_primary = records[primary_ii].flux\n",
    "    \n",
    "    \n",
    "        _spectype = records[primary_ii]['spectype']\n",
    "        _specprimary = records[primary_ii]['specprimary']\n",
    "        _targetid = records[primary_ii]['targetid']\n",
    "        _redshift = records[primary_ii]['redshift']\n",
    "        _specid = records[primary_ii]['specid']\n",
    "        _coadd_fiberstatus = records[primary_ii]['coadd_fiberstatus']\n",
    "        _program = records[primary_ii]['program']\n",
    "        _survey = records[primary_ii]['survey']\n",
    "        _dr = records[primary_ii]['_dr']\n",
    "    \n",
    "        textstr = '\\n'.join((\n",
    "        r'$z=%.2f$' % (_redshift, ),\n",
    "        r'$flags =%s$' % (_flags, ),\n",
    "        r'$program=%s$' % (_program, ),\n",
    "        r'$survey=%s$' % (_survey, )))\n",
    "    \n",
    "        ## plot\n",
    "        title = f\"DESI primary target {targetid} , DR = {_dr}\"\n",
    "    \n",
    "        fig,ax = plt.subplots(1,1,figsize = (20, 6))\n",
    "        ## Plot the spectrum from each arm (B,R,Z) in blue, green, red\n",
    "\n",
    "        ax.plot(lam_primary, flam_primary, color = 'maroon', alpha = 0.5)\n",
    "        ## Over-plotting smoothed spectrum in black \n",
    "        ax.plot(lam_primary, convolve(flam_primary, Gaussian1DKernel(5)), color = 'k', lw = 2.0)\n",
    "        ax.set_xlabel('$\\lambda$ [$\\AA$]')\n",
    "        ax.set_ylabel('$F_{\\lambda}$ [$10^{-17} erg\\ s^{-1}\\ cm^{-2}\\ \\AA^{-1}$]')\n",
    "        # place a text box in upper left in axes coords\n",
    "        ax.text(0.05, 0.95, textstr, transform=ax.transAxes, fontsize=18,verticalalignment='top', bbox=props)\n",
    "        ax.text(0.8, 0.95, textstr_ph, transform=ax.transAxes, fontsize=18,verticalalignment='top', bbox=props)\n",
    "    \n",
    "        ax.set_title(title)\n",
    "        plt.show()\n",
    "    \n",
    "    except Exception as inst:\n",
    "        print(inst)    # the exception type\n",
    "    \n",
    "    "
   ]
  },
  {
   "cell_type": "markdown",
   "id": "0ca002f5",
   "metadata": {},
   "source": [
    "<a class=\"anchor\" id=\"ref\"></a>\n",
    "# References\n",
    "\n",
    "* DESI EDR Documentation: https://data.desi.lbl.gov/doc/\n",
    "* DESI EDR at Astro Data Lab: https://datalab.noirlab.edu/desi/\n",
    "* Information about SPARCL: https://astrosparcl.datalab.noirlab.edu/sparc/\n",
    "* Datamodel information: https://desidatamodel.readthedocs.io/en/latest/\n",
    "    * [tiles-fuji.fits](https://desidatamodel.readthedocs.io/en/latest/DESI_SPECTRO_REDUX/SPECPROD/tiles-SPECPROD.html)\n",
    "    * [exposures-fuji.fits](https://desidatamodel.readthedocs.io/en/latest/DESI_SPECTRO_REDUX/SPECPROD/exposures-SPECPROD.html)\n",
    "    * [Redshift catalogs](https://desidatamodel.readthedocs.io/en/latest/DESI_SPECTRO_REDUX/SPECPROD/zcatalog/index.html)\n",
    "    * [zall-pix-fuji.fits](https://desidatamodel.readthedocs.io/en/latest/DESI_SPECTRO_REDUX/SPECPROD/zcatalog/zall-pix-SPECPROD.html)\n",
    "    * [zall-tilecumulative-fuji.fits](https://desidatamodel.readthedocs.io/en/latest/DESI_SPECTRO_REDUX/SPECPROD/zcatalog/zall-tilecumulative-SPECPROD.html)\n",
    "    * [zpix-SURVEY-PROGRAM.fits](https://desidatamodel.readthedocs.io/en/latest/DESI_SPECTRO_REDUX/SPECPROD/zcatalog/zpix-SURVEY-PROGRAM.html)\n",
    "    * [ztile-SURVEY-PROGRAM-GROUPTYPE.fits](https://desidatamodel.readthedocs.io/en/latest/DESI_SPECTRO_REDUX/SPECPROD/zcatalog/zpix-SURVEY-PROGRAM.html)\n",
    "    * [coadd-SURVEY-PROGRAM-PIXNUM.fits](https://desidatamodel.readthedocs.io/en/latest/DESI_SPECTRO_REDUX/SPECPROD/healpix/SURVEY/PROGRAM/PIXGROUP/PIXNUM/coadd-SURVEY-PROGRAM-PIXNUM.html)\n",
    "    * [redshift-SURVEY-PROGRAM-PIXNUM.fits](https://desidatamodel.readthedocs.io/en/latest/DESI_SPECTRO_REDUX/SPECPROD/healpix/SURVEY/PROGRAM/PIXGROUP/PIXNUM/redrock-SURVEY-PROGRAM-PIXNUM.html)\n",
    "* Information about DESI bitmasks: https://desidatamodel.readthedocs.io/en/latest/bitmasks.html\n",
    "* Information about DESI target bitmasks: https://desidatamodel.readthedocs.io/en/latest/bitmasks.html#target-masks\n",
    "* DESI Target Selection pipeline paper: [Myers et al. 2023](https://ui.adsabs.harvard.edu/abs/2023AJ....165...50M/abstract)\n",
    "* Introduction to SPARCL notebook: https://github.com/astro-datalab/notebooks-latest/blob/master/04_HowTos/SPARCL/How_to_use_SPARCL.ipynb"
   ]
  },
  {
   "cell_type": "markdown",
   "id": "82389ed1",
   "metadata": {},
   "source": [
    "---"
   ]
  }
 ],
 "metadata": {
  "kernelspec": {
   "display_name": "conda_py311",
   "language": "python",
   "name": "conda_py311"
  },
  "language_info": {
   "codemirror_mode": {
    "name": "ipython",
    "version": 3
   },
   "file_extension": ".py",
   "mimetype": "text/x-python",
   "name": "python",
   "nbconvert_exporter": "python",
   "pygments_lexer": "ipython3",
   "version": "3.11.11"
  }
 },
 "nbformat": 4,
 "nbformat_minor": 5
}
