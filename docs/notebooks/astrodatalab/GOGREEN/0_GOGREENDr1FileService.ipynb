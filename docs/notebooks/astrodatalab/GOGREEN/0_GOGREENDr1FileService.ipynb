{
 "cells": [
  {
   "cell_type": "code",
   "execution_count": null,
   "id": "02665f9e-1125-4544-bed2-df8752874ebd",
   "metadata": {
    "tags": []
   },
   "outputs": [],
   "source": [
    "__nbid__ = '0019'\n",
    "__author__ = 'Stephanie Juneau <stephanie.juneau@noirlab.edu>, Felix Pat <felixpat10@email.arizona.edu>'\n",
    "__version__ = '20240606' #yyyymmdd\n",
    "__datasets__ = ['gogreen_dr1']\n",
    "__keywords__ = ['gemini llp','file service','spectra','catalogues']"
   ]
  },
  {
   "cell_type": "markdown",
   "id": "45a1e8c1-46ec-4447-aed9-c0b0ac81a502",
   "metadata": {},
   "source": [
    "# Listing files in the GOGREEN DR1 Dataset\n",
    "*Authors: Stephanie Juneau (NOIRLab), Felix Pat (Univ. of Arizona), and the Astro Data Lab Team*"
   ]
  },
  {
   "cell_type": "markdown",
   "id": "315d46d7-5fe9-4d7f-8928-77fabc40b773",
   "metadata": {},
   "source": [
    "### Table of contents\n",
    "* [Goal](#LFgoal)\n",
    "* [Summary](#LFsummary)\n",
    "* [Disclaimer & attribution](#LFdisclaimer)\n",
    "* [Imports](#LFimport)\n",
    "* [Reading in Cluster table from the Data Lab database](#LF0)\n",
    "* [Pathway to 1D, 2D, and image directories](#LF1)\n",
    "* [1D spectra files](#LF2)\n",
    "* [2D spectra files](#LF3)\n",
    "* [Image files](#LF4)\n",
    "* [References](#LF5)"
   ]
  },
  {
   "cell_type": "markdown",
   "id": "06def35e-b82b-4f0e-af0c-03f7fd1780ad",
   "metadata": {},
   "source": [
    "<a class=\"anchor\" id=\"LFgoal\"></a>\n",
    "# Goal\n",
    "This notebook uses the file service to list available files as part of the [GOGREEN DR1 dataset](https://datalab.noirlab.edu/gogreendr1/), which includes data from [GOGREEN](https://ui.adsabs.harvard.edu/abs/2017MNRAS.470.4168B/abstract) and [GCLASS.](https://ui.adsabs.harvard.edu/abs/2012ApJ...746..188M/abstract)"
   ]
  },
  {
   "cell_type": "markdown",
   "id": "dae0d2b6-f4c6-4d95-9eac-d108c693e1ef",
   "metadata": {
    "jp-MarkdownHeadingCollapsed": true
   },
   "source": [
    "<a class=\"anchor\" id=\"LFsummary\"></a>\n",
    "# Summary\n",
    "This notebook prints out files available in Data Lab from [GOGREEN DR1 dataset](https://ui.adsabs.harvard.edu/abs/2021MNRAS.500..358B/abstract) 1D spectra, 2D spectra, and image directories. After listing each cluster name and whether their respective file is available, one can use the lists to retrieve data for clusters and/or galaxies of interest. This notebooks gives a tour of the data files as a starting point while other GOGREEN notebooks demonstrate various capabilities for data access and analyses."
   ]
  },
  {
   "cell_type": "markdown",
   "id": "6e68d221-4261-4859-bd6e-5e7db5a548c4",
   "metadata": {},
   "source": [
    "<a class=\"anchor\" id=\"LFdisclaimer\"></a>\n",
    "# Disclaimer & attribution\n",
    "\n",
    "Disclaimers\n",
    "-----------\n",
    "Note that using the Astro Data Lab constitutes your agreement with our minimal [Disclaimers](https://datalab.noirlab.edu/disclaimers.php).\n",
    "\n",
    "Acknowledgments\n",
    "---------------\n",
    "If you use **Astro Data Lab** in your published research, please include the text in your paper's Acknowledgments section:\n",
    "\n",
    "_This research uses services or data provided by the Astro Data Lab, which is part of the Community Science and Data Center (CSDC) Program of NSF NOIRLab. NOIRLab is operated by the Association of Universities for Research in Astronomy (AURA), Inc. under a cooperative agreement with the U.S. National Science Foundation._\n",
    "\n",
    "If you use **SPARCL jointly with the Astro Data Lab platform** (via JupyterLab, command-line, or web interface) in your published research, please include this text below in your paper's Acknowledgments section:\n",
    "\n",
    "_This research uses services or data provided by the SPectra Analysis and Retrievable Catalog Lab (SPARCL) and the Astro Data Lab, which are both part of the Community Science and Data Center (CSDC) Program of NSF NOIRLab. NOIRLab is operated by the Association of Universities for Research in Astronomy (AURA), Inc. under a cooperative agreement with the U.S. National Science Foundation._\n",
    "\n",
    "In either case **please cite the following papers**:\n",
    "\n",
    "* Data Lab concept paper: Fitzpatrick et al., \"The NOAO Data Laboratory: a conceptual overview\", SPIE, 9149, 2014, https://doi.org/10.1117/12.2057445\n",
    "\n",
    "* Astro Data Lab overview: Nikutta et al., \"Data Lab - A Community Science Platform\", Astronomy and Computing, 33, 2020, https://doi.org/10.1016/j.ascom.2020.100411\n",
    "\n",
    "If you are referring to the Data Lab JupyterLab / Jupyter Notebooks, cite:\n",
    "\n",
    "* Juneau et al., \"Jupyter-Enabled Astrophysical Analysis Using Data-Proximate Computing Platforms\", CiSE, 23, 15, 2021, https://doi.org/10.1109/MCSE.2021.3057097\n",
    "\n",
    "If publishing in a AAS journal, also add the keyword: `\\facility{Astro Data Lab}`\n",
    "\n",
    "And if you are using SPARCL, please also add `\\software{SPARCL}` and cite:\n",
    "\n",
    "* Juneau et al., \"SPARCL: SPectra Analysis and Retrievable Catalog Lab\", Conference Proceedings for ADASS XXXIII, 2024\n",
    "https://doi.org/10.48550/arXiv.2401.05576\n",
    "\n",
    "The NOIRLab Library maintains [lists of proper acknowledgments](https://noirlab.edu/science/about/scientific-acknowledgments) to use when publishing papers using the Lab's facilities, data, or services."
   ]
  },
  {
   "cell_type": "markdown",
   "id": "df61b028-d61d-4b03-929a-39d7b3e9d604",
   "metadata": {},
   "source": [
    "<a class=\"anchor\" id=\"LFimport\"></a>\n",
    "# Imports"
   ]
  },
  {
   "cell_type": "code",
   "execution_count": null,
   "id": "15ce0190-b8e1-4a71-822c-6cbaf103f2f5",
   "metadata": {
    "tags": []
   },
   "outputs": [],
   "source": [
    "# 3rd party\n",
    "import textwrap\n",
    "wrapper = textwrap.TextWrapper(width=200)\n",
    "\n",
    "# Data Lab\n",
    "from dl import queryClient as qc, storeClient as sc"
   ]
  },
  {
   "cell_type": "markdown",
   "id": "e0b457ac-2370-4707-8986-0d4f96eec0b8",
   "metadata": {},
   "source": [
    "<a class=\"anchor\" id=\"LF0\"></a>\n",
    "# Read in Clusters table from the [gogreen_dr1 database](https://datalab.noirlab.edu/query.php?name=gogreen_dr1.clusters)"
   ]
  },
  {
   "cell_type": "code",
   "execution_count": null,
   "id": "0f863a2a-ca30-4039-b86a-75c90287d1c6",
   "metadata": {
    "tags": []
   },
   "outputs": [],
   "source": [
    "clusters = qc.query('select * from gogreen_dr1.clusters', fmt='pandas')"
   ]
  },
  {
   "cell_type": "code",
   "execution_count": null,
   "id": "ce723d7f-0b75-4f5e-97e9-4fdda7786843",
   "metadata": {
    "tags": []
   },
   "outputs": [],
   "source": [
    "clusters.columns"
   ]
  },
  {
   "cell_type": "code",
   "execution_count": null,
   "id": "71491682-8ec4-4596-86e5-5f6d469e4273",
   "metadata": {
    "tags": []
   },
   "outputs": [],
   "source": [
    "# List the cluster names, and the first mask from GOGREEN and from GCLASS to check\n",
    "# which clusters don't have any GOGREEN data (gogreen_m1 = NaN)\n",
    "clusters[['cluster','gogreen_m1','gclass_m1']]"
   ]
  },
  {
   "cell_type": "code",
   "execution_count": null,
   "id": "134dce60-6dfb-4e03-8e73-8583894b8bad",
   "metadata": {
    "tags": []
   },
   "outputs": [],
   "source": [
    "print('Total number of galaxy clusters: ', len(clusters))\n",
    "cluster = clusters.cluster\n",
    "\n",
    "cluster"
   ]
  },
  {
   "cell_type": "markdown",
   "id": "63b29efb-aad3-4812-8d3e-face61a71973",
   "metadata": {},
   "source": [
    "<a class=\"anchor\" id=\"LF1\"></a>\n",
    "# Location of files in the file service"
   ]
  },
  {
   "cell_type": "code",
   "execution_count": null,
   "id": "c389d84f-d1c8-46b8-ad19-163b5c04702e",
   "metadata": {
    "tags": []
   },
   "outputs": [],
   "source": [
    "oneddir = 'gogreen_dr1://SPECTROSCOPY/OneD/'  # 1-d spectra\n",
    "twoddir = 'gogreen_dr1://SPECTROSCOPY/TwoD/'  # 2-d spectra\n",
    "imdir = 'gogreen_dr1://PHOTOMETRY/IMAGES/'    # photometry and images\n",
    "\n",
    "# make variables for file names\n",
    "onedfiles = oneddir + cluster + '_final.fits'\n",
    "twodfiles = twoddir + cluster + '_twod.fits.gz'"
   ]
  },
  {
   "cell_type": "markdown",
   "id": "bf2d2d36-3d43-4bcf-aa47-a726df0c7cd0",
   "metadata": {},
   "source": [
    "<a class=\"anchor\" id=\"LF2\"></a>\n",
    "# One-D spectra\n",
    "The storeClient as sc service is called here to retrieve the file names. For more uses and information, refer to the [How-to-use-the-StoreClient](https://github.com/astro-datalab/notebooks-latest/blob/master/04_HowTos/StoreClient/How_to_use_the_Data_Lab_StoreClient.ipynb) notebook."
   ]
  },
  {
   "cell_type": "code",
   "execution_count": null,
   "id": "6472f4e9-cb98-4e1b-88ee-0da3f2996d7e",
   "metadata": {
    "tags": []
   },
   "outputs": [],
   "source": [
    "print(sc.ls(oneddir,format='long'))"
   ]
  },
  {
   "cell_type": "code",
   "execution_count": null,
   "id": "2e76690b-2e6c-494c-94f2-708a5b15d141",
   "metadata": {
    "tags": []
   },
   "outputs": [],
   "source": [
    "print(wrapper.fill(text=sc.get(oneddir+'README')))"
   ]
  },
  {
   "cell_type": "markdown",
   "id": "cd4d06fd-83d8-4656-a1f5-e0ca1ff0b351",
   "metadata": {},
   "source": [
    "### Note:\n",
    "From the list above, there are 24 subfolders for 26 clusters. This is expected because two pairs of clusters are in the same field and therefore share a file (see footnote to Table 1 in the GOGREEN DR1 paper):\n",
    "- `SXDF49` and `SXDF87` share a single GMOS field.  The spectra for both are included in the `SXDF49` fits files.\n",
    "- `SXDF76` and `SXDF76b` share a single GMOS field.  The spectra for both are included in the `SXDF76` fits files.\n",
    "\n",
    "Below, we will verify this by printing the names of the 1D spectra files."
   ]
  },
  {
   "cell_type": "code",
   "execution_count": null,
   "id": "e9123af2-c485-43cd-816c-b30741635e37",
   "metadata": {
    "tags": []
   },
   "outputs": [],
   "source": [
    "for i in range(len(clusters)):\n",
    "     print(\"%-10s \" % cluster[i],end='')\n",
    "     if sc.stat(onedfiles[i]) != {}:\n",
    "         print(True)\n",
    "     else:\n",
    "         print(False)"
   ]
  },
  {
   "cell_type": "markdown",
   "id": "0442ce6c-b131-4f2e-9f7a-c1bb1559086d",
   "metadata": {},
   "source": [
    "### Note:\n",
    "As expected, we find that `SXDF76b` and `SXDF87` are not listed with separate one-D spectra files."
   ]
  },
  {
   "cell_type": "markdown",
   "id": "fa1f919e-81b5-4ed0-ad88-435c80943df6",
   "metadata": {},
   "source": [
    "<a class=\"anchor\" id=\"LF3\"></a>\n",
    "# Two-D spectra"
   ]
  },
  {
   "cell_type": "code",
   "execution_count": null,
   "id": "1802c0fb-cbc2-4130-b325-7745f6f42f25",
   "metadata": {
    "tags": []
   },
   "outputs": [],
   "source": [
    "print(sc.ls(twoddir,format='long'))"
   ]
  },
  {
   "cell_type": "code",
   "execution_count": null,
   "id": "97aade61-99b1-4c83-9d82-40cb58ba710c",
   "metadata": {
    "tags": []
   },
   "outputs": [],
   "source": [
    "print(wrapper.fill(text=sc.get(twoddir+'README')))"
   ]
  },
  {
   "cell_type": "code",
   "execution_count": null,
   "id": "f2810e8e-8ca2-4ad0-a2dc-af5d09e79295",
   "metadata": {
    "tags": []
   },
   "outputs": [],
   "source": [
    "for i in range(len(clusters)):\n",
    "     print(\"%-10s \" % cluster[i],end='')\n",
    "     if sc.stat(twodfiles[i]) != {}:\n",
    "         print(True)\n",
    "     else:\n",
    "         print(False)"
   ]
  },
  {
   "cell_type": "markdown",
   "id": "ba566127-2734-447a-8853-315c3c3d41ea",
   "metadata": {},
   "source": [
    "### Note:\n",
    "The last five SpARCS clusters lack a GOGREEN mask, and therefore lack a twod data folder (as expected). In addition, the two pairs of clusters sharing a GMOS field are grouped together as we saw for the 1D spectra above (`SXDF76b` together with `SXDF76`; `SXDF87` together with `SXDF49`)."
   ]
  },
  {
   "cell_type": "markdown",
   "id": "4f107d85-b627-459a-8a51-cc27fb4f9a29",
   "metadata": {},
   "source": [
    "<a class=\"anchor\" id=\"LF4\"></a>\n",
    "# Images\n",
    "\n",
    "We now list the folders in the image directory."
   ]
  },
  {
   "cell_type": "code",
   "execution_count": null,
   "id": "2f3ba321-6726-4cfc-9b42-d8e3a39fe2d1",
   "metadata": {
    "tags": []
   },
   "outputs": [],
   "source": [
    "print(sc.ls(imdir, format='long'))"
   ]
  },
  {
   "cell_type": "markdown",
   "id": "96f8676e-a6eb-4f7d-a797-c61e4fae42d3",
   "metadata": {},
   "source": [
    "### Note:\n",
    "Above, we see that the nomenclature is different from the cluster naming from the table. Namely:\n",
    "- `SPTxxxx` are named `SPTCL-xxxx`\n",
    "- `SpARCSxxxx` are named `SpARCS-xxxx`\n",
    "\n",
    "There are 16 out of 26 clusters with an imaging folder. In the case of Cluster `SpARCS1033`, the K-band imaging was not available at the time of the first release. It will however become available in the future as part of GOGREEN DR2.\n",
    "\n",
    "In addition, there is an `HST/` folder for Hubble Space Telescope imaging. Let's examine its content next."
   ]
  },
  {
   "cell_type": "code",
   "execution_count": null,
   "id": "b2c125a0-0348-47b3-9b4b-fd95ca03ecb3",
   "metadata": {
    "tags": []
   },
   "outputs": [],
   "source": [
    "print(sc.ls(imdir+'HST/', format='long'))"
   ]
  },
  {
   "cell_type": "markdown",
   "id": "00a5d66c-7e6b-4455-8127-6a19e1f43d98",
   "metadata": {},
   "source": [
    "### Note:\n",
    "Above, we see that the nomenclature is different from the previous folder, and also different from the cluster naming from the table in one case. Namely:\n",
    "- `SPTxxxx` are named the same as in the clusters table;\n",
    "- `SpARCSxxxx` are named `SPARCSxxxx` (all upper case letters)\n",
    "\n",
    "There are 17 out of 26 clusters with an `HST/` imaging folder."
   ]
  },
  {
   "cell_type": "markdown",
   "id": "9284634e-4ff7-4d0c-8746-c23a84d8545b",
   "metadata": {
    "tags": []
   },
   "source": [
    "<a class=\"anchor\" id=\"LF5\"></a>\n",
    "# References\n",
    "\n",
    "#### GOGREEN Notebooks at the Data Lab\n",
    "- [GOGREEN Data Release 1 data access at Astro Data Lab](https://github.com/astro-datalab/notebooks-latest/blob/master/03_ScienceExamples/GOGREEN_GalaxiesInRichEnvironments/1_GOGREENDr1DataAccessAtDataLab.ipynb)\n",
    "- [GOGREEN DR1 at Data Lab - Simple Image Access (SIA)](https://github.com/astro-datalab/notebooks-latest/blob/master/03_ScienceExamples/GOGREEN_GalaxiesInRichEnvironments/2_GOGREENDr1SIA.ipynb)\n",
    "\n",
    "#### GOGREEN & GCLASS DR1 Paper\n",
    "- [Balogh et al. 2021, MNRAS, 500, 358](https://ui.adsabs.harvard.edu/abs/2021MNRAS.500..358B/abstract)"
   ]
  }
 ],
 "metadata": {
  "kernelspec": {
   "display_name": "conda_py311",
   "language": "python",
   "name": "conda_py311"
  },
  "language_info": {
   "codemirror_mode": {
    "name": "ipython",
    "version": 3
   },
   "file_extension": ".py",
   "mimetype": "text/x-python",
   "name": "python",
   "nbconvert_exporter": "python",
   "pygments_lexer": "ipython3",
   "version": "3.11.11"
  }
 },
 "nbformat": 4,
 "nbformat_minor": 5
}
