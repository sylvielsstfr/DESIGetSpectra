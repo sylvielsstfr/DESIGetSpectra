{
 "cells": [
  {
   "cell_type": "code",
   "execution_count": null,
   "id": "02665f9e-1125-4544-bed2-df8752874ebd",
   "metadata": {
    "tags": []
   },
   "outputs": [],
   "source": [
    "__nbid__ = '0023'\n",
    "__author__ = 'Felix Pat <felixpat10@email.arizona.edu>'\n",
    "__version__ = '20240606' # yyyymmdd; version datestamp of this notebook\n",
    "__datasets__ = ['gogreen_dr1']  # datasets used in this notebook\n",
    "__keywords__ = ['gemini llp','tap','cluster','photometry','redshift','file service','spectra','catalogues'] # keywords relevant to this notebook"
   ]
  },
  {
   "cell_type": "markdown",
   "id": "75eeb17d-64b3-4ddb-b78a-58677ba7a6ef",
   "metadata": {
    "tags": []
   },
   "source": [
    "# Intro to Spectroscopy from the GOGREEN DR1 Dataset\n",
    "*Author: Felix Pat (Univ. of Arizona), Stephanie Juneau (NOIRLab), and the Astro Data Lab Team*"
   ]
  },
  {
   "cell_type": "markdown",
   "id": "6ca39edb-62c7-43cc-a353-3689bc778d80",
   "metadata": {},
   "source": [
    "### Table of contents\n",
    "* [Goal](#Specgoal)\n",
    "* [Summary](#Specsummary)\n",
    "* [Disclaimer & attribution](#Specdisclaimer)\n",
    "* [Imports & setup](#Specimport)\n",
    "* [Define functions used in tutorial](#Spec0)\n",
    "* [Reading in catalogs from the Data Lab database](#Spec1)\n",
    "* [Make variables for commonly used pathways](#Spec2)\n",
    "* [Print pathway of clusters with available 2D galaxy spectra](#Spec3)\n",
    "* [Make variables for pre-selected galaxy name and specid](#Spec4)\n",
    "* [Print available url's of selected cluster and display galaxy image](#Spec5)\n",
    "* [Display 1D and 2D spectrum of galaxy](#Spec6)\n",
    "* [Find continuum subtracted spectrum and gaussian fit from region of interest](#Spec7)\n",
    "* [Compare calculated redshift and equivalent width values to GOGREEN](#Spec8)\n",
    "* [References](#Spec9)"
   ]
  },
  {
   "cell_type": "markdown",
   "id": "9537b88d-465d-4795-9fe0-d1323cf41dd5",
   "metadata": {
    "tags": []
   },
   "source": [
    "<a class=\"anchor\" id=\"Specgoal\"></a>\n",
    "# Goal\n",
    "This notebook aims to illustrate 1D and 2D spectrum emission line features and how to derive the redshift and equivalent width of the \\[O II]3727 doublet from a Gaussian fit."
   ]
  },
  {
   "cell_type": "markdown",
   "id": "08eba5fc-bbd7-4d72-a1e0-f357d7fc7977",
   "metadata": {},
   "source": [
    "<a class=\"anchor\" id=\"Specsummary\"></a>\n",
    "# Summary\n",
    "This notebook demonstrates how to display a galaxy image, plot its 1D and 2D spectrum, and fit the emission line to calculate the redshift and equivalent width to compare to the GOGREEN database values."
   ]
  },
  {
   "cell_type": "markdown",
   "id": "b48bb4b5-157b-4d6f-8a0d-050314f437a8",
   "metadata": {},
   "source": [
    "<a class=\"anchor\" id=\"Specdisclaimer\"></a>\n",
    "# Disclaimer & attribution\n",
    "\n",
    "Disclaimers\n",
    "-----------\n",
    "Note that using the Astro Data Lab constitutes your agreement with our minimal [Disclaimers](https://datalab.noirlab.edu/disclaimers.php).\n",
    "\n",
    "Acknowledgments\n",
    "---------------\n",
    "If you use **Astro Data Lab** in your published research, please include the text in your paper's Acknowledgments section:\n",
    "\n",
    "_This research uses services or data provided by the Astro Data Lab, which is part of the Community Science and Data Center (CSDC) Program of NSF NOIRLab. NOIRLab is operated by the Association of Universities for Research in Astronomy (AURA), Inc. under a cooperative agreement with the U.S. National Science Foundation._\n",
    "\n",
    "If you use **SPARCL jointly with the Astro Data Lab platform** (via JupyterLab, command-line, or web interface) in your published research, please include this text below in your paper's Acknowledgments section:\n",
    "\n",
    "_This research uses services or data provided by the SPectra Analysis and Retrievable Catalog Lab (SPARCL) and the Astro Data Lab, which are both part of the Community Science and Data Center (CSDC) Program of NSF NOIRLab. NOIRLab is operated by the Association of Universities for Research in Astronomy (AURA), Inc. under a cooperative agreement with the U.S. National Science Foundation._\n",
    "\n",
    "In either case **please cite the following papers**:\n",
    "\n",
    "* Data Lab concept paper: Fitzpatrick et al., \"The NOAO Data Laboratory: a conceptual overview\", SPIE, 9149, 2014, https://doi.org/10.1117/12.2057445\n",
    "\n",
    "* Astro Data Lab overview: Nikutta et al., \"Data Lab - A Community Science Platform\", Astronomy and Computing, 33, 2020, https://doi.org/10.1016/j.ascom.2020.100411\n",
    "\n",
    "If you are referring to the Data Lab JupyterLab / Jupyter Notebooks, cite:\n",
    "\n",
    "* Juneau et al., \"Jupyter-Enabled Astrophysical Analysis Using Data-Proximate Computing Platforms\", CiSE, 23, 15, 2021, https://doi.org/10.1109/MCSE.2021.3057097\n",
    "\n",
    "If publishing in a AAS journal, also add the keyword: `\\facility{Astro Data Lab}`\n",
    "\n",
    "And if you are using SPARCL, please also add `\\software{SPARCL}` and cite:\n",
    "\n",
    "* Juneau et al., \"SPARCL: SPectra Analysis and Retrievable Catalog Lab\", Conference Proceedings for ADASS XXXIII, 2024\n",
    "https://doi.org/10.48550/arXiv.2401.05576\n",
    "\n",
    "The NOIRLab Library maintains [lists of proper acknowledgments](https://noirlab.edu/science/about/scientific-acknowledgments) to use when publishing papers using the Lab's facilities, data, or services."
   ]
  },
  {
   "cell_type": "markdown",
   "id": "df61b028-d61d-4b03-929a-39d7b3e9d604",
   "metadata": {
    "tags": []
   },
   "source": [
    "<a class=\"anchor\" id=\"Specimport\"></a>\n",
    "# Imports and setup"
   ]
  },
  {
   "cell_type": "code",
   "execution_count": null,
   "id": "15ce0190-b8e1-4a71-822c-6cbaf103f2f5",
   "metadata": {
    "tags": []
   },
   "outputs": [],
   "source": [
    "# std lib\n",
    "from io import BytesIO\n",
    "import gzip\n",
    "import re\n",
    "\n",
    "# 3rd party\n",
    "import numpy as np\n",
    "np.seterr(divide='ignore')\n",
    "import math\n",
    "import pandas as pd\n",
    "pd.set_option('display.max_columns', 500) # prevent overflow of columns \n",
    "import matplotlib.pyplot as plt\n",
    "plt.rcParams['font.size'] = 14 # increase plot texts size\n",
    "from pyvo.dal import sia\n",
    "from IPython.display import display_html\n",
    "\n",
    "from astropy.modeling import models\n",
    "from astropy.utils.data import download_file\n",
    "from astropy.wcs import WCS\n",
    "from astropy.io import fits, ascii\n",
    "from astropy import units as u\n",
    "from astropy.cosmology import FlatLambdaCDM\n",
    "\n",
    "from specutils import Spectrum1D\n",
    "from specutils.fitting import fit_lines\n",
    "from specutils import SpectralRegion\n",
    "from specutils.manipulation import extract_region\n",
    "\n",
    "from scipy import integrate\n",
    "\n",
    "# Data Lab\n",
    "from dl import queryClient as qc, storeClient as sc"
   ]
  },
  {
   "cell_type": "code",
   "execution_count": null,
   "id": "237edc14-6110-4c5c-8123-ed8bfd2b8797",
   "metadata": {
    "tags": []
   },
   "outputs": [],
   "source": [
    "# define cosmology\n",
    "cosmo = FlatLambdaCDM(H0=70, Om0=0.3) \n",
    "# this URL tells the SIA service where to find images and image metadata\n",
    "DEF_ACCESS_URL = \"https://datalab.noirlab.edu/sia/gogreen_dr1\"\n",
    "svc = sia.SIAService(DEF_ACCESS_URL)"
   ]
  },
  {
   "cell_type": "markdown",
   "id": "2213df74-34a2-41b1-984c-6b086acaed08",
   "metadata": {
    "tags": []
   },
   "source": [
    "<a class=\"anchor\" id=\"Spec1\"></a>\n",
    "# Reading in main tables\n",
    "The full GOGREEN dataset can be found [here](https://datalab.noirlab.edu/gogreendr1/index.php) under the 'Data Access' tab. The first portion of this notebook will rely on information available for all clusters from the 'clusters_table' and information for the galaxies from the 'redshift_table.' Since we do not need use all of the photometry/images, we will only retrieve them as needed in the later portion of the notebook. \n",
    "\n",
    "We can use the globals() function to dynamically create variables. [Globals()](https://docs.python.org/3/library/functions.html#globals) returns the dictionary implementing the current module namespace. For code within functions, this is set when the function is defined and remains the same regardless of where the function is called."
   ]
  },
  {
   "cell_type": "code",
   "execution_count": null,
   "id": "00ec2a19-3cd0-438e-86ff-0cc8b0657cab",
   "metadata": {
    "tags": []
   },
   "outputs": [],
   "source": [
    "dataset = 'gogreen_dr1.'\n",
    "tables = ['clusters', 'redshift']\n",
    "\n",
    "for table in tables:\n",
    "    globals()['%s_table'%table] = qc.query('select * from %s%s' % (dataset, table), fmt = 'pandas')\n",
    "    print('%s'%table)\n",
    "    display_html(globals()[('%s_table'%table)].head(5))"
   ]
  },
  {
   "cell_type": "markdown",
   "id": "63b29efb-aad3-4812-8d3e-face61a71973",
   "metadata": {
    "tags": []
   },
   "source": [
    "<a class=\"anchor\" id=\"Spec2\"></a>\n",
    "# Make variables for commonly used pathways\n",
    "To have a centralized dataset, a combined [pandas DataFrame](https://pandas.pydata.org/pandas-docs/stable/reference/api/pandas.DataFrame.html) is made by matching the galaxies in the redshift_table to the clusters in the clusters_table."
   ]
  },
  {
   "cell_type": "code",
   "execution_count": null,
   "id": "c389d84f-d1c8-46b8-ad19-163b5c04702e",
   "metadata": {
    "tags": []
   },
   "outputs": [],
   "source": [
    "oneddir = 'gogreen_dr1://SPECTROSCOPY/OneD/'  # 1-d spectra\n",
    "twoddir = 'gogreen_dr1://SPECTROSCOPY/TwoD/'  # 2-d spectra\n",
    "imdir = 'gogreen_dr1://PHOTOMETRY/IMAGES/'    # photometry and images\n",
    "\n",
    "#make merged table of cluster and redshift\n",
    "merge_col = ['cluster']\n",
    "\n",
    "# Here attach suffix _c to distinguish between galaxy values (Redshift) and cluster values (Redshift_c)\n",
    "matched_table = pd.merge(redshift_table, clusters_table, how='left', \\\n",
    "                         left_on=merge_col, right_on=merge_col, suffixes=['','_c'] )\n",
    "matched_table.head(5)"
   ]
  },
  {
   "cell_type": "markdown",
   "id": "1e2e88d8-786a-4230-a09b-e50747c2c0a7",
   "metadata": {
    "tags": []
   },
   "source": [
    "<a class=\"anchor\" id=\"Spec3\"></a>\n",
    "# Print clusters with available 2D galaxy spectra\n",
    "As described by Balogh et al. (2021), 2D spectra are only available for [GOGREEN spectra and not for GCLASS spectra.](https://datalab.noirlab.edu/gogreendr1/index.php) So we print the list of files with available 2D spectra to select an example cluster."
   ]
  },
  {
   "cell_type": "code",
   "execution_count": null,
   "id": "88ab8142-0668-4349-911d-c9951d3b3254",
   "metadata": {
    "tags": []
   },
   "outputs": [],
   "source": [
    "print(sc.ls(twoddir,format='long'))"
   ]
  },
  {
   "cell_type": "markdown",
   "id": "aba800f9-9c57-492e-813c-ab213456a339",
   "metadata": {},
   "source": [
    "A similar method can be used to look at the 1D directory which contains the .fits files, and that can be compare to the 2D list above to see which clusters have both 1D and 2D spectrum. The accompanying notebook [0_GOGREENDr1FileService.ipynb](https://github.com/astro-datalab/notebooks-latest/tree/master/03_ScienceExamples/GOGREEN_GalaxiesInRichEnvironments/0_GOGREENDr1FileService.ipynb) gives a tour of the directories in the gogreen_dr1 file system. "
   ]
  },
  {
   "cell_type": "markdown",
   "id": "9026ed4d-66b6-4b6e-90b0-a0da7fa8c261",
   "metadata": {
    "tags": []
   },
   "source": [
    "<a class=\"anchor\" id=\"Spec4\"></a>\n",
    "# Pre-selected example galaxy\n",
    "A pre-selected cluster and galaxy is called, which can be checked in the pathway to their directories."
   ]
  },
  {
   "cell_type": "code",
   "execution_count": null,
   "id": "51e7626b-3246-4667-ae23-91026ce9e83c",
   "metadata": {
    "tags": []
   },
   "outputs": [],
   "source": [
    "cluster_name = 'SpARCS1616'\n",
    "galaxy_specid = 110000760  # galaxy that is part of the cluster\n",
    "name_bool = clusters_table.cluster==cluster_name\n",
    "index_num = clusters_table.cluster[name_bool].index[0]"
   ]
  },
  {
   "cell_type": "markdown",
   "id": "d12e0c3c-fa53-4729-86b1-c65d827eae44",
   "metadata": {
    "tags": []
   },
   "source": [
    "<a class=\"anchor\" id=\"Spec5\"></a>\n",
    "# List available images from the SIA service\n",
    "The first step is to identify a specific cluster and a galaxy within cluster.\n",
    "Then, we use the resulting table to request from the SIA service small cutouts (FOV = 0.005 degrees) around the RA & Dec coordinates. In the SIA service, images with filters or types as weight, mask, or wht are excluded."
   ]
  },
  {
   "cell_type": "code",
   "execution_count": null,
   "id": "79b07e83-e6f8-4e76-88cd-2ff83b21e104",
   "metadata": {
    "tags": []
   },
   "outputs": [],
   "source": [
    "matched_galaxy = matched_table[(matched_table.specid==galaxy_specid)&(matched_table.cluster==cluster_name)]\n",
    "matched_galaxy"
   ]
  },
  {
   "cell_type": "code",
   "execution_count": null,
   "id": "e748a4e6-00b1-410b-a0ce-a5251d3b9159",
   "metadata": {
    "tags": []
   },
   "outputs": [],
   "source": [
    "#fov = 0.005 # degrees\n",
    "#ra = 244.1992\n",
    "#dec = 55.7140\n",
    "#imgTable = svc.search((ra,dec), (fov, fov), verbosity=2).to_table().to_pandas()"
   ]
  },
  {
   "cell_type": "code",
   "execution_count": null,
   "id": "21dde35c-d842-402f-a385-e2ee711193d9",
   "metadata": {
    "tags": []
   },
   "outputs": [],
   "source": [
    "#row = pd.DataFrame()"
   ]
  },
  {
   "cell_type": "code",
   "execution_count": null,
   "id": "70b3560b-e5a1-4bd8-8164-181fcad02a9c",
   "metadata": {
    "tags": []
   },
   "outputs": [],
   "source": [
    "#row.index"
   ]
  },
  {
   "cell_type": "code",
   "execution_count": null,
   "id": "0dcba4fa-f8b7-443e-a34a-830cee2f4919",
   "metadata": {
    "tags": []
   },
   "outputs": [],
   "source": [
    "#np.nanmax(row.index)"
   ]
  },
  {
   "cell_type": "code",
   "execution_count": null,
   "id": "94087a00-2e83-47ec-8379-19c00966fd5b",
   "metadata": {
    "tags": []
   },
   "outputs": [],
   "source": [
    "def choose_image(matched_galaxy):\n",
    "    \"\"\"\n",
    "    Return a table of the selected cluster image urls with its position (RA, Dec).\n",
    "\n",
    "    Parameters\n",
    "    ----------\n",
    "    matched_galaxy : pandas dataframe\n",
    "    Data table of selected galaxy\n",
    "\n",
    "    Returns\n",
    "    -------\n",
    "    row : pandas dataframe\n",
    "    Data table for image urls of selected galaxy\n",
    "    \n",
    "    ra : float\n",
    "    RA of selected galaxy\n",
    "    \n",
    "    dec : float\n",
    "    Dec of selected galaxy\n",
    "    \"\"\"\n",
    "    fov = 0.005 # degrees (= 18 arcsec)\n",
    "    ra, dec = matched_galaxy.ra, matched_galaxy.dec\n",
    "    \n",
    "    # simply passing the argument %.4f rounds the number at the 4th decimal place, \n",
    "    # which will raise an error if it rounds up and goes out of bounds of the image itself\n",
    "    \n",
    "    ra = math.floor(matched_galaxy.ra * 10 ** 4) / 10 ** 4 # take first four decimal place without rounding for RA\n",
    "    dec = math.floor(matched_galaxy.dec * 10 ** 4) / 10 ** 4 # take first four decimal place without rounding for DEC\n",
    "    print(\"RA = %.4f, DEC = %.4f\" %(ra, dec))\n",
    "    imgTable = svc.search((ra,dec), (fov, fov), verbosity=2).to_table().to_pandas()\n",
    "\n",
    "    split_selection = re.split('(\\d+)',matched_galaxy['cluster'].to_string()) # words [2], numbers [3]\n",
    "    include_url = [split_selection[2].lower().strip(), split_selection[3], \\\n",
    "                    str(math.floor(matched_galaxy.ra * 10 ** 4) / 10 ** 4), str(math.floor(matched_galaxy.dec * 10 ** 4) / 10 ** 4)]\n",
    "    exclude_url = ['weight','mask','wht']\n",
    "    \n",
    "    # make new pandas dataframe for image urls that pass all conditions\n",
    "    row = pd.DataFrame()\n",
    "    for i in range(np.nanmax(imgTable.index)+1):\n",
    "        if all(include_string_in_url in imgTable.access_url[i].lower() for include_string_in_url in include_url) \\\n",
    "        and all(exclude_word_in_url not in imgTable.access_url[i].lower() for exclude_word_in_url in exclude_url):\n",
    "\n",
    "            data = (imgTable.iloc[[i],:])\n",
    "            row = pd.concat((row,data))\n",
    "        \n",
    "    print(\"Available indices to choose from:\")\n",
    "    print(row.index)\n",
    "    for i in range(np.nanmax(row.index)+1):\n",
    "        if i not in row.index:\n",
    "            continue\n",
    "        else:\n",
    "            full_url = row.access_url[i]\n",
    "            short_url = full_url.split(sep='&')[1]\n",
    "            print(i, short_url)\n",
    "\n",
    "    return (row, ra, dec)"
   ]
  },
  {
   "cell_type": "code",
   "execution_count": null,
   "id": "b4c27e4f-e9e3-49d7-95ab-2aea5e34d2f9",
   "metadata": {
    "tags": []
   },
   "outputs": [],
   "source": [
    "row, ra, dec = choose_image(matched_galaxy)"
   ]
  },
  {
   "cell_type": "code",
   "execution_count": null,
   "id": "8969c56c-3358-4fd3-8031-11c18a2ab59e",
   "metadata": {
    "tags": []
   },
   "outputs": [],
   "source": [
    "def callSIA(ra,dec,row,selection,galaxy_specid,user_pick_index): \n",
    "    \"\"\"\n",
    "    Plots the selected processed image of a galaxy cutout using the svc pathway.\n",
    "\n",
    "    Parameters\n",
    "    ----------\n",
    "    ra : float\n",
    "    RA of selected galaxy\n",
    "    \n",
    "    dec : float\n",
    "    Dec of selected galaxy\n",
    "    \n",
    "    row : pandas dataframe\n",
    "    Data table for image urls of selected galaxy\n",
    "    \n",
    "    selection : string\n",
    "    Name of selected cluster\n",
    "    \n",
    "    galaxy_specid : int\n",
    "    Number to identity specific galaxy\n",
    "    \n",
    "    user_pick_index : int\n",
    "    User's choice of image from the list of available indices above\n",
    "\n",
    "    Returns\n",
    "    -------\n",
    "    None\n",
    "    \"\"\"\n",
    "    # make galaxy image cutouts from full image\n",
    "    fov = 0.005\n",
    "    if user_pick_index not in row.index:\n",
    "        print(\"Index is not available. Pick from the following indices:\")\n",
    "        print(row.index)\n",
    "    else:\n",
    "        row = svc.search((ra,dec), (fov, fov), verbosity=2).to_table() # image cutout\n",
    "        sel = (row['proctype'] != 'wtmap')\n",
    "        new_row = row[sel][user_pick_index]\n",
    "        url = new_row['access_url']\n",
    "        filename = download_file(url,cache=True,show_progress=False,timeout=120)\n",
    "        hdu = fits.open(filename)[0]\n",
    "        image = hdu.data\n",
    "        wcs = WCS(hdu.header)\n",
    "\n",
    "        print(\"image coloring min = %f, max = %f, median = %f\" %(np.nanmin(image),np.nanmax(image),np.median(image)))\n",
    "        fig = plt.figure(figsize=(13,13))\n",
    "        ax = fig.add_subplot(projection=wcs, label='overlays')\n",
    "        vrange = np.nanmax(image)-np.nanmin(image)\n",
    "        \n",
    "        vbot = np.nanmin(image)-.1*vrange #change percentage as needed (suggest +0.001 for HST; +0.1 for ground-based)\n",
    "        vtop = np.nanmin(image)+.5*vrange #change percentage as needed (suggest +0.1 for HST; +0.5 for ground-based)\n",
    "        ax.imshow(np.arcsinh(image),origin='lower',cmap='bone',vmin=np.arcsinh(vbot),vmax=np.arcsinh(vtop))\n",
    "        ax.set_title(\"%s cluster %i specid\" %(selection,galaxy_specid))\n",
    "\n",
    "        lon = ax.coords[0]\n",
    "        lat = ax.coords[1]\n",
    "        lon.set_major_formatter('d.ddd')\n",
    "        lat.set_major_formatter('d.ddd')\n",
    "\n",
    "        ax.grid(color='white', ls='solid')"
   ]
  },
  {
   "cell_type": "markdown",
   "id": "3dc747eb-2ee3-433c-ba06-b78766d5a987",
   "metadata": {},
   "source": [
    "After seeing all of the available images, pick an index from the list above to plot the processed galaxy image. It is important to note the contrast parameters (vbot, vtop) will need to be adjusted for other images as a guess-and-check until the desired image resolution is met."
   ]
  },
  {
   "cell_type": "code",
   "execution_count": null,
   "id": "24c3072f-f265-4880-b77f-d82785867a67",
   "metadata": {
    "tags": []
   },
   "outputs": [],
   "source": []
  },
  {
   "cell_type": "code",
   "execution_count": null,
   "id": "e6ad9555-3839-4438-927f-3700e4730861",
   "metadata": {
    "tags": []
   },
   "outputs": [],
   "source": [
    "user_pick_index = 10\n",
    "callSIA(ra, dec, row, cluster_name, galaxy_specid, user_pick_index)"
   ]
  },
  {
   "cell_type": "markdown",
   "id": "0607433a-8835-430b-b32e-299d6a436324",
   "metadata": {},
   "source": [
    "The center galaxy in the image is the selected galaxy, and nearby and far away galaxies are seen as well in this cutout."
   ]
  },
  {
   "cell_type": "markdown",
   "id": "077aeddf-e5d3-4c13-a428-71f0a4f80b93",
   "metadata": {
    "tags": []
   },
   "source": [
    "<a class=\"anchor\" id=\"Spec6\"></a>\n",
    "# Full 1D and 2D spectrum of pre-selected galaxy\n",
    "The wavelength, flux, and variance of the flux is queried from the database using the redshift_table. In this section, the 1D and 2D spectrum are plotted above and below each other to compare the similarities and differences in the emission line expressions. Some of the functionality is similar to the notebook [GOGREEN Data Release 1 data access at Astro Data Lab](https://github.com/astro-datalab/notebooks-latest/blob/master/03_ScienceExamples/GOGREEN_GalaxiesInRichEnvironments/1_GOGREENDr1DataAccessAtDataLab.ipynb)."
   ]
  },
  {
   "cell_type": "code",
   "execution_count": null,
   "id": "6d0166e8-3fe1-4808-84dd-a928526b436d",
   "metadata": {
    "tags": []
   },
   "outputs": [],
   "source": [
    "def get_wavelength_from_hdu(hdr):\n",
    "    \"\"\"\n",
    "    Reads 'CRVAL1' 'NAXIS1' and 'CD1_1' to compute wavelength coverage.\n",
    "\n",
    "    Parameters\n",
    "    ----------\n",
    "    hdr : hdu object\n",
    "    Fits file table using BytesIO\n",
    "\n",
    "    Returns\n",
    "    -------\n",
    "    None\n",
    "    \"\"\"\n",
    "    return np.arange(hdr['CRVAL1'], hdr['CRVAL1']+hdr['NAXIS1']*hdr['CD1_1'], hdr['CD1_1'])\n",
    "\n",
    "def get_spectrum(hdu, extver, units='fl', return_frame='observed', redshift=0.):\n",
    "    \"\"\"\n",
    "    Access spectrum from fits file, convert to specified units in rest frame.\n",
    "\n",
    "    Note: Input spectrum must be in units erg cm^-2 s^-1 A^-1\n",
    "    Note: Header values must give wavelength in Angstroms\n",
    "\n",
    "    Parameters\n",
    "    ----------\n",
    "    hdr : hdu object\n",
    "    Fits file table using BytesIO\n",
    "    \n",
    "    extver : pandas dataframe\n",
    "    Redshift_table['extver'] column with galaxy index\n",
    "    \n",
    "    units : string\n",
    "    Units of output spectrum, case insensitive\n",
    "    \n",
    "    return_frame : string\n",
    "    What frame to return the wavelength units in. If 'rest', a redshift is required.\n",
    "    \n",
    "    redshift : float\n",
    "    Redshift of galaxy to convert to rest-frame, if redshift = 0 returns observed-frame\n",
    "\n",
    "    Returns\n",
    "    -------\n",
    "    lam : numpy array of float\n",
    "    Wavelength in Angstroms\n",
    "    \n",
    "    spec : numpy array of float\n",
    "    Flux in erg cm^-2 s^-1 A^-1\n",
    "    \n",
    "    var : numpy array of float\n",
    "    Variance of flux in erg cm^-2 s^-1 A^-1\n",
    "    \"\"\"\n",
    "    extver = int(extver)\n",
    "\n",
    "    units = units.lower()\n",
    "    assert units in ['fl','maggies','fnu'], 'Error, units must be \"Fl\" or \"maggies\"'\n",
    "    return_frame = return_frame.lower()\n",
    "    assert return_frame in ['rest','observed'], 'Error, return_frame must be either \"rest\" or \"observed\"'\n",
    "\n",
    "    scale = hdu['SCI',extver].header['FLUXSCAL']\n",
    "    spec = hdu['SCI',extver].data / scale\n",
    "    var = hdu['VAR',extver].data / scale**2\n",
    "    lam = get_wavelength_from_hdu(hdu['SCI',extver].header)\n",
    "\n",
    "    if return_frame == 'rest': # convert from observed to rest wavelength\n",
    "        assert redshift >= 0, 'ERROR: redshift must be positive, is {}'.format(redshift)\n",
    "\n",
    "        dl = (cosmo.luminosity_distance(redshift).to(u.pc).value / 10.)**(-2)\n",
    "        spec *= (1. + redshift) / dl\n",
    "        var *= ((1. + redshift) / dl)**2\n",
    "        lam /= (1. + redshift)\n",
    "        \n",
    "    if units == \"maggies\":\n",
    "        convers = (3.34e4 * lam**2)/3631.\n",
    "        spec *= convers\n",
    "        var *= convers**2\n",
    "    elif units == \"fnu\":\n",
    "        convers = (3.34e4 * lam**2)\n",
    "        spec *= convers\n",
    "        var *= convers**2\n",
    "        \n",
    "    return (lam, spec, var)"
   ]
  },
  {
   "cell_type": "code",
   "execution_count": null,
   "id": "1f2060f8-7773-40d3-bf9c-e2df88dbeab0",
   "metadata": {
    "tags": []
   },
   "outputs": [],
   "source": [
    "def display_1D(redshift_table,cluster_name,galaxy_specid):\n",
    "    \"\"\"\n",
    "    Returns the wavelength vs flux of a galaxy for 1D spectrum.\n",
    "\n",
    "    Parameters\n",
    "    ----------\n",
    "    redshift_table : pandas dataframe\n",
    "    Data table for all galaxies\n",
    "    \n",
    "    cluster_name : string\n",
    "    Name of selected cluster\n",
    "    \n",
    "    galaxy_specid : int\n",
    "    Number to identify specific galaxy\n",
    "\n",
    "    Returns\n",
    "    -------\n",
    "    obj : pandas dataframe\n",
    "    Data table pulled from redshift_table of selected galaxy\n",
    "    \n",
    "    obj_index : int\n",
    "    Index of the selected galaxy in redshift_table\n",
    "    \n",
    "    lam : numpy array of float\n",
    "    Wavelength in Angstroms\n",
    "    \n",
    "    spec : numpy array of float\n",
    "    Flux in erg cm^-2 s^-1 A^-1\n",
    "    \n",
    "    var : numpy array of float\n",
    "    Variance of flux in erg cm^-2 s^-1 A^-1\n",
    "    \n",
    "    max_index : int\n",
    "    Index where the peak of the [O II] emission line is\n",
    "    \n",
    "    max_spec : float\n",
    "    Flux of the [O II] emission line at its peak\n",
    "    \"\"\"\n",
    "    # Make pandas datafrmae for selected galaxy only\n",
    "    obj = redshift_table.query('(cluster==\"{}\") & (specid == {})'.format('%s'%cluster_name, galaxy_specid))\n",
    "    obj_index = obj.index.values[0]\n",
    "    fits_path = oneddir + '%s_final.fits'%cluster_name\n",
    "    \n",
    "    # Return the wavelength, flux and variance of flux from selected galaxy\n",
    "    with fits.open(BytesIO(sc.get(fits_path))) as hdu:\n",
    "        lam, spec, var = get_spectrum(hdu, redshift_table.loc[obj_index,'extver'], return_frame='observed') # get observed frame spectra\n",
    "        \n",
    "    # plot 1D spectrum of entire wavelength range\n",
    "    fig, ax = plt.subplots(1,1, figsize=(18,4))\n",
    "    ax.step(lam, spec, color='k', where='mid', lw=0.5)\n",
    "    ax.fill_between(lam, spec+np.sqrt(var), spec-np.sqrt(var), alpha=1, color='limegreen', step='mid')\n",
    "    ax.set(title='1D spectrum of galaxy %i in %s' %(galaxy_specid,cluster_name),xlabel='Observed wavelength $(\\AA)$', ylabel='Flux $(~ergs~s^{-1}~cm^{-2}~\\AA^{-1}$)', yscale='linear', \n",
    "           xlim=[0.99*np.min(lam), np.max(lam)/0.99])\n",
    "    ax.set_ylim(-1e-18,8e-18)\n",
    "    ax.set_xlim(np.nanmin(lam),np.nanmax(lam))\n",
    "\n",
    "    max_spec = 0.\n",
    "    for i in range(len(lam)): #find index and value of [O II] peak\n",
    "        if lam[i]>7000 and lam[i]<7500:\n",
    "            if max_spec<spec[i]:\n",
    "                max_spec = spec[i]\n",
    "                max_index = i\n",
    "\n",
    "    ax.scatter(lam[max_index],max_spec,s=50,c='red',marker=(5, 1))\n",
    "    plt.show() \n",
    "    \n",
    "    return (obj, obj_index, lam, spec, var, max_index, max_spec)"
   ]
  },
  {
   "cell_type": "code",
   "execution_count": null,
   "id": "d3f7faa0-add2-4425-8c9f-267ab615b800",
   "metadata": {
    "tags": []
   },
   "outputs": [],
   "source": [
    "def display_2D(cluster_name,redshift_table,obj_index):\n",
    "    \"\"\"\n",
    "    Returns the wavelength and pixel of a galaxy for 2D spectrum\n",
    "\n",
    "    Parameters\n",
    "    ----------\n",
    "    redshift_table : pandas dataframe\n",
    "    Data table for all galaxies\n",
    "    \n",
    "    cluster_name : string\n",
    "    Name of selected cluster\n",
    "    \n",
    "    obj_index : int\n",
    "    Index of the selected galaxy in redshift_table\n",
    "\n",
    "    Returns\n",
    "    -------\n",
    "    None\n",
    "    \"\"\"\n",
    "    onedfile = oneddir + cluster_name + '_final.fits'\n",
    "    cluster = redshift_table['cluster'][obj_index]\n",
    "    ext = redshift_table['extver'][obj_index]\n",
    "    specid = redshift_table['specid'][obj_index]\n",
    "    with fits.open(BytesIO(sc.get(onedfile))) as onedspec:  # reading file from the file service\n",
    "        mdf = onedspec['mdf',1].data\n",
    "        spectrum = onedspec['sci',ext].data\n",
    "        header_primary = onedspec[0].header\n",
    "\n",
    "        hd = onedspec['sci',ext].header\n",
    "        unc = np.sqrt( var )\n",
    "    \n",
    "    # calculate wavelength array\n",
    "    pix = np.arange(1,hd['naxis1']+1)\n",
    "    ll = hd['crval1']+(pix-hd['crpix1'])*hd['cd1_1']\n",
    "    \n",
    "    # make variables of file names\n",
    "    twodfile = twoddir + cluster + '_twod.fits.gz'\n",
    "    zmaglim = np.array([23.5, 23.0])\n",
    "    \n",
    "    cols = ['specid','extver','redshift','redshift_quality','ra','dec','objclass','snr_8500_var']\n",
    "    specid, ext, zspec, Quality, ra, dec, objclass, snr_target = redshift_table.loc[obj_index,cols].values.T\n",
    "\n",
    "    fig,ax5 = plt.subplots(1,1, figsize=(18, 4))\n",
    "    twodexists = True\n",
    "    # Reading raw bits from the file service via sc.get(),\n",
    "    # then into a BytesIO object (behaves like a file in RAM),\n",
    "    # then unzipping it with gzip,\n",
    "    # and finally opening it with astropy.io.fits\n",
    "    with fits.open(gzip.GzipFile(fileobj=BytesIO(sc.get(twodfile)))) as twodspec:\n",
    "\n",
    "        try:\n",
    "            twod = twodspec['sci',ext].data\n",
    "        except:\n",
    "            twodexists = False    \n",
    "\n",
    "    if twodexists:\n",
    "        maxval = 3*np.nanmax(np.abs(np.nanmedian(twod[2:8,950:1100],1)))\n",
    "        if (maxval<= 0):\n",
    "            maxval = 3*np.nanmax(np.abs(np.nanmedian(twod,1)))\n",
    "        extent = [ll[0],ll[-1],1,20]\n",
    "        ax5.imshow(twod[:,:], extent=extent, origin='lower', aspect=10, vmax=maxval, vmin=-maxval, cmap=plt.get_cmap('gray'))\n",
    "        ax5.set_xlim(ll[0],ll[-1])\n",
    "        plt.ticklabel_format(axis='y', style='sci', scilimits=(1,0)) # set y axis to scientific notation to match length of 1D spectrum\n",
    "        ax5.set_xlabel(\"Observed wavelength $(\\AA)$\")\n",
    "        ax5.set_ylabel(\"Pixels\")\n",
    "        plt.title('2D spectrum of galaxy %i in %s' %(galaxy_specid,cluster_name))\n",
    "    fig.show()"
   ]
  },
  {
   "cell_type": "code",
   "execution_count": null,
   "id": "3b994b04-fabe-48ab-bcbe-8acefacf89f3",
   "metadata": {
    "tags": []
   },
   "outputs": [],
   "source": [
    "obj, obj_index, lam, spec, var, max_index, max_spec = display_1D(redshift_table, cluster_name, galaxy_specid)\n",
    "display_2D(cluster_name, redshift_table, obj_index)"
   ]
  },
  {
   "cell_type": "markdown",
   "id": "425aa693-b573-4b71-a7fa-d6cf1c1499a8",
   "metadata": {},
   "source": [
    "Note that distinct peaks in the 1D spectrum (excluding noise) correspond closely to distinct band signatures in the 2D spectrum, which indicate a specific element is detected. To find the redshift, [O II] is one of the emission lines of interest indicated by the red star in the 1D spectrum. In the example above, we can also spot the \\[O III]4959,5007 doublet around observed wavelength 9600-9700 Angstrom. Note how there is increased spectrum noise around 9400 Angstroms and above."
   ]
  },
  {
   "cell_type": "markdown",
   "id": "48b5499a-c29b-4179-aa1b-f6b0deac8126",
   "metadata": {
    "tags": []
   },
   "source": [
    "<a class=\"anchor\" id=\"Spec7\"></a>\n",
    "# Use the \\[O II] emission line and a Gaussian fit of the continuum subtracted spectrum\n",
    "First, zoom in a 100 Angstrom range centered around the peak of the [O II] emission line peak. Then, divide the 100 Angstrom window into three regions: [0, 25], [25,75], [75,100]. Using these three regions, find the continuum fit by finding the median value of the fit between the first and third regions."
   ]
  },
  {
   "cell_type": "code",
   "execution_count": null,
   "id": "6c0240fa-0bfc-4a6e-ba34-189a6d975308",
   "metadata": {
    "tags": []
   },
   "outputs": [],
   "source": [
    "xwindow_range = 50 # +/- distance from the peak of the emission line\n",
    "ywindow_range = 1e-18 # not in use right now"
   ]
  },
  {
   "cell_type": "code",
   "execution_count": null,
   "id": "26233d7a-14d8-49c5-8eb8-809b37ffb418",
   "metadata": {
    "tags": []
   },
   "outputs": [],
   "source": [
    "def continuum_fit(lam,spec,var,max_index): \n",
    "    \"\"\"\n",
    "    Returns the ycontinuum and indices of [O II] emission line.\n",
    "\n",
    "    Parameters\n",
    "    ----------\n",
    "    lam : numpy array of float\n",
    "    Wavelength in Angstroms\n",
    "    \n",
    "    spec : numpy array of float\n",
    "    Flux in erg cm^-2 s^-1 A^-1\n",
    "    \n",
    "    var : numpy array of float\n",
    "    Variance of flux in erg cm^-2 s^-1 A^-1\n",
    "    \n",
    "    max_index : int\n",
    "    Index where the peak of the [O II] emission line is\n",
    "\n",
    "    Returns\n",
    "    -------\n",
    "    ycontinuum : numpy array of float\n",
    "    Linear fit at +/- 25 Angstrom end regions of [O II] emission line window\n",
    "    \n",
    "    bounds_index : numpy array of int\n",
    "    Indices for regions bounding [O II] emission line in 25 Angstrom intervals\n",
    "    \"\"\"\n",
    "    # find the indices of the window range\n",
    "    range_bounds = np.array([-xwindow_range,-25,25,xwindow_range])\n",
    "    bounds_index = np.array([])\n",
    "    for i in range(len(range_bounds)):\n",
    "        idx = (np.abs(lam - (int(lam[max_index]) + int('%i'%range_bounds[i])) )).argmin()\n",
    "        bounds_index = np.append(bounds_index,idx)\n",
    "    bounds_index = bounds_index.astype(int)\n",
    "    \n",
    "    #set the wavelength from the indices\n",
    "    region1_x = lam[bounds_index[0]:bounds_index[1]+1]\n",
    "    region2_x = lam[bounds_index[2]:bounds_index[3]+1]\n",
    "    region1_y = spec[bounds_index[0]:bounds_index[1]+1]\n",
    "    region2_y = spec[bounds_index[2]:bounds_index[3]+1]\n",
    "    print(region1_x.shape,region2_x.shape)\n",
    "    \n",
    "    # fit the two regions with a linear fit\n",
    "    poly_region1 = (np.polyfit(region1_x, region1_y, deg=1)) # linear fit slope [0] and y-intercept [1] for region 1\n",
    "    poly_region2 = (np.polyfit(region2_x, region2_y, deg=1)) # linear fit slope [0] and y-intercept [1] for region 2\n",
    "    \n",
    "    #take the median value of the two linear fits\n",
    "    poly_median = np.median( [np.polyval(poly_region1,region1_x),np.polyval(poly_region2,region2_x)]) # median y-value from regions 1 and 2 fit\n",
    "    ycontinuum = np.zeros(lam.size)\n",
    "    ycontinuum[bounds_index[0]:bounds_index[3]+1] = poly_median\n",
    "    \n",
    "    return (ycontinuum, bounds_index)"
   ]
  },
  {
   "cell_type": "code",
   "execution_count": null,
   "id": "c2fd80f5-5ff3-4fe4-9917-2da5f0325b8f",
   "metadata": {
    "tags": []
   },
   "outputs": [],
   "source": [
    "def plot_emission_line(lam, spec, var, max_index, ycontinuum=np.array([]),g_fit=None):\n",
    "    \"\"\"\n",
    "    Plots an emission line with a window range of 100 Angstroms\n",
    "\n",
    "    Parameters\n",
    "    ----------\n",
    "    lam : numpy array of float\n",
    "    Wavelength in Angstroms\n",
    "    \n",
    "    spec : numpy array of float\n",
    "    Flux in erg cm^-2 s^-1 A^-1\n",
    "    \n",
    "    var : numpy array of float\n",
    "    Variance of flux in erg cm^-2 s^-1 A^-1\n",
    "    \n",
    "    max_index : int\n",
    "    Index where the peak of the [O II] emission line is\n",
    "\n",
    "    ycontinuum : numpy array of float\n",
    "    Linear fit at +/- 25 Angstrom end regions of [O II] emission line window\n",
    "    \n",
    "    g_fit : class models.Gaussian1D\n",
    "    Class holding Gaussian distribution parameters from fit including amplitude, mean and std.\n",
    "    \n",
    "    Returns\n",
    "    -------\n",
    "    None\n",
    "    \"\"\"\n",
    "    fig, ax = plt.subplots(1,1, figsize=(16,4))\n",
    "    ax.step(lam, spec, color='k', where='mid', lw=0.5)\n",
    "    ax.fill_between(lam, spec+np.sqrt(var), spec-np.sqrt(var), alpha=1, color='orange', step='mid')\n",
    "    ax.set(title='Zoomed in 1D spectrum around [O II]', xlabel='Observed wavelength $(\\AA)$', ylabel='Flux $(~ergs~s^{-1}~cm^{-2}~\\AA^{-1}$)', yscale='linear', \n",
    "           xlim=[0.99*np.min(lam), np.max(lam)/0.99])\n",
    "    ax.set_ylim(-1e-18,max_spec+1e-18)\n",
    "    ax.set_xlim(int(lam[max_index])-xwindow_range,int(lam[max_index])+xwindow_range)\n",
    "    ax.scatter(lam[max_index],spec[max_index],s=50,c='red',marker=(5, 1))\n",
    "    if len(ycontinuum) != 0:\n",
    "        ax.plot(lam,ycontinuum,color='b')\n",
    "    elif g_fit!=None:\n",
    "        x = np.linspace(int(lam[max_index])-xwindow_range,int(lam[max_index])+xwindow_range)\n",
    "        y_fit = g_fit(x*u.AA)\n",
    "        # print the results after the fitting is done\n",
    "        print(\"g_fit (Fit Results): \", g_fit)\n",
    "        ax.plot(x,y_fit,c='blue')\n",
    "        plt.show()"
   ]
  },
  {
   "cell_type": "code",
   "execution_count": null,
   "id": "562e7b0e-129e-447b-8e5c-8fcfaa17aefe",
   "metadata": {
    "tags": []
   },
   "outputs": [],
   "source": [
    "ycontinuum, bounds_index = continuum_fit(lam, spec, var, max_index)\n",
    "plot_emission_line(lam,spec,var,max_index, ycontinuum=ycontinuum);"
   ]
  },
  {
   "cell_type": "markdown",
   "id": "9312cc23-6f00-4397-b4ea-79510ef4287d",
   "metadata": {},
   "source": [
    "A Gaussian distribution is commonly known as a normal distribution and has a symmetric bell curve characterized by sigma (σ), the percentage of data under the curve in an arbitrary standard deviation away from the mean. Therefore, the spectrum should be transformed around [O II] to approximately approach zero as the spectrum goes further away from the peak of the emission line. After finding the continuum_fit as a constant, we can subtract the whole spectrum by this constant to get the continuum subtracted spectrum."
   ]
  },
  {
   "cell_type": "code",
   "execution_count": null,
   "id": "9e07220f-db3a-4c55-b11b-67cba4769507",
   "metadata": {
    "tags": []
   },
   "outputs": [],
   "source": [
    "def subtract_spectrum(spec,max_spec,ycontinuum,max_index): \n",
    "    \"\"\"\n",
    "    Returns the continuum subtracted spetrum and new peak of [O II] emission line.\n",
    "\n",
    "    Parameters\n",
    "    ----------\n",
    "    spec : numpy array of float\n",
    "    Flux in erg cm^-2 s^-1 A^-1\n",
    "    \n",
    "    max_spec : float\n",
    "    Flux peak of [O II] emission line\n",
    "    \n",
    "    ycontinuum : numpy array of float\n",
    "    Linear fit at +/- 25 Angstrom end regions of [O II] emission line window\n",
    "    \n",
    "    max_index : int\n",
    "    Index where the peak of the [O II] emission line is\n",
    "\n",
    "    Returns\n",
    "    -------\n",
    "    continuum_subtracted_spectrum : numpy array of float\n",
    "    Wavelength of the [O II] emission line after subtracting ycontinuum fit\n",
    "    \n",
    "    newmax_spec : float\n",
    "    New flux peak of [O II] emission line\n",
    "    \"\"\"\n",
    "    # subtract continuum and plot new spectrum\n",
    "    continuum_subtracted_spectrum = spec - ycontinuum\n",
    "    newmax_spec = max_spec - ycontinuum[max_index]\n",
    "    \n",
    "    return (continuum_subtracted_spectrum, newmax_spec)"
   ]
  },
  {
   "cell_type": "code",
   "execution_count": null,
   "id": "21f3d6c7-e345-4ca1-a1fd-526c86047e4c",
   "metadata": {
    "tags": []
   },
   "outputs": [],
   "source": [
    "continuum_subtracted_spectrum, newmax_spec = subtract_spectrum(spec, max_spec, ycontinuum, max_index)\n",
    "plot_emission_line(lam,continuum_subtracted_spectrum,var,max_index, ycontinuum=np.zeros(len(continuum_subtracted_spectrum)));"
   ]
  },
  {
   "cell_type": "markdown",
   "id": "6684c602-da03-4db8-9485-5131d8fd704d",
   "metadata": {},
   "source": [
    "The continuum subtracted spectrum around emission line [O II] roughly goes to zero in both the positive and negative direction from the plotted window. Now, fit a Gaussian distribution of [O II]."
   ]
  },
  {
   "cell_type": "code",
   "execution_count": null,
   "id": "dc3bd69e-ed9f-4b6b-99b9-568c51227955",
   "metadata": {
    "tags": []
   },
   "outputs": [],
   "source": [
    "def emission_gaussian(lam, continuum_subtracted_spectrum, bounds_index, var, max_index):\n",
    "    \"\"\"\n",
    "    Returns the Gaussian fit of the continuum subtracted spetrum [O II] emission line.\n",
    "\n",
    "    Parameters\n",
    "    ----------\n",
    "    lam : numpy array of float\n",
    "    Wavelength in Angstroms\n",
    "    \n",
    "    continuum_subtracted_spectrum : numpy array of float\n",
    "    Wavelength of the [O II] emission line after subtracting ycontinuum fit\n",
    "    \n",
    "    bounds_index : numpy array of int\n",
    "    Indices for regions bounding [O II] emission line in 25 Angstrom intervals\n",
    "    \n",
    "    var : numpy array of float\n",
    "    Variance of flux in erg cm^-2 s^-1 A^-1\n",
    "    \n",
    "    max_index : int\n",
    "    Index where the peak of the [O II] emission line is\n",
    "\n",
    "    Returns\n",
    "    -------\n",
    "    g_fit : class models.Gaussian1D\n",
    "    Gaussian fit parameters of the [O II] emission line including amplitude, mean and std\n",
    "    \"\"\"\n",
    "    # these units are for reference\n",
    "    flux_units = u.erg/u.s/(u.cm**2)/u.AA\n",
    "    spec_units = u.erg/u.s/(u.cm**2)\n",
    "\n",
    "    # find and plot gaussian fit\n",
    "    sub_region = SpectralRegion((int(lam[max_index])-xwindow_range)*u.AA,(int(lam[max_index])+xwindow_range)*u.AA)\n",
    "    print(sub_region)\n",
    "    # use the wavelength and flux to create a Spectrum1D object\n",
    "    spectrum = Spectrum1D(spectral_axis=lam*u.AA, flux=continuum_subtracted_spectrum*flux_units)\n",
    "    sub_spectrum = extract_region(spectrum, sub_region)\n",
    "    \n",
    "    # Initialize Gaussian model with estimates of amplitude, mean, stddev \n",
    "    g_init = models.Gaussian1D(newmax_spec, lam[max_index], 5.)\n",
    "    g_fit = fit_lines(spectrum, g_init)\n",
    "    # print initial guess values\n",
    "    print(\"g_init (Initial Guesses): \", g_init)\n",
    "\n",
    "    return g_fit"
   ]
  },
  {
   "cell_type": "code",
   "execution_count": null,
   "id": "bc619d3f-b165-417c-994b-63f20296ceba",
   "metadata": {
    "tags": []
   },
   "outputs": [],
   "source": [
    "g_fit = emission_gaussian(lam, continuum_subtracted_spectrum, bounds_index, var, max_index)\n",
    "plot_emission_line(lam,continuum_subtracted_spectrum,var,max_index, g_fit=g_fit);"
   ]
  },
  {
   "cell_type": "markdown",
   "id": "69ce4b48-c64d-45a6-90a0-b954cba16a35",
   "metadata": {},
   "source": [
    "The Gaussian fit for emission line [O II] has three important parameters: amplitude, mean and standard deviation. Use these values to find an estimate redshift and [O II] equivalent width, and compare the estimates to the numbers pulled from the dataset."
   ]
  },
  {
   "cell_type": "markdown",
   "id": "fa71fdb9-669c-48bc-9cf8-2ed445b56cd0",
   "metadata": {
    "tags": []
   },
   "source": [
    "<a class=\"anchor\" id=\"Spec8\"></a>\n",
    "# Compare calculated to GOGREEN redshift and EW values"
   ]
  },
  {
   "cell_type": "code",
   "execution_count": null,
   "id": "29c1fac8-205a-4508-af67-0c9dca767e0b",
   "metadata": {
    "tags": []
   },
   "outputs": [],
   "source": [
    "def gaussian_equation(amplitude,mean,std):\n",
    "    \"\"\"\n",
    "    Returns the probability density function of a Gaussian distribution\n",
    "\n",
    "    Parameters\n",
    "    ----------\n",
    "    amplitude : float\n",
    "    Peak flux of the Gaussian distribution\n",
    "    \n",
    "    mean : float\n",
    "    Wavelength where the peak flux of the Gaussian Distribution is\n",
    "    \n",
    "    std : float\n",
    "    How wide the Gaussian distribution is\n",
    "\n",
    "    Returns\n",
    "    -------\n",
    "    lambda x : float\n",
    "    Probability density function of Gaussian distribution at a specific wavelength (x)\n",
    "    \"\"\"\n",
    "    return lambda x: amplitude*(np.exp(-1/2*((x-mean)/std)**2))\n",
    "\n",
    "def calculate_values(g_fit,lam,max_index,obj,clusters_table,cluster_name,galaxy_specid):\n",
    "    \"\"\"\n",
    "    Returns the estimated redshift and equivalent width of [O II] emission line and compares them with the dataset.\n",
    "\n",
    "    Parameters\n",
    "    ----------\n",
    "    g_fit : class models.Gaussian1D\n",
    "    Gaussian fit parameters of the [O II] emission line including amplitude, mean and std\n",
    "    \n",
    "    lam : numpy array of float\n",
    "    Wavelength in Angstroms\n",
    "    \n",
    "    max_index : int\n",
    "    Index where the peak of the [O II] emission line is\n",
    "\n",
    "    obj : pandas dataframe\n",
    "    Data table pulled from redshift_table of selected galaxy\n",
    "    \n",
    "    clusters_table : pandas dataframe\n",
    "    Data table for all clusters\n",
    "    \n",
    "    cluster_name : string\n",
    "    Name of the selected cluster\n",
    "    \n",
    "    galaxy_specid : int\n",
    "    Number to identify specific galaxy\n",
    "    \n",
    "    Returns\n",
    "    -------\n",
    "    None\n",
    "    \"\"\"\n",
    "    obs_wave = g_fit.mean.value #*u.AA\n",
    "    std = g_fit.stddev.value #*u.AA\n",
    "    amplitude = g_fit.amplitude.value #*flux_units\n",
    "    rest_wave = 3727 #*u.AA #value from Google for O II\n",
    "    redshift_z = (obs_wave/rest_wave)-1 #unitless\n",
    "    \n",
    "    line_flux = integrate.quad(gaussian_equation(amplitude,obs_wave,std),(int(lam[max_index])-xwindow_range),(int(lam[max_index])+xwindow_range)) #*spec_units\n",
    "    \n",
    "    integral_gauss = amplitude*std*np.sqrt(2*np.pi) # another way to find integral of gaussian\n",
    "    \n",
    "    # to find the EW of [O II], the formula is area of flux / max flux of [O II] / (1 + redshift),\n",
    "    #where the (1 + redshift) is to change to the observed frame\n",
    "    line_ew = line_flux[0]/ycontinuum[max_index]/(1+redshift_z)\n",
    "    line_ew2 = integral_gauss/ycontinuum[max_index]/(1+redshift_z)\n",
    "    \n",
    "    display_html(obj)\n",
    "    \n",
    "    redshift_difference = clusters_table.redshift[index_num]-obj.redshift[np.nanmin(obj.index)] # difference between galaxy and cluster\n",
    "    light_speed= 3e5 # km/s\n",
    "    velocity_difference = (redshift_difference) * light_speed # km/s\n",
    "    \n",
    "    percent_err_redshift = ((redshift_z - obj.redshift[np.nanmin(obj.index)]) / obj.redshift[np.nanmin(obj.index)]) * 100\n",
    "    percent_err_ew = ((line_ew - obj.ewoii[np.nanmin(obj.index)]) / obj.ewoii[np.nanmin(obj.index)]) * 100\n",
    "    percent_err_ew_model = ((line_ew - obj.ewoii_model[np.nanmin(obj.index)]) / obj.ewoii_model[np.nanmin(obj.index)]) * 100\n",
    "\n",
    "    print(\"Flux value and value_error =\",line_flux)\n",
    "    print(\"Calculated redshift = %f, EW by integrate.quad() = %f, EW by amplitude*std*np.sqrt(2*np.pi) = %f\" %(redshift_z,line_ew,line_ew2))\n",
    "    print(\"\\nDifference between calculated redshift and GOGREEN = %f, percent error = %.2f\" %(abs(redshift_z - obj.redshift[np.nanmin(obj.index)]),percent_err_redshift) + '%')\n",
    "    print(\"Difference between calculated EW and GOGREEN = %f, percent error = %.2f\" %(abs(line_ew-obj.ewoii[np.nanmin(obj.index)]),percent_err_ew) + '%.')\n",
    "    print(\"Difference between calculated EW-model and GOGREEN = %f, percent error = %.2f\" %(abs(line_ew-obj.ewoii_model[np.nanmin(obj.index)]),percent_err_ew_model) + '%')\n",
    "    print(\"\\nThe difference between the galaxy redshift and the redshift of the cluster is %f\\n\\\n",
    "which corresponds to a velocity difference of %.2f km/s.\\n\\\n",
    "For reference, the typical threshold for a cluster membership is a velocity difference under 1,500 km/s.\\n\\\n",
    "Based on this, galaxy with spec id %i is probably not a member of cluster %s.\\n\\\n",
    "Checking the redshift_table, the membership flag is %i.\" %(redshift_difference, velocity_difference, \\\n",
    "                                                           galaxy_specid,cluster_name,obj.member[np.nanmin(obj.index)]))"
   ]
  },
  {
   "cell_type": "code",
   "execution_count": null,
   "id": "ebb6fa64-9a9a-47c8-96c1-1ea983f26620",
   "metadata": {
    "tags": []
   },
   "outputs": [],
   "source": [
    "calculate_values(g_fit, lam, max_index, obj, clusters_table, cluster_name, galaxy_specid)"
   ]
  },
  {
   "cell_type": "markdown",
   "id": "fce73e31-98a4-4fcb-b5a1-dc6059455f5f",
   "metadata": {},
   "source": [
    "### Note:\n",
    "If the [O II] equivalent width (ewoii) is 0 and results in a percent error of infinity, this means there is an error from the database (known issue for GOGREEN DR1, which has been fixed for the upcoming GOGREEN DR2). Therefore, use the ewoii_model to compare the estimated equivalent width to the number in the database.\n",
    "\n",
    "Overall, to recap, the cluster and galaxy dataset tables were read from GOGREEN DR1. Then, we utilized the SIA service to search for the processed image urls of our pre-selected galaxy in a cluster. The condition for the selected galaxy is that there is a .fits file in both the 1D and 2D spectrum directories. After plotting the galaxy image, we opened the .fits file using BytesIO to retrieve and convert the wavelength, flux, and variance of flux into the appropriate units. The 1D and 2D spectra show emissions lines useful to extract the galaxy's redshift, emission line equivalent widths, galaxy type, and other information. The [O II] emission line was estimated to be around 7000 to 7500 Angstroms, so we zoomed in a 100 Angstrom window around the highest emission line peak in that area. Finally, we compute a continuum subtracted spectrum, and a Gaussian1D fit to the [O II] emission line determined the amplitude, mean and standard deviation of the distribution. These three numbers are used to determine the galaxy's redshift and [O II] equivalent width, which is quite close to the GOGREEN database with a difference below five percent."
   ]
  },
  {
   "cell_type": "markdown",
   "id": "25e99223-a594-4c6c-8dde-b114e2e5fd96",
   "metadata": {},
   "source": [
    "<a class=\"anchor\" id=\"Spec9\"></a>\n",
    "# References"
   ]
  },
  {
   "cell_type": "markdown",
   "id": "306c08af-80fd-4502-ae72-30e1e31830a1",
   "metadata": {},
   "source": [
    "Notebook [Listing files in the GOGREEN DR1 Dataset](https://github.com/astro-datalab/notebooks-latest/blob/master/03_ScienceExamples/GOGREEN_GalaxiesInRichEnvironments/0_GOGREENDr1FileService.ipynb)\n",
    "\n",
    "Notebook [GOGREEN Data Release 1 data access at Astro Data Lab](https://github.com/astro-datalab/notebooks-latest/blob/master/03_ScienceExamples/GOGREEN_GalaxiesInRichEnvironments/1_GOGREENDr1DataAccessAtDataLab.ipynb)\n",
    "\n",
    "Notebook [GOGREEN DR1 at Data Lab - Simple Image Access (SIA)](https://github.com/astro-datalab/notebooks-latest/blob/master/03_ScienceExamples/GOGREEN_GalaxiesInRichEnvironments/2_GOGREENDr1SIA.ipynb)\n",
    "\n",
    "[Balogh et al. (2021)](https://ui.adsabs.harvard.edu/abs/2021MNRAS.500..358B/abstract) \"The GOGREEN and GCLASS surveys: first data release.\" MNRAS 500, 358"
   ]
  }
 ],
 "metadata": {
  "kernelspec": {
   "display_name": "conda_py311",
   "language": "python",
   "name": "conda_py311"
  },
  "language_info": {
   "codemirror_mode": {
    "name": "ipython",
    "version": 3
   },
   "file_extension": ".py",
   "mimetype": "text/x-python",
   "name": "python",
   "nbconvert_exporter": "python",
   "pygments_lexer": "ipython3",
   "version": "3.11.11"
  }
 },
 "nbformat": 4,
 "nbformat_minor": 5
}
