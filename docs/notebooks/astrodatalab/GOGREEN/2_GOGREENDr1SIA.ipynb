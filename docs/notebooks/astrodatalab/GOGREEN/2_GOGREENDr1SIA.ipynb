{
 "cells": [
  {
   "cell_type": "code",
   "execution_count": null,
   "metadata": {},
   "outputs": [],
   "source": [
    "__nbid__ = '0021'\n",
    "__author__ = 'Robert Nikutta <robert.nikutta@noirlab.edu>'\n",
    "__version__ = '20240606' # yyyymmdd\n",
    "__datasets__ = ['gogreen_dr1']\n",
    "__keywords__ = ['image cutout', 'SIA']"
   ]
  },
  {
   "cell_type": "markdown",
   "metadata": {},
   "source": [
    "# GOGREEN DR1 at Data Lab - Simple Image Access (SIA)\n",
    "\n",
    "*Author:* Robert Nikutta \\<robert.nikutta@noirlab.edu\\>\n",
    "\n",
    "This notebook demonstrates how the GOGREEN DR1 images can be queried for at Data Lab using the SIA service, and how cutouts around positions on the sky can be retrieved."
   ]
  },
  {
   "cell_type": "markdown",
   "metadata": {},
   "source": [
    "# Table of contents\n",
    "* [Disclaimer & attribution](#attribution)\n",
    "* [Imports, setup, & SIA config](#imports)\n",
    "* [Family picture of a cluster](#family)\n",
    "  * [Query the clusters catalog for information using TAP](#query-clusters)\n",
    "  * [Run a SIA query](#sia1)\n",
    "  * [Download an image](#image)\n",
    "  * [Plot the image](#plot-image)\n",
    "* [Gallery of cluster members](#gallery)\n",
    "  * [Query the photometry table for cluster member data](#query-photometry)\n",
    "  * [Calling the SIA service for individual cutouts](#sia2)\n",
    "  * [Plotting a gallery of thumbnails](#plot-gallery)"
   ]
  },
  {
   "cell_type": "markdown",
   "metadata": {},
   "source": [
    "<a class=\"anchor\" id=\"attribution\"></a>\n",
    "# Disclaimer & attribution\n",
    "\n",
    "Disclaimers\n",
    "-----------\n",
    "Note that using the Astro Data Lab constitutes your agreement with our minimal [Disclaimers](https://datalab.noirlab.edu/disclaimers.php).\n",
    "\n",
    "Acknowledgments\n",
    "---------------\n",
    "If you use **Astro Data Lab** in your published research, please include the text in your paper's Acknowledgments section:\n",
    "\n",
    "_This research uses services or data provided by the Astro Data Lab, which is part of the Community Science and Data Center (CSDC) Program of NSF NOIRLab. NOIRLab is operated by the Association of Universities for Research in Astronomy (AURA), Inc. under a cooperative agreement with the U.S. National Science Foundation._\n",
    "\n",
    "If you use **SPARCL jointly with the Astro Data Lab platform** (via JupyterLab, command-line, or web interface) in your published research, please include this text below in your paper's Acknowledgments section:\n",
    "\n",
    "_This research uses services or data provided by the SPectra Analysis and Retrievable Catalog Lab (SPARCL) and the Astro Data Lab, which are both part of the Community Science and Data Center (CSDC) Program of NSF NOIRLab. NOIRLab is operated by the Association of Universities for Research in Astronomy (AURA), Inc. under a cooperative agreement with the U.S. National Science Foundation._\n",
    "\n",
    "In either case **please cite the following papers**:\n",
    "\n",
    "* Data Lab concept paper: Fitzpatrick et al., \"The NOAO Data Laboratory: a conceptual overview\", SPIE, 9149, 2014, https://doi.org/10.1117/12.2057445\n",
    "\n",
    "* Astro Data Lab overview: Nikutta et al., \"Data Lab - A Community Science Platform\", Astronomy and Computing, 33, 2020, https://doi.org/10.1016/j.ascom.2020.100411\n",
    "\n",
    "If you are referring to the Data Lab JupyterLab / Jupyter Notebooks, cite:\n",
    "\n",
    "* Juneau et al., \"Jupyter-Enabled Astrophysical Analysis Using Data-Proximate Computing Platforms\", CiSE, 23, 15, 2021, https://doi.org/10.1109/MCSE.2021.3057097\n",
    "\n",
    "If publishing in a AAS journal, also add the keyword: `\\facility{Astro Data Lab}`\n",
    "\n",
    "And if you are using SPARCL, please also add `\\software{SPARCL}` and cite:\n",
    "\n",
    "* Juneau et al., \"SPARCL: SPectra Analysis and Retrievable Catalog Lab\", Conference Proceedings for ADASS XXXIII, 2024\n",
    "https://doi.org/10.48550/arXiv.2401.05576\n",
    "\n",
    "The NOIRLab Library maintains [lists of proper acknowledgments](https://noirlab.edu/science/about/scientific-acknowledgments) to use when publishing papers using the Lab's facilities, data, or services."
   ]
  },
  {
   "cell_type": "markdown",
   "metadata": {},
   "source": [
    "<a class=\"anchor\" id=\"imports\"></a>\n",
    "# Imports, setup and SIA config"
   ]
  },
  {
   "cell_type": "code",
   "execution_count": null,
   "metadata": {},
   "outputs": [],
   "source": [
    "# 3rd party\n",
    "import numpy as np\n",
    "from astropy.utils.data import download_file\n",
    "from astropy.io import fits\n",
    "from astropy.wcs import WCS\n",
    "\n",
    "import matplotlib\n",
    "from matplotlib.ticker import NullFormatter, NullLocator\n",
    "import pylab as plt\n",
    "plt.rcParams.update({'font.size': 16})\n",
    "\n",
    "from pyvo.dal import sia\n",
    "# this URL tells the SIA service where to find images and image metadata\n",
    "DEF_ACCESS_URL = \"https://datalab.noirlab.edu/sia/gogreen_dr1\"\n",
    "svc = sia.SIAService(DEF_ACCESS_URL)\n",
    "\n",
    "# Data Lab\n",
    "from dl import queryClient as qc"
   ]
  },
  {
   "cell_type": "markdown",
   "metadata": {},
   "source": [
    "<a class=\"anchor\" id=\"family\"></a>\n",
    "# Family picture of a cluster\n",
    "\n",
    "The SIA service can be used to query the database of meta-information about images served by the cutout service. Often the metadata are in varying degrees of completeness or correctness, but we can usually make sense of it."
   ]
  },
  {
   "cell_type": "markdown",
   "metadata": {},
   "source": [
    "<a class=\"anchor\" id=\"query-clusters\"></a>\n",
    "## Query the clusters catalog for information using TAP \n",
    "\n",
    "Let's first query the TAP service (Table Access Protocol) for information about clusters. This can be accomplished by issuing SQL queries with the Data Lab `queryClient` (imported as `qc`):"
   ]
  },
  {
   "cell_type": "code",
   "execution_count": null,
   "metadata": {},
   "outputs": [],
   "source": [
    "df = qc.query(\"select * from gogreen_dr1.clusters\",fmt='pandas')\n",
    "print(\"Shape:\", df.shape)\n",
    "print(\"Columns:\", df.columns)\n",
    "df.head(10)"
   ]
  },
  {
   "cell_type": "markdown",
   "metadata": {},
   "source": [
    "We have requested that the query result be converted on the fly to a Pandas data frame, and we have printed the data frame shape (26 rows = clusters, 39 columns), the column names, and the first 10 rows of the table."
   ]
  },
  {
   "cell_type": "markdown",
   "metadata": {},
   "source": [
    "Let's pick one cluster... How about SXDF49 ? (it has index number 7 in the table above):"
   ]
  },
  {
   "cell_type": "code",
   "execution_count": null,
   "metadata": {},
   "outputs": [],
   "source": [
    "cluster = df.iloc[7]"
   ]
  },
  {
   "cell_type": "markdown",
   "metadata": {},
   "source": [
    "<a class=\"anchor\" id=\"sia1\"></a>\n",
    "## Run a SIA query\n",
    "\n",
    "Now let's issue a SIA query to fetch information about available images that contain the coordinates of SXDF49:"
   ]
  },
  {
   "cell_type": "code",
   "execution_count": null,
   "metadata": {},
   "outputs": [],
   "source": [
    "# select FOV and the RA and Dec center coordinates for the SIA search\n",
    "fov = 1 # degrees (= 12 arcmin)\n",
    "ra, dec = cluster.ra_best, cluster.dec_best\n",
    "\n",
    "# launch the SIA search\n",
    "#imgTable = svc.search((ra,dec), (fov, fov), verbosity=2).to_table()\n",
    "imgTable = svc.search((ra,dec), (fov, fov), verbosity=2).to_table().to_pandas()\n",
    "imgTable"
   ]
  },
  {
   "cell_type": "markdown",
   "metadata": {},
   "source": [
    "Looks like we found two images within 1 degree of the RA & Dec coordinates. Of course we want the row for SXDF49 (which is the first one in the two-row table above)."
   ]
  },
  {
   "cell_type": "code",
   "execution_count": null,
   "metadata": {},
   "outputs": [],
   "source": [
    "print(cluster.cluster)  # cluster.cluster has the cluster name\n",
    "row = imgTable[imgTable['access_url'].astype(str).str.contains(cluster.cluster)]\n",
    "row"
   ]
  },
  {
   "cell_type": "markdown",
   "metadata": {},
   "source": [
    "<a class=\"anchor\" id=\"image\"></a>\n",
    "## Download an image\n",
    "\n",
    "The `access_url` field contains the URL to fetch the FITS image. We can download the file, and extract the data and header information (including the WCS):"
   ]
  },
  {
   "cell_type": "code",
   "execution_count": null,
   "metadata": {},
   "outputs": [],
   "source": [
    "url = row['access_url'][0]\n",
    "print(\"url = \",url)\n",
    "filename = download_file(url,cache=True,show_progress=False,timeout=120)\n",
    "hdu = fits.open(filename)[0]\n",
    "image = hdu.data\n",
    "wcs = WCS(hdu.header)"
   ]
  },
  {
   "cell_type": "markdown",
   "metadata": {},
   "source": [
    "<a class=\"anchor\" id=\"plot-image\"></a>\n",
    "## Plot the image\n",
    "\n",
    "We are ready to plot the image. Because of the high dynamic range, we'll scale the pixel values as an hyperbolic arcsine. We'll overplot the WCS as well."
   ]
  },
  {
   "cell_type": "code",
   "execution_count": null,
   "metadata": {},
   "outputs": [],
   "source": [
    "fig = plt.figure(figsize=(13,13))\n",
    "ax = fig.add_subplot(projection=wcs, label='overlays')\n",
    "ax.imshow(np.arcsinh(image),origin='lower',cmap='bone')\n",
    "ax.set_title(cluster.cluster)\n",
    "\n",
    "lon = ax.coords[0]\n",
    "lat = ax.coords[1]\n",
    "lon.set_major_formatter('d.ddd')\n",
    "lat.set_major_formatter('d.ddd')\n",
    "\n",
    "ax.grid(color='white', ls='solid')"
   ]
  },
  {
   "cell_type": "markdown",
   "metadata": {},
   "source": [
    "<a class=\"anchor\" id=\"gallery\"></a>\n",
    "# Gallery of cluster members\n",
    "\n",
    "Using the SIA image cutout service we can request small thumbnails (cutouts) of individual galaxies from a cluster. For this example we will again use cluster SXDF49."
   ]
  },
  {
   "cell_type": "markdown",
   "metadata": {},
   "source": [
    "<a class=\"anchor\" id=\"query-photometry\"></a>\n",
    "## Query the photometry table for cluster member data\n",
    "Let's first query the photometry catalog for data about members of SXDF49."
   ]
  },
  {
   "cell_type": "code",
   "execution_count": null,
   "metadata": {},
   "outputs": [],
   "source": [
    "dfp = qc.query(\"select * from gogreen_dr1.photo where cluster='SXDF49' order by cphotid limit 35\",fmt='pandas')\n",
    "dfp.head()"
   ]
  },
  {
   "cell_type": "markdown",
   "metadata": {},
   "source": [
    "We have asked for the first 35 members of the cluster, after sorting by `cphotid`, and have also asked for the result to be returned as a Pandas data frame."
   ]
  },
  {
   "cell_type": "markdown",
   "metadata": {},
   "source": [
    "<a class=\"anchor\" id=\"sia2\"></a>\n",
    "## Calling the SIA service for individual cutouts\n",
    "Looping over the resulting table, we can request from the SIA service small cutouts (FOV = 0.005 degrees) around each set of RA & Dec coordinates."
   ]
  },
  {
   "cell_type": "code",
   "execution_count": null,
   "metadata": {},
   "outputs": [],
   "source": [
    "n = dfp.shape[0]\n",
    "fov = 0.005\n",
    "images = []\n",
    "for j in range(n):\n",
    "    ra, dec = dfp.iloc[j].ra, dfp.iloc[j].dec\n",
    "    print(\"Querying object %2d/%d,ra = %8.4f, dec = %8.4f\" % (j+1,n,ra,dec))\n",
    "    imgTable = svc.search((ra,dec), (fov, fov), verbosity=2).to_table()\n",
    "    sel = (imgTable['prodtype'] != 'wtmap')\n",
    "    row = imgTable[sel][0]\n",
    "    url = row['access_url']\n",
    "    filename = download_file(url,cache=True,show_progress=False,timeout=120)\n",
    "    hdu = fits.open(filename)[0]\n",
    "    image = hdu.data\n",
    "    images.append(image)"
   ]
  },
  {
   "cell_type": "markdown",
   "metadata": {},
   "source": [
    "<a class=\"anchor\" id=\"plot-gallery\"></a>\n",
    "## Plotting a gallery of thumbnails\n",
    "\n",
    "With the images stored in the `images` list, we can now plot a 7x7 gallery. Above each thumbnail we will print the `cphotid` of the cluster member, and will print the photometric redshift `zphot` within each thumbnail."
   ]
  },
  {
   "cell_type": "code",
   "execution_count": null,
   "metadata": {},
   "outputs": [],
   "source": [
    "fig = plt.figure(figsize=(15,13))\n",
    "for j,img in enumerate(images):\n",
    "    ax = fig.add_subplot(5,7,j+1)\n",
    "    ax.imshow(np.arcsinh(img.T),origin='lower',cmap='bone')\n",
    "    ax.xaxis.set_major_locator(NullLocator())\n",
    "    ax.yaxis.set_major_locator(NullLocator())\n",
    "    ax.xaxis.set_major_formatter(NullFormatter())\n",
    "    ax.yaxis.set_major_formatter(NullFormatter())\n",
    "    ax.set_title(dfp['cphotid'][j])\n",
    "    ax.text(0.07,0.87,'z_phot = %g' % dfp.iloc[j]['zphot'],transform=ax.transAxes,color='w',ha='left',fontsize=12)\n",
    "\n",
    "fig.subplots_adjust(wspace=0.02,hspace=0.1)"
   ]
  },
  {
   "cell_type": "markdown",
   "metadata": {},
   "source": [
    "In every thumbnail the cluster member with `cphotid` is the object at the center of the image."
   ]
  }
 ],
 "metadata": {
  "kernelspec": {
   "display_name": "conda_py311",
   "language": "python",
   "name": "conda_py311"
  },
  "language_info": {
   "codemirror_mode": {
    "name": "ipython",
    "version": 3
   },
   "file_extension": ".py",
   "mimetype": "text/x-python",
   "name": "python",
   "nbconvert_exporter": "python",
   "pygments_lexer": "ipython3",
   "version": "3.11.11"
  }
 },
 "nbformat": 4,
 "nbformat_minor": 4
}
