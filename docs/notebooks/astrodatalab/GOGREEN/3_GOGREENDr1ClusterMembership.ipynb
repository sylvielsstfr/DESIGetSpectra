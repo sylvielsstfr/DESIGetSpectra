{
 "cells": [
  {
   "cell_type": "code",
   "execution_count": null,
   "id": "86eccc2d-f2ff-4380-b834-6f74158aeb9e",
   "metadata": {
    "tags": []
   },
   "outputs": [],
   "source": [
    "__nbid__ = '0022'\n",
    "__author__ = 'Felix Pat <felixpat10@email.arizona.edu>'\n",
    "__version__ = '20240606' # yyyymmdd; version datestamp of this notebook\n",
    "__datasets__ = ['gogreen_dr1']  # datasets used in this notebook\n",
    "__keywords__ = ['gemini llp','tap','cluster','photometry','redshift','file service','spectra','catalogues'] # keywords relevant to this notebook"
   ]
  },
  {
   "cell_type": "markdown",
   "id": "73778086-2da0-4171-adb1-811211092d0d",
   "metadata": {
    "tags": []
   },
   "source": [
    "# GOGREEN DR1: Galaxy Cluster Membership\n",
    "*Author: Felix Pat (Univ. of Arizona), Stéphanie Juneau (NOIRLab), and the Astro Data Lab Team*"
   ]
  },
  {
   "cell_type": "markdown",
   "id": "152954b6-1928-415c-8626-ac2bf8e4f0ea",
   "metadata": {},
   "source": [
    "### Table of contents\n",
    "* [Goal](#GGgoal)\n",
    "* [Summary](#GGsummary)\n",
    "* [Disclaimer & attribution](#GGdisclaimer)\n",
    "* [Imports & setup](#GGimport)\n",
    "* [Reading in catalogs from the Data Lab database](#GG0)\n",
    "* [Position of all clusters](#GG1)\n",
    "* [Cluster with the highest dynamical mass](#GG2)\n",
    "* [Position of galaxies in selected cluster](#GG3)\n",
    "* [Pick url of selected cluster image](#GG4)\n",
    "* [Plot image of galaxies in selected cluster](#GG5)\n",
    "* [References](#GG6)"
   ]
  },
  {
   "cell_type": "markdown",
   "id": "e96d0645-fe9f-4559-b01f-fbe44faf8417",
   "metadata": {},
   "source": [
    "<a class=\"anchor\" id=\"GGgoal\"></a>\n",
    "# Goal\n",
    "This notebook aims to visualize sky positions and redshifts of galaxies as a function of their cluster membership."
   ]
  },
  {
   "cell_type": "markdown",
   "id": "63698e5f-7043-4148-be81-805932edf5df",
   "metadata": {},
   "source": [
    "<a class=\"anchor\" id=\"GGsummary\"></a>\n",
    "# Summary\n",
    "This notebook demonstrates how to generally read data tables, project cluster positions onto a full-sky Mollweide projection, select the cluster with the highest dynamical mass (traced by the velocity dispersion), and plot the galaxy positions color-coded by redshift and separated by cluster membership."
   ]
  },
  {
   "cell_type": "markdown",
   "id": "eeb45f4d-4c90-4b2b-9c06-6b7e2ede9135",
   "metadata": {},
   "source": [
    "<a class=\"anchor\" id=\"GGdisclaimer\"></a>\n",
    "# Disclaimer & attribution\n",
    "\n",
    "Disclaimers\n",
    "-----------\n",
    "Note that using the Astro Data Lab constitutes your agreement with our minimal [Disclaimers](https://datalab.noirlab.edu/disclaimers.php).\n",
    "\n",
    "Acknowledgments\n",
    "---------------\n",
    "If you use **Astro Data Lab** in your published research, please include the text in your paper's Acknowledgments section:\n",
    "\n",
    "_This research uses services or data provided by the Astro Data Lab, which is part of the Community Science and Data Center (CSDC) Program of NSF NOIRLab. NOIRLab is operated by the Association of Universities for Research in Astronomy (AURA), Inc. under a cooperative agreement with the U.S. National Science Foundation._\n",
    "\n",
    "If you use **SPARCL jointly with the Astro Data Lab platform** (via JupyterLab, command-line, or web interface) in your published research, please include this text below in your paper's Acknowledgments section:\n",
    "\n",
    "_This research uses services or data provided by the SPectra Analysis and Retrievable Catalog Lab (SPARCL) and the Astro Data Lab, which are both part of the Community Science and Data Center (CSDC) Program of NSF NOIRLab. NOIRLab is operated by the Association of Universities for Research in Astronomy (AURA), Inc. under a cooperative agreement with the U.S. National Science Foundation._\n",
    "\n",
    "In either case **please cite the following papers**:\n",
    "\n",
    "* Data Lab concept paper: Fitzpatrick et al., \"The NOAO Data Laboratory: a conceptual overview\", SPIE, 9149, 2014, https://doi.org/10.1117/12.2057445\n",
    "\n",
    "* Astro Data Lab overview: Nikutta et al., \"Data Lab - A Community Science Platform\", Astronomy and Computing, 33, 2020, https://doi.org/10.1016/j.ascom.2020.100411\n",
    "\n",
    "If you are referring to the Data Lab JupyterLab / Jupyter Notebooks, cite:\n",
    "\n",
    "* Juneau et al., \"Jupyter-Enabled Astrophysical Analysis Using Data-Proximate Computing Platforms\", CiSE, 23, 15, 2021, https://doi.org/10.1109/MCSE.2021.3057097\n",
    "\n",
    "If publishing in a AAS journal, also add the keyword: `\\facility{Astro Data Lab}`\n",
    "\n",
    "And if you are using SPARCL, please also add `\\software{SPARCL}` and cite:\n",
    "\n",
    "* Juneau et al., \"SPARCL: SPectra Analysis and Retrievable Catalog Lab\", Conference Proceedings for ADASS XXXIII, 2024\n",
    "https://doi.org/10.48550/arXiv.2401.05576\n",
    "\n",
    "The NOIRLab Library maintains [lists of proper acknowledgments](https://noirlab.edu/science/about/scientific-acknowledgments) to use when publishing papers using the Lab's facilities, data, or services."
   ]
  },
  {
   "cell_type": "markdown",
   "id": "d5c9e19f-d33b-4d47-996d-1df3ae94a0e8",
   "metadata": {},
   "source": [
    "<a class=\"anchor\" id=\"GGimport\"></a>\n",
    "# Imports and setup"
   ]
  },
  {
   "cell_type": "code",
   "execution_count": null,
   "id": "3f24c5bc-fda1-479a-b897-3f444589cd0c",
   "metadata": {
    "tags": []
   },
   "outputs": [],
   "source": [
    "# std lib\n",
    "import re\n",
    "import operator\n",
    "\n",
    "# 3rd party\n",
    "import numpy as np\n",
    "import pandas as pd\n",
    "pd.set_option('display.max_columns', 500) # prevent overflow of columns\n",
    "import matplotlib.pyplot as plt\n",
    "from matplotlib import colors\n",
    "plt.rcParams['font.size'] = 14 # increase plots' texts size\n",
    "from pyvo.dal import sia\n",
    "from IPython.display import display_html\n",
    "\n",
    "import astropy.coordinates as coord\n",
    "import astropy.units as u\n",
    "from astropy.io import fits, ascii\n",
    "from astropy import units as u\n",
    "from astropy.cosmology import FlatLambdaCDM\n",
    "from astropy.utils.data import download_file\n",
    "from astropy.wcs import WCS\n",
    "\n",
    "# Data Lab\n",
    "from dl import queryClient as qc, storeClient as sc"
   ]
  },
  {
   "cell_type": "code",
   "execution_count": null,
   "id": "5c44721d-2442-44f5-ad40-d31fb9776c23",
   "metadata": {
    "tags": []
   },
   "outputs": [],
   "source": [
    "# define cosmology\n",
    "cosmo = FlatLambdaCDM(H0=70, Om0=0.3) \n",
    "# this URL tells the SIA service where to find images and image metadata\n",
    "DEF_ACCESS_URL = \"https://datalab.noirlab.edu/sia/gogreen_dr1\"\n",
    "svc = sia.SIAService(DEF_ACCESS_URL)"
   ]
  },
  {
   "cell_type": "markdown",
   "id": "80a6d69d-7019-4a21-ba13-c6fab3a2ad75",
   "metadata": {},
   "source": [
    "<a class=\"anchor\" id=\"GG0\"></a>\n",
    "# Reading in main tables\n",
    "The full GOGREEN dataset can be found [here](https://datalab.noirlab.edu/gogreendr1/index.php) under the 'Data Access' tab. The first portion of this notebook will rely on information available for all clusters from the 'clusters_table' and information for the galaxies from the 'redshift_table.' Since we do not need all of the photometry/images, we will only retrieve them as needed. \n",
    "\n",
    "We can use the `globals()` function to dynamically create variables. [Globals()](https://docs.python.org/3/library/functions.html#globals) returns the dictionary implementing the current module namespace. For code within functions, this is set when the function is defined and remains the same regardless of where the function is called."
   ]
  },
  {
   "cell_type": "code",
   "execution_count": null,
   "id": "0c4e2837-594b-4d24-bb20-560332c017ba",
   "metadata": {
    "tags": []
   },
   "outputs": [],
   "source": [
    "dataset = 'gogreen_dr1.'\n",
    "tables = ['clusters', 'redshift']\n",
    "\n",
    "for table in tables:\n",
    "    globals()['%s_table'%table] = qc.query('select * from %s%s' % (dataset, table), fmt = 'pandas')\n",
    "    print(\"%s table\" %table)\n",
    "    display_html(globals()[('%s_table'%table)].head(5))"
   ]
  },
  {
   "cell_type": "markdown",
   "id": "f1d8fab2-5cf2-41dc-b5d1-a8a3a311d648",
   "metadata": {},
   "source": [
    "<a class=\"anchor\" id=\"GG1\"></a>\n",
    "# Position of GOGREEN clusters on the full sky\n",
    "First, we need to plot the positions (RA, DEC) in the clusters_table. The projection used is Mollweide, which is an [\"equal-area, pseudocylindrical map projection\"](https://en.wikipedia.org/wiki/Mollweide_projection)."
   ]
  },
  {
   "cell_type": "code",
   "execution_count": null,
   "id": "042c8f78-43de-4dc2-9a14-5e77d8177bc9",
   "metadata": {
    "tags": []
   },
   "outputs": [],
   "source": [
    "def allclusters_mollweide(clusters_table, ax, cluster_of_interest=None):\n",
    "    \"\"\"\n",
    "    Retrieve the positions (RA, DEC) of clusters in dataset to plot them on a mollweide projection.\n",
    "\n",
    "    Parameters\n",
    "    ----------\n",
    "    clusters_table : pandas dataframe\n",
    "    Data table for all clusters\n",
    "\n",
    "    ax : class matplotlib.axes.Axes\n",
    "    Plots the data\n",
    "    \n",
    "    cluster_of_interest : pandas series as bool\n",
    "    Used as an index for pulling specific row(s) for selected cluster\n",
    "\n",
    "    Returns\n",
    "    -------\n",
    "    None\n",
    "    \"\"\"    \n",
    "    # set RA and DEC to units of degrees\n",
    "    clusters_table.ra_best = clusters_table.ra_best - 180 #set RA range to (-180, 180)\n",
    "    #ra = coord.Angle(clusters_table['ra_best']*u.degree)\n",
    "    ra = coord.Angle(clusters_table['ra_best'].values*u.degree)\n",
    "    ra = ra.wrap_at(180*u.degree) # make the plot 'continuous' at 180 degrees\n",
    "    #dec = coord.Angle(clusters_table['dec_best']*u.degree)\n",
    "    dec = coord.Angle(clusters_table['dec_best'].values*u.degree)\n",
    "    \n",
    "    #plot the position projection\n",
    "    ln = ax.scatter(ra.radian, dec.radian,c=clusters_table.redshift, lw=0, cmap='turbo')\n",
    "    fig.colorbar(ln, fraction=.02, pad=0.04, label='redshift')\n",
    "    if cluster_of_interest is not None:\n",
    "        ra = coord.Angle(clusters_table.ra_best[cluster_of_interest]*u.degree)\n",
    "        ra = ra.wrap_at(180*u.degree)\n",
    "        dec = coord.Angle(clusters_table.dec_best[cluster_of_interest]*u.degree)\n",
    "        ax.scatter(ra.radian, dec.radian, s=150, facecolors='black', marker=(5, 1))# plot a star symbol at the cluster of interest position\n",
    "    plt.title(\"Position of GOGREEN Galaxy Clusters Color-Coded by Redshift\")\n",
    "    plt.xlabel(\"RA (deg)\")\n",
    "    plt.ylabel(\"DEC (deg)\")\n",
    "    plt.grid(True)\n",
    "    ax.set_aspect(0.5) #set proportion of plot to scale of axes\n",
    "    plt.show()\n",
    "    clusters_table.ra_best = clusters_table.ra_best + 180 #reset RA values\n",
    "    \n",
    "    # print number of clusters for information\n",
    "    print(' ')\n",
    "    print(f'There are {len(clusters_table)} galaxy clusters on the panel.')"
   ]
  },
  {
   "cell_type": "code",
   "execution_count": null,
   "id": "7a4ecd07-2542-43ae-adc7-0c3210d45c7c",
   "metadata": {
    "tags": []
   },
   "outputs": [],
   "source": [
    "fig = plt.figure(figsize=(12,10))\n",
    "ax = fig.add_subplot(111, projection=\"mollweide\")\n",
    "allclusters_mollweide(clusters_table, ax);"
   ]
  },
  {
   "cell_type": "markdown",
   "id": "6eb4caa4-83c0-433f-8623-6c6d371c50f9",
   "metadata": {},
   "source": [
    "There are 26 galaxy clusters in this dataset, and they sometimes appear as distributed closely on the sky. However, the redshift colorbar indicates this 2D projection is not necessarily indicative to how close the clusters are to each other in space."
   ]
  },
  {
   "cell_type": "markdown",
   "id": "925706d4-5f18-4d99-ac93-b6d313f47715",
   "metadata": {},
   "source": [
    "<a class=\"anchor\" id=\"GG2\"></a>\n",
    "# Select cluster with the highest dynamical mass\n",
    "In this example, the galaxy cluster with the highest velocity dispersion (`vdisp`) is selected as a proxy for the cluster with the highest dynamical mass. In astronomy, the [velocity dispersion (σ)](https://en.wikipedia.org/wiki/Velocity_dispersion) is the statistical dispersion of velocities about the mean velocity for a group of astronomical objects, such as an open cluster, globular cluster, galaxy, galaxy cluster, or supercluster. By measuring the radial velocities of the group's members through astronomical spectroscopy, the velocity dispersion of that group can be estimated and used to derive the group's mass from the virial theorem. \n",
    "\n",
    "The black star indicates the position of the selected cluster. In subsequent plots, the black star represents the mean position of all galaxies identified as a member of the cluster."
   ]
  },
  {
   "cell_type": "code",
   "execution_count": null,
   "id": "7fb65059-e652-48b1-9551-6095713a04ad",
   "metadata": {
    "tags": []
   },
   "outputs": [],
   "source": [
    "def select_cluster(clusters_table):\n",
    "    \"\"\"\n",
    "    Returns pandas series as bool, index, and name of selected cluster.\n",
    "\n",
    "    Parameters\n",
    "    ----------\n",
    "    clusters_table : pandas dataframe\n",
    "    Data table for all clusters\n",
    "\n",
    "    Returns\n",
    "    -------\n",
    "    cluster_of_interest : pandas series as bool\n",
    "    Used as an index for pulling specific row(s) for selected cluster\n",
    "    \n",
    "    index_num : int\n",
    "    Index of selected cluster\n",
    "    \n",
    "    select_name : string\n",
    "    Name of selected cluster\n",
    "    \"\"\"\n",
    "    # select the cluster with the highest velocity dispersion\n",
    "    cluster_of_interest = clusters_table.vdisp == np.nanmax(clusters_table.vdisp)\n",
    "    for i in range(len(cluster_of_interest)):\n",
    "        if cluster_of_interest[i]==True:\n",
    "            print(\"index =\", i)\n",
    "            index_num = i\n",
    "    select_ra = clusters_table.ra_best[index_num]\n",
    "    select_dec = clusters_table.dec_best[index_num]\n",
    "    select_name = clusters_table.cluster[index_num]\n",
    "    print(\"RA = %f, DEC = %f\" %(select_ra, select_dec))\n",
    "    print(select_name)\n",
    "    \n",
    "    return (cluster_of_interest, index_num, select_name)"
   ]
  },
  {
   "cell_type": "code",
   "execution_count": null,
   "id": "72380463-0fbe-474b-bae6-345e07636f6a",
   "metadata": {
    "tags": []
   },
   "outputs": [],
   "source": [
    "cluster_of_interest, index_num, selection = select_cluster(clusters_table)"
   ]
  },
  {
   "cell_type": "code",
   "execution_count": null,
   "id": "29c001d8-4165-46da-836d-6aef4f1ff5c5",
   "metadata": {
    "tags": []
   },
   "outputs": [],
   "source": [
    "fig = plt.figure(figsize=(12,10))\n",
    "ax = fig.add_subplot(111, projection=\"mollweide\")\n",
    "allclusters_mollweide(clusters_table, ax, cluster_of_interest=index_num);"
   ]
  },
  {
   "cell_type": "markdown",
   "id": "7150472a-018b-4b9d-8c4e-41db0f314150",
   "metadata": {},
   "source": [
    "<a class=\"anchor\" id=\"GG3\"></a>\n",
    "# Position of galaxies of selected cluster separated by redshift\n",
    "Now, we plot the positions of the galaxies in the cluster of interest. The first plot shows all galaxies color coded by redshift. The next two plots separates the galaxies by nonmember and member galaxies respectively with the same redshift color coding. Please note the position values of the x-axis (RA) is descending left to right to project East to the left and West to the right."
   ]
  },
  {
   "cell_type": "code",
   "execution_count": null,
   "id": "dbc2c670-dd32-43ef-9a6d-b84981fac5d1",
   "metadata": {
    "tags": []
   },
   "outputs": [],
   "source": [
    "def cluster_galaxies(index_num, name, cluster_table, redshift_table):\n",
    "    \"\"\"\n",
    "    Retrieve the positions (RA, Dec) of all galaxies in selected cluster and plot them by nonmember or member status\n",
    "    with redshift color coding.\n",
    "\n",
    "    Parameters\n",
    "    ----------\n",
    "    index_num : int\n",
    "    Index of selected cluster\n",
    "    \n",
    "    name : string\n",
    "    Name of selected cluster\n",
    "    \n",
    "    clusters_table : pandas dataframe\n",
    "    Data table for all clusters\n",
    "    \n",
    "    redshift_table : pandas dataframe\n",
    "    Data table for all galaxies\n",
    "\n",
    "    Returns\n",
    "    -------\n",
    "    None\n",
    "    \"\"\"\n",
    "    # select galaxy pandas dataframe for selected cluster name\n",
    "    keep_galaxy_name = redshift_table.cluster == name\n",
    "    cluster_candidates = redshift_table[keep_galaxy_name]\n",
    "    display_html(cluster_candidates.head(5))\n",
    "    \n",
    "    # column with cluster membership information\n",
    "    member = cluster_candidates.member\n",
    "        \n",
    "    criteria = [member>=-1, member==-1, member==0, member==1]\n",
    "    plot_titles_list = ['Position of all galaxies in %s cluster'%name, \\\n",
    "                      'Position of undetermined galaxies in %s cluster'%name, \\\n",
    "                      'Position of nonmember galaxies in %s cluster'%name, \\\n",
    "                      'Position of member galaxies in %s cluster'%name] #list of plot title names\n",
    "    for i, plot_selection in enumerate(criteria):\n",
    "                \n",
    "        #make boolean True/False lists for each criteria\n",
    "        criterion_boolean_list = criteria[i]\n",
    "\n",
    "        galaxy_ra, galaxy_dec, galaxy_redshift = cluster_candidates.ra[criterion_boolean_list], \\\n",
    "                                                         cluster_candidates.dec[criterion_boolean_list], \\\n",
    "                                                         cluster_candidates.redshift[criterion_boolean_list]\n",
    "        \n",
    "        if len(galaxy_ra)==0:\n",
    "            continue\n",
    "        else:\n",
    "            # plot the positions of the galaxies in cluster color coded by redshift\n",
    "            fig, ax = plt.subplots(figsize=(11, 9))\n",
    "            ln = ax.scatter(galaxy_ra,galaxy_dec,s=40,c=galaxy_redshift,lw=0,cmap='turbo',vmin=np.nanmin(cluster_candidates.redshift),vmax=np.nanmax(cluster_candidates.redshift))\n",
    "            ax.scatter(cluster_table.ra_best[index_num],cluster_table.dec_best[index_num],s=150,facecolors='none',edgecolors='k',marker=(5, 1)) #center of cluster\n",
    "            \n",
    "            ra = cluster_candidates.ra\n",
    "            dec = cluster_candidates.dec\n",
    "            diffx = np.ptp(ra)/8\n",
    "            diffy = np.ptp(dec)/8\n",
    "            ax.set_xlim(np.nanmax(ra)+diffx, np.nanmin(ra)-diffx) # set x-axis (RA) to descending from left to right\n",
    "            ax.set_ylim(np.nanmin(dec)-diffy, np.nanmax(dec)+diffy)\n",
    "            plt.title(plot_titles_list[i])\n",
    "            plt.xlabel(\"RA (deg)\")\n",
    "            plt.ylabel(\"DEC (deg)\")\n",
    "            fig.colorbar(ln,ax=ax, label='redshift')"
   ]
  },
  {
   "cell_type": "code",
   "execution_count": null,
   "id": "7f6abb8f-9b65-4605-8ee4-463b39771e0d",
   "metadata": {
    "tags": []
   },
   "outputs": [],
   "source": [
    "cluster_galaxies(index_num,selection,clusters_table,redshift_table)"
   ]
  },
  {
   "cell_type": "markdown",
   "id": "8c6ff755-332a-49d7-b924-03b00b19e68a",
   "metadata": {},
   "source": [
    "We can see the redshift of all galaxies vary in the first plot. Then, by separating the galaxies to members and nonmembers, we can see galaxies identified as members all have a similar redshift, which makes sense if they are part of the same cluster. However, galaxies of the similar redshift values are also found in the nonmembers plot, so redshift is not the only variable considered when making the decision."
   ]
  },
  {
   "cell_type": "markdown",
   "id": "b97934d6-d01d-484d-9c39-c55e21894c73",
   "metadata": {},
   "source": [
    "<a class=\"anchor\" id=\"GG4\"></a>\n",
    "# Choose an image of the selected cluster\n",
    "Now that we know what the positions of the galaxies are in the selected cluster, let's compare the previous plots to a processed image. First, return all available image urls by calling the SIA service. Specific types of filters and images can be excluded, and in this case, 'mask' images are excluded."
   ]
  },
  {
   "cell_type": "code",
   "execution_count": null,
   "id": "aa406d32-5352-4dd5-8b96-78dab58d2e85",
   "metadata": {
    "tags": []
   },
   "outputs": [],
   "source": [
    "def choose_image(index_num, name, clusters_table, redshift_table):\n",
    "    \"\"\"\n",
    "    Return image urls of varying origins and filters in selected cluster excluding masks in a pandas dataframe.\n",
    "\n",
    "    Parameters\n",
    "    ----------\n",
    "    index_num : int\n",
    "    Index of selected cluster\n",
    "    \n",
    "    name : string\n",
    "    Name of selected cluster\n",
    "    \n",
    "    clusters_table : pandas dataframe\n",
    "    Data table for all clusters\n",
    "    \n",
    "    redshift_table : pandas dataframe\n",
    "    Data table for all galaxies\n",
    "\n",
    "    Returns\n",
    "    -------\n",
    "    row : pandas dataframe\n",
    "    Data table for image urls of selected cluster\n",
    "    \n",
    "    copy_cluster : pandas dataframe\n",
    "    Data table pulled from clusters_table with only the selected cluster\n",
    "    \"\"\"\n",
    "    # select clusters pandas dataframe for selected cluster index\n",
    "    copy_cluster = clusters_table.iloc[index_num] \n",
    "    fov = 1 # degrees (= 12 arcmin)\n",
    "    ra, dec = copy_cluster.ra_best, copy_cluster.dec_best\n",
    "    print(\"%s cluster RA = %f, DEC = %f\" %(name,ra,dec))\n",
    "    imgTable = svc.search((ra,dec), (fov, fov), verbosity=2).to_table().to_pandas()\n",
    "    print(\"All images in area\")\n",
    "    display_html(imgTable.head())\n",
    "    \n",
    "    #split name by its letter [0] and numbers [1] and match case-insensitive url\n",
    "    split_name = re.split('(\\d+)',name)\n",
    "    row = pd.DataFrame()\n",
    "    for i in range(len(imgTable.access_url)):\n",
    "        \n",
    "        if split_name[0].lower() in imgTable.access_url[i].lower() \\\n",
    "        and split_name[1] in imgTable.access_url[i] \\\n",
    "        and 'mask' not in imgTable.access_url[i].lower():\n",
    "            \n",
    "            data = (imgTable.iloc[[i],:])\n",
    "            row = pd.concat((row,data))\n",
    "            \n",
    "    print(\"Images of selected cluster excluding masks\")\n",
    "    display_html(row.head())\n",
    "    \n",
    "    #print all available urls in row dataframe\n",
    "    for i in range(np.nanmax(row.index)+1): \n",
    "        if i not in row.index:\n",
    "            continue\n",
    "        else:\n",
    "            print(i,row.access_url[i])\n",
    "    return (row, copy_cluster)"
   ]
  },
  {
   "cell_type": "code",
   "execution_count": null,
   "id": "b10a6aba-0e79-4e8d-b08e-ae1ae5d3bb4c",
   "metadata": {
    "tags": []
   },
   "outputs": [],
   "source": [
    "row, copy_cluster=choose_image(index_num, selection, clusters_table, redshift_table)"
   ]
  },
  {
   "cell_type": "markdown",
   "id": "31874f21-e16b-45e7-858f-66820bc8d971",
   "metadata": {},
   "source": [
    "The user can either pick a url from the list above, or they can automatically retrieve a Hubble Space Telescope image if it is available. If there is no Hubble image, the automatic option will return the first url in the pandas dataframe."
   ]
  },
  {
   "cell_type": "code",
   "execution_count": null,
   "id": "017e708c-d220-49b5-8f6f-3cd8c59c66c8",
   "metadata": {},
   "outputs": [],
   "source": [
    "def return_image_numpy(row, index):\n",
    "    \"\"\"\n",
    "    Returns the image pixel numpy array, image coordinate system, and Hubble indicator from the image url and .fits file.\n",
    "\n",
    "    Parameters\n",
    "    ----------\n",
    "    row : pandas dataframe\n",
    "    Data table for image urls of selected cluster\n",
    "    \n",
    "    index : int\n",
    "    Index argument passed as Hubble image index, first image available, or user_pick_index\n",
    "\n",
    "    Returns\n",
    "    -------\n",
    "    image : numpy array of float\n",
    "    Pixel data for the image\n",
    "    \n",
    "    wcs : class astropy.wcs.wcs.WCS\n",
    "    Used as an argument for transforming the position into World Coordinates System\n",
    "    \n",
    "    Hubble : int\n",
    "    Used to specify image reshaping to fit entire plot\n",
    "    \"\"\"\n",
    "    url = row['access_url'][index]\n",
    "    filename = download_file(url,cache=True,show_progress=False,timeout=120)\n",
    "    hdu = fits.open(filename)[0]\n",
    "    image = hdu.data\n",
    "    wcs = WCS(hdu.header)\n",
    "    print(\"index = %i, url = %s\" %(index, row.access_url[index]))\n",
    "    if 'HST' in row.access_url[index]:\n",
    "        Hubble = 1\n",
    "    else:\n",
    "        Hubble = 0\n",
    "        \n",
    "    return (image, wcs, Hubble)"
   ]
  },
  {
   "cell_type": "code",
   "execution_count": null,
   "id": "d43be649-7632-4da2-ba6e-158e749e9498",
   "metadata": {
    "tags": []
   },
   "outputs": [],
   "source": [
    "def pick_url(row, user_pick_index=None):\n",
    "    \"\"\"\n",
    "    Automatically prioritizes a Hubble image url in table and returns the index, url, and Hubble = 1 indicator (for plotting purposes).\n",
    "    If a Hubble image is not found, return the first available index, url, and Hubble = 0 indicator. User can input an index for manual picking.\n",
    "\n",
    "    Parameters\n",
    "    ----------\n",
    "    row : pandas dataframe\n",
    "    Data table for image urls of selected cluster\n",
    "    \n",
    "    user_pick_index : int\n",
    "    User's choice of image from the list of available indices above\n",
    "\n",
    "    Returns\n",
    "    -------\n",
    "    image : numpy array of float\n",
    "    Pixel data for the image\n",
    "    \n",
    "    wcs : class astropy.wcs.wcs.WCS\n",
    "    Used as an argument for transforming the position into World Coordinates System\n",
    "    \n",
    "    Hubble : int\n",
    "    Used to specify image reshaping to fit entire plot\n",
    "    \"\"\"\n",
    "    wcs = None\n",
    "    Hubble = 0\n",
    "    #pick image\n",
    "    if user_pick_index==None:\n",
    "        for j in range(0, np.nanmax(row.index)+1):\n",
    "            if j not in row.index:\n",
    "                continue\n",
    "\n",
    "            elif 'F140W' in row.access_url[j] and 'sci' in row.access_url[j]: #prioritize hubble image\n",
    "                image, wcs, Hubble = return_image_numpy(row,j)\n",
    "\n",
    "            elif j==(np.nanmax(row.index)) and wcs==None: #else choose first available matched image\n",
    "                image, wcs, Hubble = return_image_numpy(row,np.nanmin(row.index))\n",
    "    else:\n",
    "        if user_pick_index not in row.index:\n",
    "            print(\"Index not found in image table; please select from these options:\", row.index)\n",
    "            return 0, 0, 0\n",
    "\n",
    "        image, wcs, Hubble = return_image_numpy(row,user_pick_index)\n",
    "    \n",
    "    return (image, wcs, Hubble)"
   ]
  },
  {
   "cell_type": "code",
   "execution_count": null,
   "id": "263dc427-14a8-406b-92ab-b8ce124926ef",
   "metadata": {
    "tags": []
   },
   "outputs": [],
   "source": [
    "image, wcs, Hubble=pick_url(row)"
   ]
  },
  {
   "cell_type": "markdown",
   "id": "9e683b88-6807-4101-8ead-fd8613b1096a",
   "metadata": {},
   "source": [
    "<a class=\"anchor\" id=\"GG5\"></a>\n",
    "# Display image of selected cluster\n",
    "Retrieve a processed image of the cluster of interest based on the position (RA, DEC), and the expected picture should include the galaxies in the cluster field of view. We will highlight their expected positions with overlays. When plotting processed images, each image has a different pixel contrast range and composition indicated by the print out statement. The contrast (vbot, vtop) for the Hubble image and the first available index image has been determined, but plotting any other indices will rely on the user to play around with the contrast parameters."
   ]
  },
  {
   "cell_type": "code",
   "execution_count": null,
   "id": "632bac8d-ba5d-4128-8e16-f9846c9852f8",
   "metadata": {
    "tags": []
   },
   "outputs": [],
   "source": [
    "def display_image(image, wcs, Hubble, name, copy_cluster, redshift_table):\n",
    "    \"\"\"\n",
    "    Plots the selected processed image and outlines the galaxies by nonmember or member color coding.\n",
    "\n",
    "    Parameters\n",
    "    ----------\n",
    "    image : numpy array of float\n",
    "    Pixel data for the image\n",
    "    \n",
    "    wcs : class astropy.wcs.wcs.WCS\n",
    "    Used as an argument for transforming the position into World Coordinates System\n",
    "    \n",
    "    Hubble : int\n",
    "    Used to specify image reshaping to fit entire plot\n",
    "    \n",
    "    name : string\n",
    "    Name of the selected cluster\n",
    "    \n",
    "    copy_cluster : pandas dataframe\n",
    "    Data table pulled from clusters_table with only the selected cluster\n",
    "    \n",
    "    redshift_table : pandas dataframe\n",
    "    Data table for all galaxies\n",
    "\n",
    "    Returns\n",
    "    -------\n",
    "    None\n",
    "    \"\"\"\n",
    "    print(\"image coloring contrast min = %f, max = %f, median = %f\" %(np.nanmin(image),np.nanmax(image),np.median(image)))\n",
    "    \n",
    "    #display image\n",
    "    fig = plt.figure(figsize=(13,13))\n",
    "    ax = fig.add_subplot(projection=wcs, label='overlays')\n",
    "    vrange = np.nanmax(image)-np.nanmin(image)\n",
    "    vbot = np.nanmin(image)+.00085*vrange #change percentage as needed\n",
    "    vtop = np.nanmin(image)+.05*vrange #change percentage as needed\n",
    "    if Hubble==1:\n",
    "        vbot = np.nanmin(image)+0.00012*vrange #change percentage as needed\n",
    "        vtop = np.nanmin(image)+0.0005*vrange #change percentage as needed\n",
    "    ax.imshow(np.arcsinh(image),origin='lower',cmap='bone',vmin=np.arcsinh(vbot),vmax=np.arcsinh(vtop))\n",
    "    ax.set_title(copy_cluster.cluster)\n",
    "\n",
    "    lon = ax.coords[0]\n",
    "    lat = ax.coords[1]\n",
    "    lon.set_major_formatter('d.ddd')\n",
    "    lat.set_major_formatter('d.ddd')\n",
    "\n",
    "    ax.grid(color='white', ls='solid')\n",
    "    \n",
    "    #overlay memeber and nonmember circles\n",
    "    quote_name = f'\"{name}\"'\n",
    "    requirement = 'cluster==%s'%quote_name\n",
    "    rax, decy, mem = redshift_table.query(requirement)[['ra','dec','member']].values.T\n",
    "    ax.scatter(rax,decy,transform=ax.get_transform('world'),s=100,fc='none',edgecolors='magenta',label='nonmember') \n",
    "    ax.scatter(rax[mem==1],decy[mem==1],transform=ax.get_transform('world'),s=100,fc='none',edgecolors='cyan',label='member')\n",
    "    if Hubble==1:\n",
    "        plt.ylim(0, image.shape[0])\n",
    "        plt.xlim(0, image.shape[1])\n",
    "    plt.legend(loc=\"upper left\")"
   ]
  },
  {
   "cell_type": "code",
   "execution_count": null,
   "id": "2403d663-d33c-4767-b20b-4d4f2c05df78",
   "metadata": {
    "tags": []
   },
   "outputs": [],
   "source": [
    "display_image(image, wcs, Hubble, selection, copy_cluster, redshift_table)"
   ]
  },
  {
   "cell_type": "markdown",
   "id": "a55dce05-27d0-434a-8938-d1c60f539408",
   "metadata": {},
   "source": [
    "As expected, the processed image aligns with the positions outlined by the database. Some galaxies appear faint, while there are two bright galaxies close to the central region. For galaxies within the image footprint, the overlay circles mark which of them are members (in cyan) or nonmembers (in magenta).\n",
    "\n",
    "Overall, to recap, the cluster and galaxy dataset tables were read from GOGREEN DR1. Then, we selected a specific cluster with the highest dynamical mass based on the highest velocity dispersion as a case example. One way to visualize the cluster membership status was to plot the nonmember and member galaxies separately, color-coded by redshift. The member galaxies all have similar redshifts by definition and are assumed to be in a gravitationally bound cluster (e.g., moving together as a group away from us as the universe is expanding). Finally, we utilized the SIA service to search for the processed image urls, and the default Hubble image shows that we are able to match the dataset to the images correctly."
   ]
  },
  {
   "cell_type": "markdown",
   "id": "7541eea3-6e02-4e70-af35-73176e76e4be",
   "metadata": {},
   "source": [
    "<a class=\"anchor\" id=\"GG6\"></a>\n",
    "# References"
   ]
  },
  {
   "cell_type": "markdown",
   "id": "ae1543df-56e0-40c7-af15-52ff90bfa593",
   "metadata": {},
   "source": [
    "[Wikipedia contributors.](https://en.wikipedia.org/wiki/Mollweide_projection) \"Mollweide projection.\" Wikipedia, The Free Encyclopedia. Wikipedia, The Free Encyclopedia, 23 Feb. 2022. Web.\n",
    "\n",
    "[Wikipedia contributors.](https://en.wikipedia.org/wiki/Velocity_dispersion) \"Velocity dispersion.\" Wikipedia, The Free Encyclopedia. Wikipedia, The Free Encyclopedia, 25 Jun. 2022. Web.\n",
    "\n",
    "Notebook [GOGREEN Data Release 1 data access at Astro Data Lab.](https://github.com/astro-datalab/notebooks-latest/blob/master/03_ScienceExamples/GOGREEN_GalaxiesInRichEnvironments/1_GOGREENDr1DataAccessAtDataLab.ipynb)\n",
    "\n",
    "Notebook [GOGREEN DR1 at Data Lab - Simple Image Access (SIA).](https://github.com/astro-datalab/notebooks-latest/blob/master/03_ScienceExamples/GOGREEN_GalaxiesInRichEnvironments/2_GOGREENDr1SIA.ipynb)\n",
    "\n",
    "[Balogh et al. (2021)](https://ui.adsabs.harvard.edu/abs/2021MNRAS.500..358B/abstract) \"The GOGREEN and GCLASS surveys: first data release.\" MNRAS 500, 358"
   ]
  }
 ],
 "metadata": {
  "kernelspec": {
   "display_name": "conda_py311",
   "language": "python",
   "name": "conda_py311"
  },
  "language_info": {
   "codemirror_mode": {
    "name": "ipython",
    "version": 3
   },
   "file_extension": ".py",
   "mimetype": "text/x-python",
   "name": "python",
   "nbconvert_exporter": "python",
   "pygments_lexer": "ipython3",
   "version": "3.11.11"
  }
 },
 "nbformat": 4,
 "nbformat_minor": 5
}
