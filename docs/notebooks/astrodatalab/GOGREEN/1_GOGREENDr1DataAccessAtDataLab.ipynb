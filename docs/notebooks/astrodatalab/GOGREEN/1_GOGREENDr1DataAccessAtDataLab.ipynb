{
 "cells": [
  {
   "cell_type": "code",
   "execution_count": null,
   "metadata": {},
   "outputs": [],
   "source": [
    "__nbid__ = '0020'\n",
    "__author__ = 'Michael Balogh <mbalogh@uwaterloo.ca>, Robert Nikutta <robert.nikutta@noirlab.edu>'\n",
    "__version__ = '20240606' # yyymmdd\n",
    "__datasets__ = ['gogreen_dr1']\n",
    "__keywords__ = ['gemini llp','tap','cluster','photometry','redshift','file service','spectra','catalogues']"
   ]
  },
  {
   "cell_type": "markdown",
   "metadata": {},
   "source": [
    "# GOGREEN Data Release 1 data access at Astro Data Lab\n",
    "\n",
    "*Authors:* Michael Balogh (GOGREEN) \\<mbalogh@uwaterloo.ca\\>, Robert Nikutta (Astro Data Lab) \\<robert.nikutta@noirlab.edu\\>\n",
    "\n",
    "This notebook is adapted from the original version produced by the GOGREEN survey team. The original can be found in `Scripts/DR1_Notebook.ipynb`.\n",
    "\n",
    "While the original notebook relies on local access to the data files and catalogues, this Data Lab modifed notebook loads the catalogs through a TAP service (using simple SQL queries), and accesses all needed data files (FITS files with 1-d and 2-d spectra, images, etc.) through the Data Lab file service for GOGREEN DR1."
   ]
  },
  {
   "cell_type": "markdown",
   "metadata": {},
   "source": [
    "# Table of contents\n",
    "* [Disclaimer & attribution](#attribution)\n",
    "* [Imports & Config](#imports)\n",
    "* [Jupyter & Pandas primer](#primer)\n",
    "* [File access at Data Lab](#fileaccess)\n",
    "* [Reading in catalogs from TAP](#tap)\n",
    "* [Merging tables](#merge)\n",
    "* [Plots](#plots)\n",
    "  * [Velocity dispersion vs redshift, dynamical mass vs redshfit](#plots-velocity)\n",
    "  * [UVJ colours with membership](#plots-colors)\n",
    "  * [Compare spectroscopic and photometric redshifts](#plots-compare-redshifts)\n",
    "  * [Redshift success](#plots-redshift-success)\n",
    "  * [Stellar mass and redshift distribution](#plots-mstar-zdistro)\n",
    "  * [Completeness plots](#plots-completeness)\n",
    "  * [Spectrum](#plots-spectrum)\n",
    "  * [Redshift success as a function of spectral SNR](#plots-redshift-success-vs-snr)\n",
    "  * [Redshift success Part II](#plots-redshift-success-2)\n",
    "  * [S/N as a function of magnitude for different populations of galaxies](#plots-snr-vs-mag)\n",
    "  * [Plot summary of object data](#plots-summary-object)"
   ]
  },
  {
   "cell_type": "markdown",
   "metadata": {},
   "source": [
    "<a class=\"anchor\" id=\"attribution\"></a>\n",
    "# Disclaimer & attribution\n",
    "\n",
    "Disclaimers\n",
    "-----------\n",
    "Note that using the Astro Data Lab constitutes your agreement with our minimal [Disclaimers](https://datalab.noirlab.edu/disclaimers.php).\n",
    "\n",
    "Acknowledgments\n",
    "---------------\n",
    "If you use **Astro Data Lab** in your published research, please include the text in your paper's Acknowledgments section:\n",
    "\n",
    "_This research uses services or data provided by the Astro Data Lab, which is part of the Community Science and Data Center (CSDC) Program of NSF NOIRLab. NOIRLab is operated by the Association of Universities for Research in Astronomy (AURA), Inc. under a cooperative agreement with the U.S. National Science Foundation._\n",
    "\n",
    "If you use **SPARCL jointly with the Astro Data Lab platform** (via JupyterLab, command-line, or web interface) in your published research, please include this text below in your paper's Acknowledgments section:\n",
    "\n",
    "_This research uses services or data provided by the SPectra Analysis and Retrievable Catalog Lab (SPARCL) and the Astro Data Lab, which are both part of the Community Science and Data Center (CSDC) Program of NSF NOIRLab. NOIRLab is operated by the Association of Universities for Research in Astronomy (AURA), Inc. under a cooperative agreement with the U.S. National Science Foundation._\n",
    "\n",
    "In either case **please cite the following papers**:\n",
    "\n",
    "* Data Lab concept paper: Fitzpatrick et al., \"The NOAO Data Laboratory: a conceptual overview\", SPIE, 9149, 2014, https://doi.org/10.1117/12.2057445\n",
    "\n",
    "* Astro Data Lab overview: Nikutta et al., \"Data Lab - A Community Science Platform\", Astronomy and Computing, 33, 2020, https://doi.org/10.1016/j.ascom.2020.100411\n",
    "\n",
    "If you are referring to the Data Lab JupyterLab / Jupyter Notebooks, cite:\n",
    "\n",
    "* Juneau et al., \"Jupyter-Enabled Astrophysical Analysis Using Data-Proximate Computing Platforms\", CiSE, 23, 15, 2021, https://doi.org/10.1109/MCSE.2021.3057097\n",
    "\n",
    "If publishing in a AAS journal, also add the keyword: `\\facility{Astro Data Lab}`\n",
    "\n",
    "And if you are using SPARCL, please also add `\\software{SPARCL}` and cite:\n",
    "\n",
    "* Juneau et al., \"SPARCL: SPectra Analysis and Retrievable Catalog Lab\", Conference Proceedings for ADASS XXXIII, 2024\n",
    "https://doi.org/10.48550/arXiv.2401.05576\n",
    "\n",
    "The NOIRLab Library maintains [lists of proper acknowledgments](https://noirlab.edu/science/about/scientific-acknowledgments) to use when publishing papers using the Lab's facilities, data, or services."
   ]
  },
  {
   "cell_type": "markdown",
   "metadata": {},
   "source": [
    "<a class=\"anchor\" id=\"imports\"></a>\n",
    "# Imports & Config"
   ]
  },
  {
   "cell_type": "code",
   "execution_count": null,
   "metadata": {},
   "outputs": [],
   "source": [
    "# std lib\n",
    "from io import BytesIO\n",
    "import gzip\n",
    "\n",
    "# 3rd party\n",
    "import numpy as np\n",
    "np.seterr(divide='ignore',invalid='ignore')\n",
    "\n",
    "import pandas as pd\n",
    "pd.set_option('display.max_columns', 500) # convenient for \n",
    "\n",
    "import matplotlib.pyplot as plt\n",
    "import matplotlib.ticker as plticker\n",
    "\n",
    "from astropy.io import fits, ascii\n",
    "from astropy import units as u\n",
    "from astropy.coordinates import SkyCoord\n",
    "from astropy.cosmology import FlatLambdaCDM\n",
    "cosmo = FlatLambdaCDM(H0=70, Om0=0.3) # define cosmology\n",
    "\n",
    "# Data Lab\n",
    "from dl import queryClient as qc, storeClient as sc"
   ]
  },
  {
   "cell_type": "markdown",
   "metadata": {},
   "source": [
    "<a class=\"anchor\" id=\"primer\"></a>\n",
    "# Jupyter & Pandas primer"
   ]
  },
  {
   "cell_type": "markdown",
   "metadata": {},
   "source": [
    "**Brief introduction to ipython notebooks/jupyter**\n",
    "\n",
    "See also: http://jupyter-notebook-beginner-guide.readthedocs.io/en/latest/\n",
    "Short video: https://www.youtube.com/watch?v=jZ952vChhuI\n",
    "\n",
    "Executing basics:\n",
    "    - There are two modes, command mode and edit mode. \n",
    "        - If you have selected a cell and see a cursor, you are in edit mode (the cell will be outlined in green). \n",
    "        - If the cell is outlined in blue, you are in command mode. \n",
    "        - To toggle between modes, hit escape, or click on the margin of the cell.\n",
    "\n",
    "    -  **************** Run a cell, in either mode: shift + enter ****************\n",
    "        - Notice that the cell number will change. Jupyter doesn't care what order the cells are in, it cares what order you execute them in. Pay attention to where you have defined variables.\n",
    "        \n",
    "    - Command mode has some shortcuts for the keys:\n",
    "        - x - cut. This is also delete, if you don't remember to paste. There are limited undo's under the Edit menu\n",
    "        - c - copy\n",
    "        - v - paste\n",
    "        \n",
    "    See tool bar for more options. Keyboard shortcuts listed in Help>Keyboard shortcuts (shortcut 'h')\n",
    "    \n",
    "Helpful tips:\n",
    "    You can check the requirements for a package by typing (for example)\n",
    "    > help(np.arange)\n",
    "    or \n",
    "    > np.arange? # this makes a popout window\n",
    "    \n",
    "    you can also use the tab key to see available options \n",
    "    > np.arange(<tab>\n",
    "    \n",
    "There are also multiple types of cells. This cell is a 'Raw NBConvert' type cell, which is not executable.\n",
    "    - code (y) - executable in python\n",
    "    - markdown (m) - renders markdown type, usefule for headings,tables,equations\n",
    "    - raw NBConvert (r) - non executable\n",
    "    - headings (1-6) - markdown with quick heading setup\n",
    "    \n",
    "    - you may accidentally switch cell types while in command mode. You can check the cell type from the drop down menu in the tool bar.\n",
    "\n",
    "\n"
   ]
  },
  {
   "cell_type": "markdown",
   "metadata": {},
   "source": [
    "**Brief introduction to pandas:**\n",
    "See also: https://pandas.pydata.org/ \n",
    "\n",
    "https://pandas.pydata.org/pandas-docs/stable/10min.html\n",
    "\n",
    "Pandas uses Series and DataFrame structures. It is much like astropy.table.Table, or numpy tables, but has convenient indexing which helps agaist misaligning columns/rows.\n",
    "\n",
    "When retrieve elements in a column, \n",
    "\n",
    "    column = table['column_header'] \n",
    "        (alternatively, table.column_header, if column_header is not also a key word)\n",
    "    this is a Series, which retains the indexing of the dataframe\n",
    "    \n",
    "    \n",
    "    to convert to an array:\n",
    "    column = table['column_header'].values\n",
    "    \n",
    "To access a specific row and column:\n",
    "\n",
    "    object = table.loc[row_index,'column_header']\n",
    "    \n",
    "To access all indices in the dataframe:\n",
    "\n",
    "    indices = table.index\n",
    "    \n",
    "Convenient functions:\n",
    "\n",
    "    table.query('column_header > 0')\n",
    "    returns a 'dataframe' slice, maintaining the index structure of the parent dataframe\n",
    "    \n",
    "    equivalent to, but cleaner than: table[table['column_header'] > 0]"
   ]
  },
  {
   "cell_type": "markdown",
   "metadata": {},
   "source": [
    "<a class=\"anchor\" id=\"fileaccess\"></a>\n",
    "# File access to GOGREEN DR1 data products at Data Lab"
   ]
  },
  {
   "cell_type": "markdown",
   "metadata": {},
   "source": [
    "All GOGREEN DR1 data products, in their original form, reside at Data Lab in a so-called file service, or \"public VOSpace\". To explore the file service and its contents, use the Data Lab `storeClient` (imported as `sc`):"
   ]
  },
  {
   "cell_type": "code",
   "execution_count": null,
   "metadata": {
    "tags": []
   },
   "outputs": [],
   "source": [
    "print(sc.services('gogreen_dr1'))"
   ]
  },
  {
   "cell_type": "markdown",
   "metadata": {},
   "source": [
    "To list the contents of the top-level directory, use the `storeClient.ls()` method:"
   ]
  },
  {
   "cell_type": "code",
   "execution_count": null,
   "metadata": {
    "tags": []
   },
   "outputs": [],
   "source": [
    "print(sc.ls('gogreen_dr1://',format='long'))"
   ]
  },
  {
   "cell_type": "markdown",
   "metadata": {},
   "source": [
    "To list subdirectories, you can simply do:"
   ]
  },
  {
   "cell_type": "code",
   "execution_count": null,
   "metadata": {},
   "outputs": [],
   "source": [
    "print(sc.ls('gogreen_dr1://SPECTROSCOPY/OneD',format='long'))"
   ]
  },
  {
   "cell_type": "markdown",
   "metadata": {},
   "source": [
    "In the remainder of this notebook, we will need a few directories repeatedly. Let's define them for convenience:"
   ]
  },
  {
   "cell_type": "code",
   "execution_count": null,
   "metadata": {},
   "outputs": [],
   "source": [
    "oneddir = 'gogreen_dr1://SPECTROSCOPY/OneD/'  # 1-d spectra\n",
    "twoddir = 'gogreen_dr1://SPECTROSCOPY/TwoD/'  # 2-d spectra\n",
    "imdir = 'gogreen_dr1://PHOTOMETRY/IMAGES/'    # photometry and images"
   ]
  },
  {
   "cell_type": "markdown",
   "metadata": {
    "heading_collapsed": true
   },
   "source": [
    "<a class=\"anchor\" id=\"tap\"></a>\n",
    "# Read in three main tables"
   ]
  },
  {
   "cell_type": "markdown",
   "metadata": {},
   "source": [
    "GOGREEN Data Release 1 contains three main catalogues:\n",
    "\n",
    "1. clusters -- Contains information about each of the 26 clusters\n",
    "2. redhsift -- Is the redshift catalogue, with one entry for each spectrum\n",
    "3. photo -- Is the merged photometric catalogue\n",
    "\n",
    "All three catalogues are loaded in the Data Lab TAP service as queryable tables. You can interact with the tables using the Data Lab `queryClient` (imported as `qc`). Here, let's list some information about the database (also called \"schema\"): "
   ]
  },
  {
   "cell_type": "code",
   "execution_count": null,
   "metadata": {},
   "outputs": [],
   "source": [
    "print(qc.schema('gogreen_dr1'))"
   ]
  },
  {
   "cell_type": "markdown",
   "metadata": {},
   "source": [
    "More information about each table:"
   ]
  },
  {
   "cell_type": "code",
   "execution_count": null,
   "metadata": {},
   "outputs": [],
   "source": [
    "for table in ('clusters','photo','redshift'):\n",
    "    print(qc.schema('gogreen_dr1.%s' % table))"
   ]
  },
  {
   "cell_type": "markdown",
   "metadata": {},
   "source": [
    "Each table can be queried using either SQL (Postgres flavor) or ADQL.\n",
    "For the purpose of this notebook we will query and load the entire tables."
   ]
  },
  {
   "cell_type": "markdown",
   "metadata": {},
   "source": [
    "First, the `clusters` table:\n",
    "\n",
    "(The Data Lab queryClient `query` method can convert the query result to various formats on the fly,\n",
    "e.g. to a Pandas data frame)"
   ]
  },
  {
   "cell_type": "code",
   "execution_count": null,
   "metadata": {},
   "outputs": [],
   "source": [
    "cluster_table = qc.query('select * from gogreen_dr1.clusters',fmt='pandas')\n",
    "print(\"Column names:\", cluster_table.columns)\n",
    "cluster_table.head(10)  # first 10 rows of the table"
   ]
  },
  {
   "cell_type": "markdown",
   "metadata": {},
   "source": [
    "Next, the `photo` table:"
   ]
  },
  {
   "cell_type": "code",
   "execution_count": null,
   "metadata": {},
   "outputs": [],
   "source": [
    "phot_table = qc.query('select * from gogreen_dr1.photo',fmt='pandas')\n",
    "print(\"Column names:\", phot_table.columns)\n",
    "phot_table.head(10)  # first 10 rows of the table"
   ]
  },
  {
   "cell_type": "markdown",
   "metadata": {},
   "source": [
    "And finally, the `redshift` table:"
   ]
  },
  {
   "cell_type": "code",
   "execution_count": null,
   "metadata": {},
   "outputs": [],
   "source": [
    "redshift_table = qc.query('select * from gogreen_dr1.redshift',fmt='pandas')\n",
    "print(\"Column names:\", redshift_table.columns)\n",
    "redshift_table.head(10)  # first 10 rows of the table"
   ]
  },
  {
   "cell_type": "markdown",
   "metadata": {},
   "source": [
    "<a class=\"anchor\" id=\"merge\"></a>\n",
    "# Merge tables\n",
    "\n",
    "Let's now merge the `photo` and `redshift` tables, using the `specid` and `cluster` columns.\n",
    "This will return a table that has photometric information (if available) for every object in the redshift catalogue."
   ]
  },
  {
   "cell_type": "code",
   "execution_count": null,
   "metadata": {
    "tags": []
   },
   "outputs": [],
   "source": [
    "cols_to_use"
   ]
  },
  {
   "cell_type": "code",
   "execution_count": null,
   "metadata": {
    "ExecuteTime": {
     "end_time": "2020-07-27T18:19:59.048158Z",
     "start_time": "2020-07-27T18:19:58.253317Z"
    },
    "hidden": true
   },
   "outputs": [],
   "source": [
    "# this way avoids duplicate columns (ie dont need to specify suffixes)\n",
    "merge_col = ['specid']\n",
    "cols_to_use = phot_table.columns.difference(redshift_table.columns).tolist() + merge_col\n",
    "matched_table = pd.merge(redshift_table, phot_table[cols_to_use], how='left', \\\n",
    "                         left_on=['specid'], right_on=merge_col )\n",
    "merge_col = ['cluster']\n",
    "\n",
    "# Here attach suffix _c to distinguish between galaxy values (Redshift) and cluster values (Redshift_c)\n",
    "matched_table = pd.merge(matched_table, cluster_table, how='left', \\\n",
    "                         left_on=['cluster'], right_on=merge_col, suffixes=['','_c'] )\n",
    "print(\"Column names:\", matched_table.columns.values)\n",
    "matched_table.head(20)  # show the first 20 rows of the matched table"
   ]
  },
  {
   "cell_type": "markdown",
   "metadata": {},
   "source": [
    "<a class=\"anchor\" id=\"plots\"></a>\n",
    "# Sample plots"
   ]
  },
  {
   "cell_type": "markdown",
   "metadata": {
    "heading_collapsed": true
   },
   "source": [
    "<a class=\"anchor\" id=\"plots-velocity\"></a>\n",
    "## Velocity dispersion vs redshift, dynamical mass vs redshfit\n",
    "\n",
    "Generate two plots:  redshift and dynamical mass as a function of redshift for each cluster in the sample.  Similar to Figure 1 in the DR paper."
   ]
  },
  {
   "cell_type": "code",
   "execution_count": null,
   "metadata": {
    "hidden": true
   },
   "outputs": [],
   "source": [
    "zred, sigma, sigma_err, cluster_id = cluster_table[['redshift','vdisp','vdisp_err','cluster_id']].values.T\n",
    "\n",
    "groups = np.where( (cluster_id == 13) | (cluster_id == 14) )\n",
    "sparcs = np.where( ((cluster_id>3) & (cluster_id<13)) | (cluster_id>14) )\n",
    "spt = np.where( (cluster_id<=3) )\n",
    "\n",
    "fig, ax = plt.subplots(figsize=(8,8))\n",
    "\n",
    "ax.errorbar( zred[groups], sigma[groups], sigma_err[groups], fmt='o', ms=15, label='COSMOS/SXDF', c='b')\n",
    "ax.errorbar( zred[sparcs], sigma[sparcs], sigma_err[sparcs], fmt='x', ms=15, label='SpARCS', c='k')\n",
    "ax.errorbar( zred[spt], sigma[spt], sigma_err[spt], fmt='*', ms=15, label='SPT', c='r')\n",
    "ax.legend()\n",
    "ax.set_xlim(0.8,1.5)\n",
    "ax.set_ylim(0,1499)\n",
    "ax.set_ylabel('Velocity Dispersion (km/s)')\n",
    "ax.set_xlabel('Redshift')\n",
    "fig.show()\n",
    "\n",
    "(Saro_A,Saro_B,Saro_C) = (939,2.91,0.33)\n",
    "hz = cosmo.H(zred)\n",
    "h70 = hz.value / 100.\n",
    "lSaro_Mass = 15. + Saro_B * np.log10( sigma / (Saro_A*h70**Saro_C) )\n",
    "dM = Saro_B * sigma_err / sigma / (np.log(10))\n",
    "\n",
    "fig, ax = plt.subplots(figsize=(8,8))\n",
    "ax.errorbar(zred[groups], lSaro_Mass[groups], dM[groups], fmt='o', ms=15, label='COSMOS/SXDF', c='b')\n",
    "ax.errorbar(zred[sparcs], lSaro_Mass[sparcs], dM[sparcs], fmt='x', ms=15, label='SpARCS', c='k')\n",
    "ax.errorbar(zred[spt], lSaro_Mass[spt], dM[spt], fmt='*', ms=15, label='SPT', c='r')\n",
    "ax.set_xlim(0.8,1.5)\n",
    "ax.set_ylim(12.1,15.49)\n",
    "ax.set_ylabel(r'log$_{10} (M_{\\rm dyn}/M_\\odot)$ ')\n",
    "ax.set_xlabel('Redshift')\n",
    "fig.show()"
   ]
  },
  {
   "cell_type": "markdown",
   "metadata": {
    "heading_collapsed": true
   },
   "source": [
    "<a class=\"anchor\" id=\"plots-colors\"></a>\n",
    "## UVJ colours with membership\n",
    "\n",
    "Generate Figure 2:  UVJ diagram showing spectroscopic members and nonmembers"
   ]
  },
  {
   "cell_type": "code",
   "execution_count": null,
   "metadata": {
    "hidden": true
   },
   "outputs": [],
   "source": [
    "bin_range = ([0,1.8],[0.2,2.2])\n",
    "cmap = 'gray_r'\n",
    "\n",
    "# use full photometric catalogue\n",
    "selection = '(zphot>0.8) & (zphot<1.5) & (mstellar>10**9.5) & (mstellar<10**12)'\n",
    "UminV,VminJ,photz,mass = phot_table.query(selection)[['uminv','vminj','zphot','mstellar']].values.T\n",
    "lmass = np.log10(mass)\n",
    "\n",
    "selection = '(redshift_quality>2) & (redshift>=0.8) & (redshift<=1.5)'\n",
    "UminVspec,VminJspec,mem = matched_table.query(selection)[['uminv','vminj','member']].values.T\n",
    "\n",
    "# Show in greyscale all galaxies with stellar mass between 9.5 and 12, and photo-z between 0.8 and 1.5\n",
    "Nbins = 20\n",
    "N,xedges,yedges = np.histogram2d( VminJ, UminV, bins=Nbins, range=bin_range)\n",
    "N = N.T\n",
    "xcenters = (xedges[:-1] + xedges[1:]) / 2\n",
    "ycenters = (yedges[:-1] + yedges[1:]) / 2\n",
    "X, Y = np.meshgrid(xedges, yedges)\n",
    "\n",
    "fig,ax=plt.subplots(1,1,figsize=(13,13))\n",
    "\n",
    "field = ax.imshow(N, interpolation='nearest', origin='lower',cmap=cmap,vmin=0,vmax=800,extent=[xedges[0], xedges[-1], yedges[0], yedges[-1]])\n",
    "\n",
    "ax.scatter(VminJspec, UminVspec, c='yellow', edgecolor='k', alpha=1, s=25, label='Spectroscopic non-members')\n",
    "\n",
    "ax.scatter(VminJspec[mem==1], UminVspec[mem==1], c='red', edgecolor='k', alpha=1, s=25, label='Cluster members')\n",
    "\n",
    "ax.legend()\n",
    "ax.set_ylim(0.2,2.2)\n",
    "ax.set_xlim(0,1.8)\n",
    "ax.set_xlabel(\"(V-J)\")\n",
    "ax.set_ylabel(\"(U-V)\")\n",
    "fig.show()"
   ]
  },
  {
   "cell_type": "markdown",
   "metadata": {
    "heading_collapsed": true
   },
   "source": [
    "<a class=\"anchor\" id=\"plots-compare-redshifts\"></a>\n",
    "##  Compare spectroscopic and photometric redshifts\n",
    "Generate Figure 4:  Difference between specz and photoz "
   ]
  },
  {
   "cell_type": "code",
   "execution_count": null,
   "metadata": {
    "code_folding": [
     0
    ],
    "hidden": true
   },
   "outputs": [],
   "source": [
    "def zspeczphot(qflag1=3, qflag2=10):\n",
    "    selection = '(zphot>0) & (redshift>=0.7) & (redshift<=1.5) & (redshift_quality>={}) & (redshift_quality<={})'.format(qflag1, qflag2)\n",
    "    zspec, zphot, uminv, vminj = matched_table.query(selection)[['redshift','zphot','uminv','vminj']].values.T\n",
    "    \n",
    "    quiescent = np.where( (vminj<1.5) & (uminv>1.3) & (uminv>vminj*0.88+0.59))\n",
    "    dz = (zspec-zphot)/(1.+zspec)\n",
    "    outlier = np.where(np.abs(dz) > 0.15)\n",
    "    good = np.where(np.abs(dz) <= 0.15)\n",
    "    N = np.size(zspec)\n",
    "    Noutlier = np.size(zspec[outlier])\n",
    "    print ('Outliers: {:.4f}'.format(Noutlier*1./N))\n",
    "    print ('rms:  {:.4f}'.format(np.std(dz[good])))\n",
    "    \n",
    "    fig,ax = plt.subplots(figsize=(8,5))\n",
    "    ax.scatter(zspec, dz, c='k', marker='o')\n",
    "    ax.scatter(zspec[quiescent], dz[quiescent], c='r')\n",
    "    \n",
    "    if (qflag1 == qflag2): label = 'Redshift Quality = {}'.format(qflag1)\n",
    "    else: label = '{}<Redshift Quality<{}'.format(qflag1,qflag2)\n",
    "    ax.text(0.05,0.05, label, transform=ax.transAxes, fontsize=20)\n",
    "\n",
    "    ax.set_xlim(0.8,1.5)\n",
    "    ax.set_ylim(-0.5,0.5)\n",
    "    ax.set_ylabel(r'(z$_{\\rm spec}$-z$_{\\rm phot}$)/(1+z$_{\\rm spec}$)')\n",
    "    ax.set_xlabel('Spectroscopic Redshift')\n",
    "    fig.show()\n",
    "    \n",
    "zspeczphot(qflag1=2, qflag2=2)\n",
    "zspeczphot(qflag1=3, qflag2=3)\n",
    "zspeczphot(qflag1=4, qflag2=4)"
   ]
  },
  {
   "cell_type": "markdown",
   "metadata": {},
   "source": [
    "<a class=\"anchor\" id=\"plots-redshift-success\"></a>\n",
    "## Redshift success\n",
    "Similar to Figure 7 in the paper, showing the fraction of good redshifts as a function of magnitude and photometric redshift, for galaxies with S/N>1 at 8500A.  Note the paper used S/N measured at 8600A so is slightly different.  Further along in this notebook we will calculate S/N at other wavelengths and then recreate Fig 7 exactly."
   ]
  },
  {
   "cell_type": "code",
   "execution_count": null,
   "metadata": {},
   "outputs": [],
   "source": [
    "snrlim = 1.0\n",
    "zp = np.array([(0,0.8),(0.8,1.5),(1.5,3)])\n",
    "colours = np.array(['blue','green','k','red','magenta'])\n",
    "lines = np.array(['dashed','solid','dotted'])\n",
    "nbins = 10\n",
    "\n",
    "gogreen_select = (matched_table['objclass']==1)  & (matched_table['snr_8500_var']>snrlim) & (matched_table['spec_flag']<2)\n",
    "goodz = (matched_table['redshift_quality']>=3)\n",
    "fig = plt.figure(figsize=(8,5))\n",
    "ax = fig.add_subplot(1,1,1)\n",
    "cindex = -1\n",
    "mag = -2.5*np.log10(matched_table['z_tot'])+25\n",
    "zphot = matched_table['zphot']\n",
    "for (z1,z2) in zp:\n",
    "    cindex = cindex+1\n",
    "    zselect = (zphot>z1) & (zphot<=z2)\n",
    "    zall,bins = np.histogram(mag[gogreen_select & zselect],bins=nbins,range=(21,25))\n",
    "    zgood,bins = np.histogram(mag[gogreen_select & goodz & zselect],bins=nbins,range=(21,25))\n",
    "    xmid = 0.5*(bins[1:]+bins[:-1])\n",
    "\n",
    "    select = np.where(zall>5)\n",
    "    plt.plot(xmid[select],zgood[select].astype('float')/zall[select],label=str(z1)+\"<z<\"+str(z2),c=colours[cindex],linestyle=lines[cindex])\n",
    "    \n",
    "plt.xlabel(r\"Total z$\\prime$ Magnitude (AB)\")\n",
    "plt.legend()\n",
    "plt.ylabel(\"Fraction of good redshifts\")\n",
    "ax.axis([22,24.25,0.,1.0])"
   ]
  },
  {
   "cell_type": "markdown",
   "metadata": {},
   "source": [
    "<a class=\"anchor\" id=\"plots-mstar-zdistro\"></a>\n",
    "## Stellar mass and redshift distribution\n",
    "Figure 9 in Data Release paper"
   ]
  },
  {
   "cell_type": "code",
   "execution_count": null,
   "metadata": {},
   "outputs": [],
   "source": [
    "select = '(redshift_quality>{})'.format(2)\n",
    "redshift,mass,UV,VJ=phot_table.query(select)[['zspec','mstellar','uminv','vminj']].values.T\n",
    "lmass=np.log10(mass)\n",
    "Quiescent=((VJ<1.5) & (UV>1.3) & (UV>VJ*0.88+0.59))\n",
    "fig,ax=plt.subplots(figsize=(8,5))\n",
    "ax.scatter(redshift,lmass,c='k',marker='o')\n",
    "ax.scatter(redshift[Quiescent],lmass[Quiescent],c='r')\n",
    "ax.set_xlim(0.8,1.5)\n",
    "ax.set_ylim(8.5,11.99)\n",
    "cm=cluster_table['redshift']*0+11.8\n",
    "ax.scatter(cluster_table['redshift'],cm,marker='v',c='green',s=50)\n",
    "ax.set_ylabel(r'Stellar Mass (M$_\\odot$)')\n",
    "ax.set_xlabel('Redshift')"
   ]
  },
  {
   "cell_type": "markdown",
   "metadata": {},
   "source": [
    "<a class=\"anchor\" id=\"plots-completeness\"></a>\n",
    "## Completeness plots\n",
    "Figure 11 in Data Release paper"
   ]
  },
  {
   "cell_type": "code",
   "execution_count": null,
   "metadata": {},
   "outputs": [],
   "source": [
    "# Define range of stellar masses and log(dr_phys) to plot\n",
    "range=([9.5,11.2],[-1,0.2])\n",
    "# Number of bins in each dimension\n",
    "Nbins=(5,4)\n",
    "photzrange=0.1\n",
    "# To look at a single cluster by name\n",
    "#clusters=np.array(['SpARCS1634'])\n",
    "# To look at a range of clusters selected by cluster_id\n",
    "#selection = '(cluster_id>={}) & (cluster_id<{}) '.format(1,2)\n",
    "#clusters=cluster_table.query(selection)['cluster']\n",
    "# To combine all clusters:\n",
    "clusters=None\n",
    "cmap='jet'\n",
    "cnt=0\n",
    "\n",
    "phot_table['lmstellar']=np.log10(phot_table['mstellar'])\n",
    "if clusters is None: clusters=cluster_table['cluster']\n",
    "for cluster in clusters:\n",
    "    cselection = '(cluster==\"{}\")'.format(cluster)\n",
    "    cluster_z,cluster_RA,cluster_DEC=cluster_table.query(cselection)[['redshift','ra_best','dec_best']].values.T\n",
    "    clusterpos=SkyCoord(ra=cluster_RA*u.deg,dec=cluster_DEC*u.deg,frame='icrs')\n",
    "    print (cluster,cluster_z)\n",
    "    cnt+=1\n",
    "    # This doesn't match what is in the paper.  Need l68 and u68.\n",
    "    phot_table['dz_u']=phot_table['zphot_u68']-cluster_z\n",
    "    phot_table['dz_l']=phot_table['zphot_l68']-cluster_z\n",
    "    photselect='(lmstellar>{}) & (lmstellar<{}) & (dz_l<0) & (dz_u>0) & (star<{})'.format(range[0][0],range[0][1],1)\n",
    "    specselect='(lmstellar>{}) & (lmstellar<{}) & (dz_l<0) & (dz_u>0) & (star<{}) & (redshift_quality>={})'.format(range[0][0],range[0][1],1,3)\n",
    "    catpos=SkyCoord(ra=phot_table.query(photselect)['ra'].values.T*u.deg,dec=phot_table.query(photselect)['dec'].values.T*u.deg,frame='icrs') \n",
    "    UV=phot_table.query(photselect)['uminv'].values.T\n",
    "    VJ=phot_table.query(photselect)['vminj'].values.T\n",
    "    ZQ=phot_table.query(photselect)['redshift_quality'].values.T\n",
    "    masses=phot_table.query(photselect)['lmstellar'].values.T\n",
    "\n",
    "    dr=catpos.separation(clusterpos)\n",
    "    DA=cosmo.angular_diameter_distance(cluster_z)\n",
    "    dr_phys=dr.radian*DA\n",
    "    dr_phys=np.log10(dr_phys.value+0.0001)\n",
    "\n",
    "    withspec=(ZQ>=3)\n",
    "    Quiescent=((VJ<1.5) & (UV>1.3) & (UV>VJ*0.88+0.59))\n",
    "    # Bin by radius and stellar mass\n",
    "    N,xedges,yedges=np.histogram2d(masses,dr_phys,bins=Nbins,range=range)\n",
    "    Nq,xqedges,yqedges=np.histogram2d(masses[Quiescent],dr_phys[Quiescent],bins=Nbins,range=range)\n",
    "\n",
    "    Ns,xedges,yedges=np.histogram2d(masses[withspec],dr_phys[withspec],bins=Nbins,range=range)\n",
    "    Nqs,xqedges,yqedges=np.histogram2d(masses[withspec & Quiescent],dr_phys[withspec & Quiescent],bins=Nbins,range=range)\n",
    "\n",
    "    # There's certainly a more elegant way to do this but I don't know what it is.\n",
    "    if (cnt==1):\n",
    "        Ntotal=N.T\n",
    "        Nqtotal=Nq.T\n",
    "        Nstotal=Ns.T\n",
    "        Nqstotal=Nqs.T\n",
    "    else:\n",
    "        Ntotal+=N.T\n",
    "        Nqtotal+=Nq.T\n",
    "        Nstotal+=Ns.T\n",
    "        Nqstotal+=Nqs.T\n",
    "xcenters = (xedges[:-1] + xedges[1:]) / 2\n",
    "ycenters = (yedges[:-1] + yedges[1:]) / 2\n",
    "X, Y = np.meshgrid(xedges, yedges)\n",
    "fig,(ax1,ax2,ax3) = plt.subplots(1,3,figsize=(13,4),sharey=True,sharex=True)\n",
    "cbax=fig.add_axes([0.91,0.16,0.02,0.72])\n",
    "fig.subplots_adjust(wspace=0.04,bottom=0.16)\n",
    "#print (Ntotal,Nstotal)\n",
    "#print (Nqtotal,Nqstotal)\n",
    "H=Nstotal/Ntotal\n",
    "Hq=Nqstotal/Nqtotal\n",
    "HSF=(Nstotal-Nqstotal)/(Ntotal-Nqtotal)\n",
    "all=ax1.imshow(H, interpolation='nearest', origin='lower',cmap=cmap,vmin=0,vmax=1,extent=[xedges[0], xedges[-1], yedges[0], yedges[-1]])\n",
    "ax1.set_aspect('auto')\n",
    "ax1.set_title('All galaxy types')\n",
    "Q=ax2.imshow(Hq, interpolation='nearest', origin='lower',cmap=cmap,vmin=0,vmax=1,extent=[xedges[0], xedges[-1], yedges[0], yedges[-1]])\n",
    "ax2.set_aspect('auto')\n",
    "ax2.set_title('Quiescent')\n",
    "SF=ax3.imshow(HSF, interpolation='nearest', origin='lower',cmap=cmap,vmin=0,vmax=1,extent=[xedges[0], xedges[-1], yedges[0], yedges[-1]])\n",
    "ax3.set_aspect('auto')\n",
    "ax3.set_title('Star-forming')\n",
    "ax1.set_ylabel(r\"Log $\\Delta$R (Mpc)\",labelpad=15)\n",
    "ax2.set_xlabel(r\"Log Stellar Mass ($M_\\odot$)\")\n",
    "fig.colorbar(all,cax=cbax)\n",
    "fig.set_tight_layout(False)\n",
    "fig.show()"
   ]
  },
  {
   "cell_type": "markdown",
   "metadata": {},
   "source": [
    "## The following scripts require access to more than just the main catalogues"
   ]
  },
  {
   "cell_type": "markdown",
   "metadata": {
    "heading_collapsed": true
   },
   "source": [
    "<a class=\"anchor\" id=\"plots-spectrum\"></a>\n",
    "## Plot spectrum\n",
    "This requires access to the 1D spectra, in SPECTROSCOPY/OneD"
   ]
  },
  {
   "cell_type": "code",
   "execution_count": null,
   "metadata": {
    "hidden": true
   },
   "outputs": [],
   "source": [
    "# Here I'm going to query the dataframe to find an object, and eventually pull up its spectrum\n",
    "obj = redshift_table.query('(cluster == \"{}\") & (extver == {})'.format('SpARCS0219', 1))\n",
    "print(obj)"
   ]
  },
  {
   "cell_type": "code",
   "execution_count": null,
   "metadata": {
    "tags": []
   },
   "outputs": [],
   "source": [
    "obj"
   ]
  },
  {
   "cell_type": "code",
   "execution_count": null,
   "metadata": {
    "code_folding": [
     0,
     10
    ],
    "hidden": true
   },
   "outputs": [],
   "source": [
    "def get_wavelength_from_hdu(hdr):\n",
    "    \"\"\"\n",
    "    get_wavelength_from_hdu(hdr)\n",
    "\n",
    "    :param hdu: Fits table header\n",
    "\n",
    "    Reads 'CRVAL1' 'NAXIS1' and 'CD1_1' to compute wavelength coverage\n",
    "    \"\"\"\n",
    "    return np.arange(hdr['CRVAL1'], hdr['CRVAL1']+hdr['NAXIS1']*hdr['CD1_1'], hdr['CD1_1'])\n",
    "\n",
    "def get_spectrum(hdu, extver, units='fl', return_frame='observed', redshift=0., objclass=None, bounds=None):\n",
    "    \"\"\"\n",
    "    get_spec(hdu, index, index_var, z=0., scale=1.e-15, bounds=None, units='Fl')\n",
    "\n",
    "    :param hdu:       Fits table hdu object\n",
    "    :param index:     Extension of science frame\n",
    "    :param index_var: Extension of variance frame\n",
    "    :param return_frame:  What frame to return the wavelength units in. If 'rest', a redshift is required.\n",
    "    :param redshift:  Redshift of galaxy to convert to rest-frame, if redshift = 0 returns observed-frame\n",
    "    :param units:     Units of output spectrum, case insensitive\n",
    "\n",
    "    :type units:      string, \"Fl\" or \"Jy\"\n",
    "    :returns:         wavelengths, the spectrum, and the variance\n",
    "\n",
    "    Access spectrum from fits file, convert to specified units in rest frame\n",
    "\n",
    "    Note: Input spectrum must be in units erg cm^-2 s^-1 A^-1\n",
    "    Note: Header values must give wavelength in Angstroms\n",
    "    \"\"\"\n",
    "    import astropy.units as u\n",
    "\n",
    "    extver = int(extver)\n",
    "\n",
    "    units = units.lower()\n",
    "    assert units in ['fl','maggies','fnu'], 'Error, units must be \"Fl\" or \"maggies\"'\n",
    "    return_frame = return_frame.lower()\n",
    "    assert return_frame in ['rest','observed'], 'Error, return_frame must be either \"rest\" or \"observed\"'\n",
    "\n",
    "    scale = hdu['SCI',extver].header['FLUXSCAL']\n",
    "    spec = hdu['SCI',extver].data / scale\n",
    "    var = hdu['VAR',extver].data / scale**2\n",
    "    lam = get_wavelength_from_hdu(hdu['SCI',extver].header)\n",
    "\n",
    "    if objclass==4:\n",
    "        spec, var = fix_bad_gclass_spec(lam, spec, var, bounds, frame='observed', redshift=redshift)\n",
    "\n",
    "    if return_frame == 'rest': # convert from observed to rest wavelength\n",
    "        assert redshift >= 0, 'ERROR: redshift must be positive, is {}'.format(redshift)\n",
    "        from astropy.cosmology import WMAP9 as cosmo\n",
    "\n",
    "        dl = (cosmo.luminosity_distance(redshift).to(u.pc).value / 10.)**(-2)\n",
    "        spec *= (1. + redshift) / dl\n",
    "        var *= ((1. + redshift) / dl)**2\n",
    "        lam /= (1. + redshift)\n",
    "\n",
    "    if units == \"maggies\":\n",
    "        convers = (3.34e4 * lam**2)/3631.\n",
    "        spec *= convers\n",
    "        var *= convers**2\n",
    "    elif units == \"fnu\":\n",
    "        convers = (3.34e4 * lam**2)\n",
    "        spec *= convers\n",
    "        var *= convers**2\n",
    "\n",
    "    return lam, spec, var\n"
   ]
  },
  {
   "cell_type": "code",
   "execution_count": null,
   "metadata": {
    "hidden": true
   },
   "outputs": [],
   "source": [
    "# dataframes often work better when you know its index. \n",
    "# Add '.index' at the end to return a 'list' of the indices that match your query\n",
    "obj = redshift_table.query('(cluster==\"{}\") & (specid == {})'.format('SpARCS0219', 105000004))\n",
    "obj_index = obj.index.values[0] # take the first index value\n",
    "\n",
    "# Open the fits table and get the spectrum in the observed frame\n",
    "# This code is written with a few options: \n",
    "#       return_frame = observed or rest (need a redshfit)\n",
    "#       units = Fl or Maggies \n",
    "\n",
    "#print(sc.ls('gogreen_dr1://SPECTROSCOPY/OneD',format='long'))\n",
    "\n",
    "fits_path = oneddir + 'SpARCS0219_final.fits'\n",
    "\n",
    "#with fits.open(fits_path) as hdu:\n",
    "with fits.open(BytesIO(sc.get(fits_path))) as hdu:\n",
    "    lam, spec, var = get_spectrum(hdu, redshift_table.loc[obj_index,'extver'], return_frame='observed') # get observed frame spectra\n"
   ]
  },
  {
   "cell_type": "code",
   "execution_count": null,
   "metadata": {
    "hidden": true
   },
   "outputs": [],
   "source": [
    "fig, ax = plt.subplots(1,1, figsize=(16,4))\n",
    "ax.step(lam, spec, color='k', where='mid', lw=0.5)\n",
    "ax.fill_between(lam, spec+np.sqrt(var), spec-np.sqrt(var), alpha=1, color='limegreen', step='mid')\n",
    "ax.set(xlabel='Observed wavelength', ylabel='Flux', yscale='linear', \n",
    "       xlim=[0.99*np.min(lam), np.max(lam)/0.99])\n",
    "plt.show()"
   ]
  },
  {
   "cell_type": "markdown",
   "metadata": {},
   "source": [
    "<a class=\"anchor\" id=\"plots-redshift-success-vs-snr\"></a>\n",
    "## Redshift success as a function of spectral SNR\n",
    "Fig 6 in Data Release paper.  Requires measuring the S/N at different wavelengths.\n",
    "First, a routine to calculate the S/N at different wavelengths, and save it to a file.  We can either take the noise from the VAR array (SNR_VAR) or measure the RMS in the spectrum at the wavelength of interest (SNR_RMS)"
   ]
  },
  {
   "cell_type": "code",
   "execution_count": null,
   "metadata": {},
   "outputs": [],
   "source": [
    "def recalcSNR(snr_central=np.arange(8000,9801,200),dwave=200):\n",
    "    oldcluster = 'None'\n",
    "    outfilename = 'SNR.txt'\n",
    "    outfile = open(outfilename,\"w+\")\n",
    "    outfile.write(\"#Cluster EXTVER SPECID \")\n",
    "    for w in snr_central:\n",
    "        outfile.write(\"SNR_\"+str(w)+\"_VAR SNR_\"+str(w)+\"_RMS \")\n",
    "    outfile.write(\"\\n\")\n",
    "    for i in np.arange(np.size(redshift_table['specid'])):\n",
    "        if i % 500 == 0:\n",
    "            print(i)\n",
    "        cluster = redshift_table['cluster'][i]\n",
    "        ext = redshift_table['extver'][i]\n",
    "        specid = redshift_table['specid'][i]\n",
    "        if cluster != oldcluster:\n",
    "            try:\n",
    "                MEF.close()\n",
    "            except:\n",
    "                pass\n",
    "            oldcluster = cluster\n",
    "            onedfile = oneddir + cluster + '_final.fits'\n",
    "            MEF = fits.open(BytesIO(sc.get(onedfile)))  # getting raw bytes from the file service via sc.get()\n",
    "            #MEF = fits.open(onedfile)\n",
    "        signal = MEF['sci',ext].data\n",
    "        variance = MEF['var',ext].data\n",
    "        header = MEF['sci',ext].header\n",
    "        crval1 = header['CRVAL1']\n",
    "        crpix1 = header['CRPIX1']\n",
    "        cd1_1 = header['CD1_1']\n",
    "        outfile.write(\"%s %d %d \" % (cluster,ext,specid))\n",
    "        for w in snr_central:\n",
    "            wave=np.array([w-dwave,w+dwave])\n",
    "            pix=((wave-crval1)/cd1_1+crpix1).astype(int)\n",
    "            snr_var=np.average(signal[pix[0]:pix[1]]/np.sqrt(variance[pix[0]:pix[1]]))        \n",
    "            if ((np.std(signal[pix[0]:pix[1]]))>0):\n",
    "                snr_rms=np.average(signal[pix[0]:pix[1]])/np.std(signal[pix[0]:pix[1]])\n",
    "            else:\n",
    "                snr_rms=0\n",
    "            outfile.write(\"%f %f \" % (snr_var,snr_rms))\n",
    "        outfile.write(\"\\n\")\n",
    "    outfile.close()"
   ]
  },
  {
   "cell_type": "code",
   "execution_count": null,
   "metadata": {},
   "outputs": [],
   "source": [
    "recalcSNR()"
   ]
  },
  {
   "cell_type": "markdown",
   "metadata": {},
   "source": [
    "<a class=\"anchor\" id=\"plots-redshift-success-2\"></a>\n",
    "## Redshift success Part II\n",
    "Now we can make Figure 7 in the paper, by restricting to galaxies with S/N>1 at 9600 A. "
   ]
  },
  {
   "cell_type": "code",
   "execution_count": null,
   "metadata": {},
   "outputs": [],
   "source": [
    "snrlim = 1.0\n",
    "snrwave = 9600\n",
    "zp = np.array([(0,0.8),(0.8,1.5),(1.5,3)])\n",
    "colours = np.array(['blue','green','k','red','magenta'])\n",
    "lines = np.array(['dashed','solid','dotted'])\n",
    "nbins = 10\n",
    "\n",
    "#snrfile=catdir+'SNR.txt'\n",
    "snrfile = 'SNR.txt'\n",
    "snrdata = ascii.read(snrfile)\n",
    "snr_rms = snrdata['SNR_'+str(snrwave)+'_RMS']\n",
    "snr_var = snrdata['SNR_'+str(snrwave)+'_VAR']\n",
    "gogreen_select = (matched_table['objclass']==1)  & (snr_var>snrlim) & (matched_table['spec_flag']<2)\n",
    "goodz = (matched_table['redshift_quality']>=3)\n",
    "fig = plt.figure(figsize=(8,6))\n",
    "ax = fig.add_subplot(1,1,1)\n",
    "cindex = -1\n",
    "mag = -2.5*np.log10(matched_table['z_tot'])+25\n",
    "zphot = matched_table['zphot']\n",
    "for (z1,z2) in zp:\n",
    "    cindex = cindex+1\n",
    "    zselect = (zphot>z1) & (zphot<=z2)\n",
    "    zall,bins = np.histogram(mag[gogreen_select & zselect],bins=nbins,range=(21,25))\n",
    "    zgood,bins = np.histogram(mag[gogreen_select & goodz & zselect],bins=nbins,range=(21,25))\n",
    "    xmid = 0.5*(bins[1:]+bins[:-1])\n",
    "\n",
    "    select = np.where(zall>5)\n",
    "    plt.plot(xmid[select],zgood[select].astype('float')/zall[select],label=str(z1)+\"<z<\"+str(z2),c=colours[cindex],linestyle=lines[cindex])\n",
    "    \n",
    "plt.xlabel(r\"Total z$\\prime$ Magnitude (AB)\")\n",
    "plt.legend()\n",
    "plt.ylabel(\"Fraction of good redshifts\")\n",
    "ax.axis([22,24.25,0.,1.0])"
   ]
  },
  {
   "cell_type": "markdown",
   "metadata": {},
   "source": [
    "<a class=\"anchor\" id=\"plots-snr-vs-mag\"></a>\n",
    "# S/N as a function of magnitude for different populations of galaxies\n",
    "Fig 3 in the Data release paper"
   ]
  },
  {
   "cell_type": "code",
   "execution_count": null,
   "metadata": {},
   "outputs": [],
   "source": [
    "snrwave = 9600\n",
    "snrfile = 'SNR.txt'\n",
    "snrdata = ascii.read(snrfile)\n",
    "snr_rms = snrdata['SNR_'+str(snrwave)+'_RMS']\n",
    "snr_var = snrdata['SNR_'+str(snrwave)+'_VAR']\n",
    "zmag = -2.5*np.log10(matched_table['z_tot'])+25\n",
    "flags = matched_table['spec_flag']\n",
    "gogreen_select = (matched_table['objclass']==1) \n",
    "gclass_select = (matched_table['objclass']==4)\n",
    "goodz = (matched_table['redshift_quality']>=3)\n",
    "\n",
    "fig, ax = plt.subplots(figsize=(8,6))\n",
    "ax.scatter(zmag[gclass_select & goodz],snr_rms[gclass_select & goodz],c='k',s=5,marker='s')\n",
    "ax.scatter(zmag[gogreen_select],snr_rms[gogreen_select],c='g',marker='.',s=2)\n",
    "ax.scatter(zmag[gogreen_select & goodz],snr_rms[gogreen_select & goodz],c='g',s=10)\n",
    "snlim = (snr_rms>1.0)\n",
    "x1 = zmag[goodz & snlim]\n",
    "x2 = zmag[goodz]\n",
    "m1 = 21\n",
    "m2 = 24.5\n",
    "ax.axis([m1,m2,0.1,15])\n",
    "y1 = 9\n",
    "y2 = (10.**(-(m2-m1)/2.5))*y1\n",
    "plt.plot((m1,m2),(y1,y2))\n",
    "ax.set_yscale('log')\n",
    "ax.get_yaxis().set_major_formatter(plticker.ScalarFormatter())\n",
    "plt.ylabel(\"S/N per pixel at \"+str(int(snrwave))+r\"$\\mathrm{\\AA}$\")\n",
    "plt.xlabel(r\"Total z$\\prime$ Magnitude (AB)\")\n",
    "fig.show()"
   ]
  },
  {
   "cell_type": "code",
   "execution_count": null,
   "metadata": {},
   "outputs": [],
   "source": [
    "# Specify an array of wavelengths at which you want to measure S/N.  Must correspond to entries in SNR.txt, generated above.\n",
    "snrwave = np.array([8400,9600])\n",
    "nbins = 15\n",
    "colours = np.array(['k','red','blue','green'])\n",
    "lines = np.array(['solid','dotted','dashed'])\n",
    "snrfile = 'SNR.txt'\n",
    "snrdata = ascii.read(snrfile)\n",
    "flags = matched_table['spec_flag']\n",
    "VJ = matched_table['vminj']\n",
    "UV = matched_table['uminv']\n",
    "Quiescent = (VJ<1.5) & (UV>1.3) & (UV>VJ*0.88+0.59)\n",
    "zphot = matched_table['zphot']\n",
    "gogreen_select = (matched_table['objclass']==1) & (flags<2) \n",
    "goodz = (matched_table['redshift_quality']>=3)  \n",
    "fig = plt.figure(figsize=(8,6))\n",
    "ax = fig.add_subplot(1,1,1)\n",
    "cindex = -1\n",
    "for snr in snrwave:\n",
    "    cindex = cindex+1\n",
    "    snr_var = snrdata['SNR_'+str(snr)+'_VAR']\n",
    "    zall_var,bins = np.histogram(np.log10(snr_var[gogreen_select]),bins=nbins,range=(-1,1))\n",
    "    zgood_var,bins = np.histogram(np.log10(snr_var[gogreen_select & goodz]),bins=nbins,range=(-1,1))\n",
    "    xmid = 0.5*(bins[1:]+bins[:-1])\n",
    "    ok = np.where(zall_var>10)\n",
    "    plt.semilogx(10.**xmid[ok],zgood_var[ok].astype('float')/zall_var[ok],label=\"%d Å, All\" % snr,c='k',linestyle=lines[cindex])\n",
    "    zall_var,bins = np.histogram(np.log10(snr_var[gogreen_select & Quiescent]),bins=nbins,range=(-1,1))\n",
    "    zgood_var,bins = np.histogram(np.log10(snr_var[gogreen_select & goodz & Quiescent]),bins=nbins,range=(-1,1))\n",
    "    xmid = 0.5*(bins[1:]+bins[:-1])\n",
    "    ok = np.where(zall_var>10)\n",
    "    plt.semilogx(10.**xmid[ok],zgood_var[ok].astype('float')/zall_var[ok],label=\"%d Å, Quiescent\" % snr,c='red',linestyle=lines[cindex])\n",
    "plt.xlabel(r\"S/N per pixel\")\n",
    "plt.legend()\n",
    "ax.get_xaxis().set_major_formatter(plticker.ScalarFormatter())\n",
    "plt.ylabel(\"Fraction of good redshifts\")\n",
    "plt.tick_params(which='major', length=8,top='on', bottom='on', left='on', right='on')\n",
    "plt.tick_params(which='minor', length=5,top='on', bottom='on', left='on', right='on')\n",
    "ax.axis([0.4,10.1,0.,1.0])\n",
    "fig.show()"
   ]
  },
  {
   "cell_type": "markdown",
   "metadata": {},
   "source": [
    "<a class=\"anchor\" id=\"plots-summary-object\"></a>\n",
    "## Plot summary of object data\n",
    "Here is another example of a routine that will plot the 1D and 2D spectrum, together with the I-band image and some other information, for a given object.  To plot the image it nees access to the PHOTOMETRY/IMAGES/ directory, but it should run without it (you just won't get the image)"
   ]
  },
  {
   "cell_type": "code",
   "execution_count": null,
   "metadata": {
    "ExecuteTime": {
     "end_time": "2020-07-27T18:20:03.374676Z",
     "start_time": "2020-07-27T18:20:03.315693Z"
    },
    "code_folding": [
     0,
     19,
     45,
     48,
     78,
     105,
     110,
     113,
     119
    ]
   },
   "outputs": [],
   "source": [
    "def markline(ax, name, wavelength, location, ll, y, y1, y2):\n",
    "    # adds an annotation with vertical line and label\n",
    "    doline = True\n",
    "    assert location.lower() in ['below','above'], 'Error: \"location\" must be either \"below\" or \"above\"'\n",
    "    try:\n",
    "        range2 = np.where((ll>wavelength*0.995) & (ll<wavelength*1.005) & (y>0))\n",
    "        s1 = np.min(y[range2])\n",
    "        s2 = np.max(y[range2])\n",
    "    except:\n",
    "        doline = False\n",
    "    if doline:\n",
    "        gap = 0.25*(y2-y1)\n",
    "        if location == 'below':\n",
    "            textpos = s1-gap\n",
    "        elif location == 'above':\n",
    "            textpos = s2+gap\n",
    "        ax.annotate(name, xy=(wavelength, s2), xytext=(wavelength,textpos), \\\n",
    "                    arrowprops=dict(facecolor='black', shrink=0.05, width=1, headwidth=0))\n",
    "\n",
    "def plotspecinspect(table, obj_index,filter='I'):\n",
    "    import matplotlib.patches as patches\n",
    "    import matplotlib.transforms as transforms\n",
    "    import matplotlib.ticker as plticker\n",
    "    import matplotlib.gridspec as gridspec\n",
    "\n",
    "    from astropy import wcs\n",
    "    from astropy.convolution import convolve, Box1DKernel\n",
    "\n",
    "    import os\n",
    "    \n",
    "    # make variables of file names\n",
    "    cluster = table.loc[obj_index,'cluster']\n",
    "    onedfile = oneddir + cluster + '_final.fits'\n",
    "    twodfile = twoddir + cluster + '_twod.fits.gz'\n",
    "    imname = table.loc[obj_index,'image_'+filter].rstrip()\n",
    "    cdirname = cluster.replace('SPT','SPTCL-').replace('SpARCS','SpARCS-')\n",
    "    image = imdir + cdirname + '/' + imname + '.fits'\n",
    "    imageaccess=True\n",
    "    \n",
    "    if sc.stat(image) == {}:\n",
    "        image = image + '.gz'\n",
    "        \n",
    "    if sc.stat(image) == {}:\n",
    "        print ('No image file ',image)\n",
    "        imageaccess=False\n",
    "        \n",
    "    # Get some key information for this object and assign to useful variable names\n",
    "    # To use the position from the spectroscopy catalogue (image may not align precisely with overlaid slit position)\n",
    "    #    cols = ['SPECID','EXTVER','Redshift','zphot','Redshift_Quality','RA(J2000)','DEC(J2000)','OBJClass','PA_deg','z_tot','SNR_8500_VAR']\n",
    "    # To use position from the photometric catalogue\n",
    "    cols = ['specid','extver','redshift','zphot','redshift_quality','ra','dec','objclass','pa_deg','z_tot','snr_8500_var']\n",
    "    specid, ext, zspec, zphot, Quality, ra, dec, objclass, pa, z_tot, snr_target = table.loc[obj_index,cols].values.T\n",
    "    radec = np.array([[ra,dec]])\n",
    "    usephotoz = False # if redshfit quality below 3, use photmetric redshift instead\n",
    "    \n",
    "    zmag_target = -2.5 * np.log10(z_tot)+25\n",
    "    \n",
    "    if (Quality<3) & ~np.isnan(zphot): # check redshift quality, if <3 use phot (if exists)\n",
    "        zred = zphot\n",
    "        usephotoz = True\n",
    "    else: \n",
    "        zred = zspec\n",
    "    \n",
    "    # Create figure\n",
    "    fig = plt.figure(constrained_layout=True, figsize=(4*4, 4*3))\n",
    "    gs = gridspec.GridSpec(ncols=4, nrows=3, figure=fig, height_ratios=[1,1,0.8])\n",
    "    ax1 = fig.add_subplot(gs[0, 0])\n",
    "    ax2 = fig.add_subplot(gs[0, 1])\n",
    "    ax3 = fig.add_subplot(gs[0, 2:])\n",
    "    ax4 = fig.add_subplot(gs[1, :])\n",
    "    ax5 = fig.add_subplot(gs[2, :])\n",
    "    \n",
    "    ##############################\n",
    "    # 1 - Information panel\n",
    "    info = '\\n'.join([ 'SPECID = {}','ZMAG = {:.1f}','SNR = {:.2f}','OBJCLASS = {}','z = {:.3f}'])\n",
    "    info = info.format(specid, zmag_target, snr_target, objclass, zred)\n",
    "    if usephotoz: info += '\\nUzing photz'\n",
    "    else: info += '\\nz_Q = {}'.format(Quality)\n",
    "    \n",
    "    ax1.axis('off')\n",
    "    ax1.text(x=0, y=0, s=info, fontsize=20)\n",
    "    \n",
    "    \n",
    "    ##############################\n",
    "    # 2 - Postage stamp from preimage\n",
    "    if imageaccess:\n",
    "        # Open file\n",
    "        if image.endswith('.fits'):\n",
    "            imagedat = fits.open(BytesIO(sc.get(image)))\n",
    "        elif image.endswith('.fits.gz'):\n",
    "            imagedat = fits.open(gzip.GzipFile(fileobj=BytesIO(sc.get(image))))\n",
    "        \n",
    "        try: \n",
    "            im = imagedat[1].data\n",
    "            im_header = imagedat[1].header\n",
    "        except:\n",
    "            im = imagedat[0].data\n",
    "            im_header = imagedat[0].header\n",
    "            \n",
    "        imagedat.close()\n",
    "        \n",
    "        # from pixel scale, calculate CCD scale\n",
    "        imagewcs = wcs.WCS(im_header)\n",
    "        im_xscale = (np.abs(im_header['CD1_1'])+np.abs(im_header['CD1_2']))*3600\n",
    "        im_yscale = (np.abs(im_header['CD2_1'])+np.abs(im_header['CD2_2']))*3600\n",
    "        im = im-np.median(im)\n",
    "        pixels = imagewcs.wcs_world2pix(radec,0)\n",
    "        yccd, xccd = pixels[0][0], pixels[0][1]\n",
    "\n",
    "        # Create postage stamp of galaxy\n",
    "        defstampsize = 5 / im_xscale * np.array([1,1])\n",
    "        ximage = [int(np.max([xccd-defstampsize[0]/2+.5,0])),int(np.min([xccd+defstampsize[0]/2+.5,np.shape(im)[0]]))]\n",
    "        yimage = [int(np.max([yccd-defstampsize[1]/2+.5,0])),int(np.min([yccd+defstampsize[1]/2+.5,np.shape(im)[1]]))]\n",
    "        centralstampsize = 1 / im_xscale * np.array([1,1])\n",
    "        xcent = [int(np.max([xccd-centralstampsize[0]/2+.5,0])),int(np.min([xccd+centralstampsize[0]/2+.5,np.shape(im)[0]]))]\n",
    "        ycent = [int(np.max([yccd-centralstampsize[1]/2+.5,0])),int(np.min([yccd+centralstampsize[1]/2+.5,np.shape(im)[1]]))]\n",
    "        xstamp = xccd-ximage[0]\n",
    "        ystamp = yccd-yimage[0]\n",
    "\n",
    "        ax2.axis('off')\n",
    "        try:\n",
    "            im_sub = im[ximage[0]:ximage[1],yimage[0]:yimage[1]]\n",
    "            minval = np.nanmin(im_sub)\n",
    "            maxval = np.nanmax(im[xcent[0]:xcent[1],ycent[0]:ycent[1]])\n",
    "            ax2.imshow(im_sub, vmax=0.99*maxval, vmin=minval, cmap=plt.get_cmap('gray'))\n",
    "        except:\n",
    "            pass\n",
    "        # rectangle: xy=(), width, height\n",
    "        rect = patches.Rectangle(\n",
    "            (xstamp-1/2./im_xscale, ystamp-2.25/im_yscale),\n",
    "            1/im_xscale,\n",
    "            4.5/im_yscale,\n",
    "            fill=False,\n",
    "            edgecolor='red')\n",
    "        obj = patches.Rectangle(\n",
    "            (xstamp-1./2./im_xscale, ystamp-0.775/im_yscale),\n",
    "            1/im_xscale,\n",
    "            1.55/im_yscale,\n",
    "            fill=False,\n",
    "            edgecolor='yellow')\n",
    "        t = transforms.Affine2D().rotate_deg_around(xstamp,ystamp,pa)\n",
    "        rect.set_transform(t + ax2.transData)\n",
    "        obj.set_transform(t + ax2.transData)\n",
    "        ax2.add_patch(rect)\n",
    "        ax2.add_patch(obj)\n",
    "        ax2.scatter(xstamp,ystamp,marker = 'x')\n",
    "        ax2.set_xlim(0,int(defstampsize[0]))\n",
    "        ax2.set_ylim(0,int(defstampsize[1]))\n",
    "    \n",
    "    \n",
    "    ##############################\n",
    "    # 3 - SNR vs ZMAG\n",
    "    ztots, snrs = matched_table.query('objclass==1')[['z_tot','snr_8500_var']].values.T\n",
    "    zmags = -2.5*np.log10(ztots) + 25\n",
    "    \n",
    "    ax3.scatter(zmags, snrs, facecolor='none', edgecolor='k', s=50)\n",
    "    ax3.scatter(zmag_target, snr_target, c='r', s=50)\n",
    "    ax3.set_yscale('log')\n",
    "    ax3.get_yaxis().set_major_formatter(plticker.ScalarFormatter())\n",
    "    ax3.set_ylim(0.2,10)\n",
    "    ax3.set_xlim(20,24.5)\n",
    "    ax3.set_ylabel(\"S/N @ 850nm\")\n",
    "    ax3.set_xlabel(\"ZMAG\")\n",
    "    \n",
    "    ##############################\n",
    "    ##### 4 - OneD spectrum\n",
    "    \n",
    "    # open file\n",
    "    with fits.open(BytesIO(sc.get(onedfile))) as onedspec:  # reading file from the file service\n",
    "        mdf = onedspec['mdf',1].data\n",
    "        spectrum = onedspec['sci',ext].data\n",
    "        header_primary = onedspec[0].header\n",
    "        \n",
    "        hd = onedspec['sci',ext].header\n",
    "        var = onedspec['var',ext].data\n",
    "        unc = np.sqrt( var )\n",
    "        \n",
    "    # calculate wavelength array\n",
    "    pix = np.arange(1,hd['naxis1']+1)\n",
    "    ll = hd['crval1']+(pix-hd['crpix1'])*hd['cd1_1']\n",
    "    \n",
    "    smoothed = convolve(spectrum,Box1DKernel(5)) # smooth spectrum, just for plotting purposes\n",
    "\n",
    "    ax4.fill_between(ll, spectrum-unc, spectrum+unc, color='yellow', step='mid' )\n",
    "    ax4.step(ll, spectrum, c='gray', where='mid')\n",
    "    ax4.step(ll, smoothed, c='k', where='mid')\n",
    "    ax4.set_xlim(ll[0],ll[-1])\n",
    "    y1 = np.nanmean(spectrum[:-200])-2.*np.nanstd(spectrum[:-200])\n",
    "    y2 = np.nanmean(spectrum[:-200])+5.*np.nanstd(spectrum[:-200])\n",
    "\n",
    "    ax4.set_ylim(y1,y2)\n",
    "    ax4.set_xlabel(\"Observed frame wavelength (A)\")\n",
    "\n",
    "    # add markers of spectral features\n",
    "    tax4 = ax4.twiny()\n",
    "    llz = ll/(1.+zred)\n",
    "\n",
    "    tax4.set_xlim(llz[0], llz[-1])\n",
    "    tax4.set_xlabel(\"Rest frame wavelength (A)\")\n",
    "    y1 = np.max([1.e-3,np.min(smoothed)])\n",
    "    y2 = 1.2*np.max(smoothed)\n",
    "    \n",
    "    for label,wl,placement in [['MgII',2800,'above'],\n",
    "                               ['[OII]',3727,'below'],\n",
    "                               ['H$\\delta$',4102,'above'],\n",
    "                               ['',4341,'above'],\n",
    "                               ['H',3970,'above'],\n",
    "                               ['',3889,'above'],\n",
    "                               ['',3835,'above'],\n",
    "                               [\"\",3797,'above'],\n",
    "                               ['',3770,'above'],\n",
    "                               ['CaK',3934,'above'],\n",
    "                               ['G',4300,'above'],\n",
    "                               ['FeII',2586,'above'],\n",
    "                               ['',2600,'above'],\n",
    "                               ['FeII',2374,'above'],\n",
    "                               ['',2382.76,'above'],\n",
    "                               ['FeII',2344,'above'],\n",
    "                               ['MgI',2850,'above']]:\n",
    "        \n",
    "        markline(tax4, label,wl,placement, llz, smoothed, y1, y2)\n",
    "\n",
    "    ##############################\n",
    "    ##### 4 - TwoD spectrum sky-subtracted slid with trace\n",
    "    \n",
    "    # Open 2D spectrum if it exists\n",
    "    twodexists = True\n",
    "    # Reading raw bits from the file service via sc.get(),\n",
    "    # then into a BytesIO object (behaves like a file in RAM),\n",
    "    # then unzipping it with gzip,\n",
    "    # and finally opening it with astropy.io.fits\n",
    "    with fits.open(gzip.GzipFile(fileobj=BytesIO(sc.get(twodfile)))) as twodspec:\n",
    "\n",
    "        try:\n",
    "            twod = twodspec['sci',ext].data\n",
    "        except:\n",
    "            twodexists = False    \n",
    "\n",
    "    if twodexists:\n",
    "        maxval = 0.99*np.nanmax(np.abs(np.nanmedian(twod[2:8,950:1100],1)))\n",
    "        if (maxval<= 0):\n",
    "            maxval = 0.99*np.nanmax(np.abs(np.nanmedian(twod,1)))\n",
    "        extent = [ll[0],ll[-1],1,20]\n",
    "        ax5.imshow(twod[:,:], extent=extent, origin='lower', aspect=10, vmax=maxval, vmin=-maxval, cmap=plt.get_cmap('gray'))\n",
    "        ax5.set_xlim(ll[0],ll[-1])\n",
    "        ax5.set_xlabel(\"Observed frame wavelength (A)\")\n",
    "        \n",
    "\n",
    "    fig.show()"
   ]
  },
  {
   "cell_type": "markdown",
   "metadata": {},
   "source": [
    "Here's an example of how to use this to generate plots for objects selected based on their cluster, redshift quality and z magnitude. By default this i plotting the I-band image but you can change this by specifying a different filter suffix."
   ]
  },
  {
   "cell_type": "code",
   "execution_count": null,
   "metadata": {
    "ExecuteTime": {
     "end_time": "2020-07-27T18:20:12.179110Z",
     "start_time": "2020-07-27T18:20:05.552330Z"
    },
    "tags": []
   },
   "outputs": [],
   "source": [
    "cluster = 'SPT0205'\n",
    "image_filter='i'\n",
    "zmaglim = np.array([23.5, 23.0])\n",
    "zfluxlim = 10.**(-0.4*(zmaglim-25.))\n",
    "\n",
    "#objs = matched_table.query('(SPECID==\"{}\")'.format(211060584))\n",
    "objs = matched_table.query('(cluster==\"{}\") & (redshift_quality == {}) & (z_tot >= {}) & (z_tot <= {})'.format(cluster, 4,zfluxlim[0],zfluxlim[1]))\n",
    "\n",
    "for obj_index in objs.index.values:\n",
    "    print ('Generating plot for specid ',matched_table.loc[obj_index,'specid'])\n",
    "    plotspecinspect(matched_table,obj_index,filter=image_filter)     \n",
    "    #break"
   ]
  }
 ],
 "metadata": {
  "kernelspec": {
   "display_name": "conda_py311",
   "language": "python",
   "name": "conda_py311"
  },
  "language_info": {
   "codemirror_mode": {
    "name": "ipython",
    "version": 3
   },
   "file_extension": ".py",
   "mimetype": "text/x-python",
   "name": "python",
   "nbconvert_exporter": "python",
   "pygments_lexer": "ipython3",
   "version": "3.11.11"
  },
  "toc": {
   "base_numbering": 1,
   "nav_menu": {},
   "number_sections": true,
   "sideBar": true,
   "skip_h1_title": false,
   "title_cell": "Table of Contents",
   "title_sidebar": "Contents",
   "toc_cell": false,
   "toc_position": {},
   "toc_section_display": true,
   "toc_window_display": false
  }
 },
 "nbformat": 4,
 "nbformat_minor": 4
}
